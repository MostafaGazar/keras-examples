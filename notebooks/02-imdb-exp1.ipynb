{
 "cells": [
  {
   "cell_type": "markdown",
   "metadata": {},
   "source": [
    "Check running TensorFlow version"
   ]
  },
  {
   "cell_type": "code",
   "execution_count": 1,
   "metadata": {},
   "outputs": [
    {
     "data": {
      "text/plain": [
       "'2.0.0-beta1'"
      ]
     },
     "execution_count": 1,
     "metadata": {},
     "output_type": "execute_result"
    }
   ],
   "source": [
    "import tensorflow as tf\n",
    "tf.__version__"
   ]
  },
  {
   "cell_type": "markdown",
   "metadata": {},
   "source": [
    "# Sentiment movie reviews classification\n",
    "\n",
    "This is a binary classification problem (2 classes, negative and positive). \n",
    "\n",
    "The dataset I will use is [IMDB reviews](https://ai.stanford.edu/~amaas/data/sentiment/), it contains a set of 25,000 highly polar movie reviews for training, and 25,000 for testing.\n",
    "\n",
    "I will use a basic dense model to start with and find out how well it performs on this dataset. 1D conv, LSTM, GRU, Bidirectional are stuff I can try later."
   ]
  },
  {
   "cell_type": "code",
   "execution_count": 2,
   "metadata": {},
   "outputs": [],
   "source": [
    "from tensorflow.keras import datasets\n",
    "from tensorflow.keras import layers\n",
    "from tensorflow.keras.models import Sequential\n",
    "from tensorflow.keras.preprocessing.sequence import pad_sequences\n",
    "\n",
    "import matplotlib.pyplot as plt\n",
    "%matplotlib inline\n",
    "\n",
    "import random as rand\n",
    "\n",
    "import numpy as np"
   ]
  },
  {
   "cell_type": "markdown",
   "metadata": {},
   "source": [
    "## Load IMDB review and get familiar with it"
   ]
  },
  {
   "cell_type": "code",
   "execution_count": 3,
   "metadata": {},
   "outputs": [],
   "source": [
    "vocab_size = 10000\n",
    "(train_x, train_y), (test_x, test_y) = datasets.imdb.load_data(num_words=vocab_size)"
   ]
  },
  {
   "cell_type": "code",
   "execution_count": 4,
   "metadata": {},
   "outputs": [
    {
     "data": {
      "text/plain": [
       "((25000,), (25000,))"
      ]
     },
     "execution_count": 4,
     "metadata": {},
     "output_type": "execute_result"
    }
   ],
   "source": [
    "train_x.shape, train_y.shape"
   ]
  },
  {
   "cell_type": "code",
   "execution_count": 5,
   "metadata": {},
   "outputs": [
    {
     "data": {
      "text/plain": [
       "((25000,), (25000,))"
      ]
     },
     "execution_count": 5,
     "metadata": {},
     "output_type": "execute_result"
    }
   ],
   "source": [
    "test_x.shape, test_y.shape"
   ]
  },
  {
   "cell_type": "markdown",
   "metadata": {},
   "source": [
    "Load the word index dictionary and reverse a few triaing strings\n",
    "\n",
    "Note: the indices are offset by 3 because 0, 1, and 2 are reserved indices for \"padding\", \"start of sequence\", and \"unknown\"."
   ]
  },
  {
   "cell_type": "code",
   "execution_count": 6,
   "metadata": {},
   "outputs": [],
   "source": [
    "word_index = datasets.imdb.get_word_index()\n",
    "word_index_reversed = {v: k for k, v in word_index.items()}"
   ]
  },
  {
   "cell_type": "code",
   "execution_count": 7,
   "metadata": {},
   "outputs": [],
   "source": [
    "translate_sentence = lambda sentence : \" \".join([word_index_reversed.get(word - 3, '?') for word in sentence])"
   ]
  },
  {
   "cell_type": "code",
   "execution_count": 8,
   "metadata": {},
   "outputs": [
    {
     "name": "stdout",
     "output_type": "stream",
     "text": [
      "the first cruel intentions the original is my favorite movie of all time it was an absolute masterpiece so how on earth could they make a sequel so downright bad sarah michelle ? was perfect in the first movie in this one amy adams sucks she is terrible and couldn't they have found a chick who actually looked like sarah michelle ? at least the same hair color i mean come on robin ? isn't as bad as adams but he is absolutely terrible when compared to ryan ? the sebastian in the first film is ? ? and much more evil than the sebastian in the prequel and what is up with the story line it basically goes like this br br 1 sebastian has a bad ? at his first school so the movie says although it mentions nothing about him and his dating life and how he has been with girls 2 sebastian moves to new york and just suddenly decides he's going to turn himself around he falls in love with ? might i remind you that in the original sarah michelle ? says quote you broke up with the first person you ever loved because i said to so how can he have been in love in the prequel and he's all nice and charming and all good person as he turns down sex from the chick his dad was doing br br 3 he does a complete ? and ends up in a ? at the end of the movie and then ? ? br br i mean its terrible and i loved the first one so much i haven't even seen the third one yet i hope to god its better than this prequel\n",
      "\n",
      "well overall this movie was pretty much worthless and it's basically a horror movie that ended up being more of a comedy i just rented this movie last night when me and my friends went to blockbuster looking for a scary movie this definitely wasn't what we were looking for but it satisfied us for humor the actors in this movie especially brandon are so fake that it's funny and especially that tracy girl whenever she's in the ? up room telling the clown to go away they show almost no emotion and it's just so obvious that they're acting and also when the clown is looking through that black box paper thing and grabs mark he doesn't even look like he's scared even though the clown like grabbed him and started attacking him and seriously would you just be ? if you were being chased down i'd be ? for my life even though anyone could probably ? that clown because he's like 300 ? not to mention that the effects aren't that great like whenever the clown chops off ? head in the forest then whenever he throws her head into the ? up room with denise and tracy whenever denise throws the head back over also like in the previous guy's comment the beginning makes absolutely no sense and i don't even see why it was even included in the movie so what was this movie made in 2003 the music made it sound like it was made in like the 1980's and the camera ing doesn't even really look professional half of the time it seems like the camera can't even stay steady when it's suppose to be overall i'd have to say i enjoyed the movie i wouldn't recommend it though if you're trying to find something to scare you but if you're looking for something to maybe make fun of or get a laugh out of i'd recommend it for sure\n",
      "\n"
     ]
    }
   ],
   "source": [
    "random_indecies = rand.choices(list(range(train_x.shape[0])), k=2)\n",
    "\n",
    "for index in random_indecies:\n",
    "    sentence = translate_sentence(train_x[index][1:])\n",
    "    print(sentence, end=\"\\n\\n\")"
   ]
  },
  {
   "cell_type": "markdown",
   "metadata": {},
   "source": [
    "## Check how balanced the data is"
   ]
  },
  {
   "cell_type": "code",
   "execution_count": 9,
   "metadata": {},
   "outputs": [
    {
     "data": {
      "text/plain": [
       "{1: 12500, 0: 12500}"
      ]
     },
     "execution_count": 9,
     "metadata": {},
     "output_type": "execute_result"
    }
   ],
   "source": [
    "from collections import Counter\n",
    "\n",
    "labels_counter = Counter(list(map(int, train_y)))\n",
    "labels_counter = {k: v for k, v in labels_counter.items()}\n",
    "labels_counter"
   ]
  },
  {
   "cell_type": "markdown",
   "metadata": {},
   "source": [
    "## Pad the training and test data\n",
    "\n",
    "Because of input data is of different sizes, I will set a max length limit on them or pad them if their length was shorter than max length"
   ]
  },
  {
   "cell_type": "code",
   "execution_count": 10,
   "metadata": {},
   "outputs": [],
   "source": [
    "max_length = 200\n",
    "\n",
    "# Default :: , padding='pre', truncating='pre'\n",
    "train_x = pad_sequences(train_x, maxlen=max_length)\n",
    "test_x = pad_sequences(test_x, maxlen=max_length)"
   ]
  },
  {
   "cell_type": "code",
   "execution_count": 11,
   "metadata": {},
   "outputs": [
    {
     "data": {
      "text/plain": [
       "((25000, 200), (25000, 200))"
      ]
     },
     "execution_count": 11,
     "metadata": {},
     "output_type": "execute_result"
    }
   ],
   "source": [
    "train_x.shape, test_x.shape"
   ]
  },
  {
   "cell_type": "markdown",
   "metadata": {},
   "source": [
    "## Train"
   ]
  },
  {
   "cell_type": "code",
   "execution_count": 12,
   "metadata": {},
   "outputs": [
    {
     "name": "stdout",
     "output_type": "stream",
     "text": [
      "Model: \"sequential\"\n",
      "_________________________________________________________________\n",
      "Layer (type)                 Output Shape              Param #   \n",
      "=================================================================\n",
      "embedding (Embedding)        (None, 200, 32)           320000    \n",
      "_________________________________________________________________\n",
      "global_average_pooling1d (Gl (None, 32)                0         \n",
      "_________________________________________________________________\n",
      "dense (Dense)                (None, 16)                528       \n",
      "_________________________________________________________________\n",
      "dense_1 (Dense)              (None, 1)                 17        \n",
      "=================================================================\n",
      "Total params: 320,545\n",
      "Trainable params: 320,545\n",
      "Non-trainable params: 0\n",
      "_________________________________________________________________\n"
     ]
    }
   ],
   "source": [
    "model = Sequential()\n",
    "model.add(layers.Embedding(vocab_size, 32, input_length=max_length))\n",
    "model.add(layers.GlobalAveragePooling1D())  # 3% better than using Flatten layer\n",
    "\n",
    "model.add(layers.Dense(16, activation='relu'))  # More Dense layers with GlobalAveragePooling1D did not improve or worsen the model\n",
    "\n",
    "# Try l2 and dropout regularizers\n",
    "\n",
    "# l2 regularizer\n",
    "# model.add(layers.Dense(16, kernel_regularizer=regularizers.l2(.001), activation='relu'))\n",
    "\n",
    "# Dropout regularizer\n",
    "# model.add(layers.Dense(16, activation='relu'))\n",
    "# model.add(layers.Dropout(0.5))\n",
    "# model.add(layers.Dense(16, activation='relu'))\n",
    "# model.add(layers.Dropout(0.5))\n",
    "\n",
    "model.add(layers.Dense(1, activation='sigmoid'))\n",
    "model.summary()"
   ]
  },
  {
   "cell_type": "code",
   "execution_count": 13,
   "metadata": {},
   "outputs": [],
   "source": [
    "model.compile(optimizer='rmsprop', loss='binary_crossentropy', metrics=['accuracy'])"
   ]
  },
  {
   "cell_type": "code",
   "execution_count": 14,
   "metadata": {},
   "outputs": [
    {
     "name": "stderr",
     "output_type": "stream",
     "text": [
      "WARNING: Logging before flag parsing goes to stderr.\n",
      "W0822 13:36:47.993658 4478498240 deprecation.py:323] From /Users/mostafagazar/anaconda3/envs/py3/lib/python3.6/site-packages/tensorflow/python/ops/math_grad.py:1250: add_dispatch_support.<locals>.wrapper (from tensorflow.python.ops.array_ops) is deprecated and will be removed in a future version.\n",
      "Instructions for updating:\n",
      "Use tf.where in 2.0, which has the same broadcast rule as np.where\n"
     ]
    },
    {
     "name": "stdout",
     "output_type": "stream",
     "text": [
      "Train on 20000 samples, validate on 5000 samples\n",
      "Epoch 1/10\n",
      "20000/20000 [==============================] - 1s 48us/sample - loss: 0.6749 - accuracy: 0.7087 - val_loss: 0.6461 - val_accuracy: 0.7586\n",
      "Epoch 2/10\n",
      "20000/20000 [==============================] - 1s 30us/sample - loss: 0.6068 - accuracy: 0.8005 - val_loss: 0.5630 - val_accuracy: 0.8112\n",
      "Epoch 3/10\n",
      "20000/20000 [==============================] - 1s 34us/sample - loss: 0.5118 - accuracy: 0.8403 - val_loss: 0.4720 - val_accuracy: 0.8452\n",
      "Epoch 4/10\n",
      "20000/20000 [==============================] - 1s 35us/sample - loss: 0.4177 - accuracy: 0.8665 - val_loss: 0.3976 - val_accuracy: 0.8542\n",
      "Epoch 5/10\n",
      "20000/20000 [==============================] - 1s 34us/sample - loss: 0.3454 - accuracy: 0.8812 - val_loss: 0.3501 - val_accuracy: 0.8662\n",
      "Epoch 6/10\n",
      "20000/20000 [==============================] - 1s 33us/sample - loss: 0.2952 - accuracy: 0.8929 - val_loss: 0.3195 - val_accuracy: 0.8726\n",
      "Epoch 7/10\n",
      "20000/20000 [==============================] - 1s 32us/sample - loss: 0.2606 - accuracy: 0.9028 - val_loss: 0.3127 - val_accuracy: 0.8706\n",
      "Epoch 8/10\n",
      "20000/20000 [==============================] - 1s 32us/sample - loss: 0.2356 - accuracy: 0.9121 - val_loss: 0.2957 - val_accuracy: 0.8820\n",
      "Epoch 9/10\n",
      "20000/20000 [==============================] - 1s 31us/sample - loss: 0.2161 - accuracy: 0.9198 - val_loss: 0.2931 - val_accuracy: 0.8818\n",
      "Epoch 10/10\n",
      "20000/20000 [==============================] - 1s 32us/sample - loss: 0.2000 - accuracy: 0.9263 - val_loss: 0.2890 - val_accuracy: 0.8834\n"
     ]
    },
    {
     "data": {
      "text/plain": [
       "dict_keys(['loss', 'accuracy', 'val_loss', 'val_accuracy'])"
      ]
     },
     "execution_count": 14,
     "metadata": {},
     "output_type": "execute_result"
    }
   ],
   "source": [
    "history = model.fit(x=train_x, y=train_y, validation_split=0.2, shuffle=True, batch_size=256, epochs=10)\n",
    "history.history.keys()"
   ]
  },
  {
   "cell_type": "code",
   "execution_count": 15,
   "metadata": {},
   "outputs": [
    {
     "data": {
      "image/png": "[encoded data removed]",
      "text/plain": [
       "<Figure size 1440x720 with 2 Axes>"
      ]
     },
     "metadata": {
      "needs_background": "light"
     },
     "output_type": "display_data"
    }
   ],
   "source": [
    "fig = plt.figure(figsize=(20, 10))\n",
    "\n",
    "plt.subplot(1, 2, 1)\n",
    "plt.plot(history.history['accuracy'])\n",
    "plt.plot(history.history['val_accuracy'])\n",
    "plt.title('Model accuracy')\n",
    "plt.ylabel('accuracy')\n",
    "plt.xlabel('epoch')\n",
    "plt.legend(['train', 'validation'], loc='upper left')\n",
    "\n",
    "plt.subplot(1, 2, 2)\n",
    "plt.plot(history.history['loss'])\n",
    "plt.plot(history.history['val_loss'])\n",
    "plt.title('Model loss')\n",
    "plt.ylabel('loss')\n",
    "plt.xlabel('epoch')\n",
    "plt.legend(['train', 'validation'], loc='upper left')\n",
    "\n",
    "plt.show()"
   ]
  },
  {
   "cell_type": "markdown",
   "metadata": {},
   "source": [
    "## Evaluate"
   ]
  },
  {
   "cell_type": "code",
   "execution_count": 16,
   "metadata": {},
   "outputs": [
    {
     "name": "stdout",
     "output_type": "stream",
     "text": [
      "25000/25000 [==============================] - 1s 20us/sample - loss: 0.2954 - accuracy: 0.8775\n"
     ]
    },
    {
     "data": {
      "text/plain": [
       "(0.2953742971992493, 0.87752)"
      ]
     },
     "execution_count": 16,
     "metadata": {},
     "output_type": "execute_result"
    }
   ],
   "source": [
    "loss, accuracy = model.evaluate(x=test_x, y=test_y)\n",
    "loss, accuracy"
   ]
  },
  {
   "cell_type": "markdown",
   "metadata": {},
   "source": [
    "## Predict on one sentence"
   ]
  },
  {
   "cell_type": "code",
   "execution_count": 17,
   "metadata": {},
   "outputs": [],
   "source": [
    "model.trainable = False\n",
    "\n",
    "# Compile model so changes to trainable would take effect\n",
    "model.compile(optimizer='rmsprop', loss='binary_crossentropy', metrics=['accuracy'])"
   ]
  },
  {
   "cell_type": "code",
   "execution_count": 18,
   "metadata": {},
   "outputs": [
    {
     "data": {
      "text/plain": [
       "\"well overall this movie was pretty much worthless and it's basically a horror movie that ended up being more of a comedy i just rented this movie last night when me and my friends went to blockbuster looking for a scary movie this definitely wasn't what we were looking for but it satisfied us for humor the actors in this movie especially brandon are so fake that it's funny and especially that tracy girl whenever she's in the ? up room telling the clown to go away they show almost no emotion and it's just so obvious that they're acting and also when the clown is looking through that black box paper thing and grabs mark he doesn't even look like he's scared even though the clown like grabbed him and started attacking him and seriously would you just be ? if you were being chased down i'd be ? for my life even though anyone could probably ? that clown because he's like 300 ? not to mention that the effects aren't that great like whenever the clown chops off ? head in the forest then whenever he throws her head into the ? up room with denise and tracy whenever denise throws the head back over also like in the previous guy's comment the beginning makes absolutely no sense and i don't even see why it was even included in the movie so what was this movie made in 2003 the music made it sound like it was made in like the 1980's and the camera ing doesn't even really look professional half of the time it seems like the camera can't even stay steady when it's suppose to be overall i'd have to say i enjoyed the movie i wouldn't recommend it though if you're trying to find something to scare you but if you're looking for something to maybe make fun of or get a laugh out of i'd recommend it for sure\""
      ]
     },
     "execution_count": 18,
     "metadata": {},
     "output_type": "execute_result"
    }
   ],
   "source": [
    "sentence"
   ]
  },
  {
   "cell_type": "code",
   "execution_count": 19,
   "metadata": {},
   "outputs": [
    {
     "data": {
      "text/plain": [
       "(\"? ? ? ? ? ? ? ? ? ? ? ? ? ? ? ? ? ? ? ? ? ? ? ? ? ? ? ? ? ? ? ? ? ? ? ? ? ? ? ? ? ? ? ? ? ? ? ? ? ? ? ? ? ? ? ? ? ? ? ? ? ? ? ? ? ? ? ? ? ? ? ? ? ? ? ? ? ? ? ? ? ? ? ? ? ? ? ? ? ? ? ? ? ? ? ? ? ? ? ? ? ? ? ? ? ? ? ? ? ? ? ? ? ? ? ? ? ? ? ? ? ? ? ? ? ? ? ? ? ? ? ? ? please give this one a miss br br ? ? and the rest of the cast rendered terrible performances the show is flat flat flat br br i don't know how michael madison could have allowed this one on his plate he almost seemed to know this wasn't going to work out and his performance was quite ? so all you madison fans give this a miss\",\n",
       " 0)"
      ]
     },
     "execution_count": 19,
     "metadata": {},
     "output_type": "execute_result"
    }
   ],
   "source": [
    "index = 0\n",
    "\n",
    "sentence = test_x[index]\n",
    "translate_sentence(sentence), test_y[index]"
   ]
  },
  {
   "cell_type": "code",
   "execution_count": 20,
   "metadata": {},
   "outputs": [
    {
     "data": {
      "text/plain": [
       "(1, 200)"
      ]
     },
     "execution_count": 20,
     "metadata": {},
     "output_type": "execute_result"
    }
   ],
   "source": [
    "sentence = sentence.reshape(1, *sentence.shape)\n",
    "sentence.shape"
   ]
  },
  {
   "cell_type": "code",
   "execution_count": 21,
   "metadata": {},
   "outputs": [
    {
     "data": {
      "text/plain": [
       "0.15948878228664398"
      ]
     },
     "execution_count": 21,
     "metadata": {},
     "output_type": "execute_result"
    }
   ],
   "source": [
    "output = model(sentence)\n",
    "float(output)"
   ]
  }
 ],
 "metadata": {
  "kernelspec": {
   "display_name": "py3",
   "language": "python",
   "name": "py3"
  },
  "language_info": {
   "codemirror_mode": {
    "name": "ipython",
    "version": 3
   },
   "file_extension": ".py",
   "mimetype": "text/x-python",
   "name": "python",
   "nbconvert_exporter": "python",
   "pygments_lexer": "ipython3",
   "version": "3.6.9"
  }
 },
 "nbformat": 4,
 "nbformat_minor": 2
}
