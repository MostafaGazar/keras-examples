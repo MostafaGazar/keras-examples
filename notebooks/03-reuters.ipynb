{
 "cells": [
  {
   "cell_type": "markdown",
   "metadata": {},
   "source": [
    "Check running TensorFlow version"
   ]
  },
  {
   "cell_type": "code",
   "execution_count": 1,
   "metadata": {},
   "outputs": [
    {
     "data": {
      "text/plain": [
       "'2.0.0-alpha0'"
      ]
     },
     "execution_count": 1,
     "metadata": {},
     "output_type": "execute_result"
    }
   ],
   "source": [
    "import tensorflow as tf\n",
    "tf.__version__"
   ]
  },
  {
   "cell_type": "markdown",
   "metadata": {},
   "source": [
    "# News classification\n",
    "\n",
    "This is a single-label multiclass classification problem (46 classes). \n",
    "\n",
    "The dataset I will use is [Reuters Newswires](https://archive.ics.uci.edu/ml/datasets/reuters-21578+text+categorization+collection), it contains a set of 8,982 highly polar movie reviews for training, and 2,246 for testing.\n",
    "\n",
    "I will use a basic dense model to start with and find out how well it performs on this dataset. 1D conv, LSTM, GRU, Bidirectional are stuff I can try later."
   ]
  },
  {
   "cell_type": "code",
   "execution_count": 2,
   "metadata": {},
   "outputs": [],
   "source": [
    "from tensorflow.keras import datasets\n",
    "from tensorflow.keras import layers\n",
    "from tensorflow.keras.models import Sequential\n",
    "from tensorflow.keras.utils import to_categorical\n",
    "from tensorflow.keras.preprocessing.sequence import pad_sequences\n",
    "\n",
    "import matplotlib.pyplot as plt\n",
    "%matplotlib inline\n",
    "\n",
    "import random as rand\n",
    "\n",
    "import numpy as np"
   ]
  },
  {
   "cell_type": "markdown",
   "metadata": {},
   "source": [
    "## Load Reuters Newswires and get familiar with it"
   ]
  },
  {
   "cell_type": "code",
   "execution_count": 6,
   "metadata": {},
   "outputs": [
    {
     "name": "stdout",
     "output_type": "stream",
     "text": [
      "Downloading data from https://storage.googleapis.com/tensorflow/tf-keras-datasets/reuters.npz\n",
      "2113536/2110848 [==============================] - 1s 1us/step\n"
     ]
    }
   ],
   "source": [
    "vocab_size = 10000\n",
    "(train_x, train_y), (test_x, test_y) = datasets.reuters.load_data(num_words=vocab_size)"
   ]
  },
  {
   "cell_type": "code",
   "execution_count": 7,
   "metadata": {},
   "outputs": [
    {
     "data": {
      "text/plain": [
       "((8982,), (8982,))"
      ]
     },
     "execution_count": 7,
     "metadata": {},
     "output_type": "execute_result"
    }
   ],
   "source": [
    "train_x.shape, train_y.shape"
   ]
  },
  {
   "cell_type": "code",
   "execution_count": 8,
   "metadata": {},
   "outputs": [
    {
     "data": {
      "text/plain": [
       "((2246,), (2246,))"
      ]
     },
     "execution_count": 8,
     "metadata": {},
     "output_type": "execute_result"
    }
   ],
   "source": [
    "test_x.shape, test_y.shape"
   ]
  },
  {
   "cell_type": "markdown",
   "metadata": {},
   "source": [
    "Load the word index dictionary and reverse a few triaing strings\n",
    "\n",
    "Note: the indices are offset by 3 because 0, 1, and 2 are reserved indices for \"padding\", \"start of sequence\", and \"unknown\"."
   ]
  },
  {
   "cell_type": "code",
   "execution_count": 9,
   "metadata": {},
   "outputs": [],
   "source": [
    "word_index = datasets.imdb.get_word_index()\n",
    "word_index_reversed = {v: k for k, v in word_index.items()}"
   ]
  },
  {
   "cell_type": "code",
   "execution_count": 10,
   "metadata": {},
   "outputs": [],
   "source": [
    "translate_sentence = lambda sentence : \" \".join([word_index_reversed.get(word - 3, '?') for word in sentence])"
   ]
  },
  {
   "cell_type": "code",
   "execution_count": 11,
   "metadata": {},
   "outputs": [
    {
     "name": "stdout",
     "output_type": "stream",
     "text": [
      "more special are this son are from structure lion this obnoxious daily first has block nephew this has inventive tank show through from feel enjoy worker out but singing and fails rainy perhaps disappointed on jaw ridiculous is partners do as it\n",
      "\n",
      "such reporter do to although have you later funny actress br their i real continuity will under the under at be act don't indian and whatever club was to well college at be space was doesn't the usa some to was ago like maybe criminals for every get coming is you're is wind indian and the continuity under at no with carmen for get you're as it\n",
      "\n"
     ]
    }
   ],
   "source": [
    "random_indecies = rand.choices(list(range(train_x.shape[0])), k=2)\n",
    "\n",
    "for index in random_indecies:\n",
    "    sentence = translate_sentence(train_x[index][1:])\n",
    "    print(sentence, end=\"\\n\\n\")"
   ]
  },
  {
   "cell_type": "markdown",
   "metadata": {},
   "source": [
    "## Check how balanced the data is"
   ]
  },
  {
   "cell_type": "code",
   "execution_count": 27,
   "metadata": {},
   "outputs": [
    {
     "data": {
      "text/plain": [
       "(10, 3159)"
      ]
     },
     "execution_count": 27,
     "metadata": {},
     "output_type": "execute_result"
    }
   ],
   "source": [
    "from collections import Counter\n",
    "\n",
    "labels_counter = Counter(list(map(int, train_y)))\n",
    "labels_counter = {k: v for k, v in labels_counter.items()}\n",
    "min(labels_counter.values()), max(labels_counter.values())"
   ]
  },
  {
   "cell_type": "markdown",
   "metadata": {},
   "source": [
    "## Pad the training and test data\n",
    "\n",
    "Because of input data is of different sizes, I will set a max length limit on them or pad them if their length was shorter than max length"
   ]
  },
  {
   "cell_type": "code",
   "execution_count": 28,
   "metadata": {},
   "outputs": [],
   "source": [
    "max_length = 200\n",
    "\n",
    "# Default :: , padding='pre', truncating='pre'\n",
    "train_x = pad_sequences(train_x, maxlen=max_length)\n",
    "test_x = pad_sequences(test_x, maxlen=max_length)"
   ]
  },
  {
   "cell_type": "code",
   "execution_count": 29,
   "metadata": {},
   "outputs": [
    {
     "data": {
      "text/plain": [
       "((8982, 200), (2246, 200))"
      ]
     },
     "execution_count": 29,
     "metadata": {},
     "output_type": "execute_result"
    }
   ],
   "source": [
    "train_x.shape, test_x.shape"
   ]
  },
  {
   "cell_type": "markdown",
   "metadata": {},
   "source": [
    "## Encode y as one hot encoding"
   ]
  },
  {
   "cell_type": "code",
   "execution_count": 32,
   "metadata": {},
   "outputs": [
    {
     "data": {
      "text/plain": [
       "46"
      ]
     },
     "execution_count": 32,
     "metadata": {},
     "output_type": "execute_result"
    }
   ],
   "source": [
    "number_of_classes = len(np.unique(train_y))\n",
    "number_of_classes"
   ]
  },
  {
   "cell_type": "code",
   "execution_count": 33,
   "metadata": {},
   "outputs": [],
   "source": [
    "train_y = to_categorical(train_y, number_of_classes)\n",
    "test_y = to_categorical(test_y, number_of_classes)"
   ]
  },
  {
   "cell_type": "code",
   "execution_count": 34,
   "metadata": {},
   "outputs": [
    {
     "data": {
      "text/plain": [
       "((8982, 46),\n",
       " array([0., 0., 0., 1., 0., 0., 0., 0., 0., 0., 0., 0., 0., 0., 0., 0., 0.,\n",
       "        0., 0., 0., 0., 0., 0., 0., 0., 0., 0., 0., 0., 0., 0., 0., 0., 0.,\n",
       "        0., 0., 0., 0., 0., 0., 0., 0., 0., 0., 0., 0.], dtype=float32))"
      ]
     },
     "execution_count": 34,
     "metadata": {},
     "output_type": "execute_result"
    }
   ],
   "source": [
    "train_y.shape, train_y[0]"
   ]
  },
  {
   "cell_type": "markdown",
   "metadata": {},
   "source": [
    "## Train"
   ]
  },
  {
   "cell_type": "code",
   "execution_count": 55,
   "metadata": {},
   "outputs": [
    {
     "name": "stdout",
     "output_type": "stream",
     "text": [
      "Model: \"sequential_4\"\n",
      "_________________________________________________________________\n",
      "Layer (type)                 Output Shape              Param #   \n",
      "=================================================================\n",
      "embedding_4 (Embedding)      (None, 200, 1024)         10240000  \n",
      "_________________________________________________________________\n",
      "global_average_pooling1d_4 ( (None, 1024)              0         \n",
      "_________________________________________________________________\n",
      "dense_11 (Dense)             (None, 128)               131200    \n",
      "_________________________________________________________________\n",
      "dense_12 (Dense)             (None, 64)                8256      \n",
      "_________________________________________________________________\n",
      "dense_13 (Dense)             (None, 46)                2990      \n",
      "=================================================================\n",
      "Total params: 10,382,446\n",
      "Trainable params: 10,382,446\n",
      "Non-trainable params: 0\n",
      "_________________________________________________________________\n"
     ]
    }
   ],
   "source": [
    "model = Sequential()\n",
    "model.add(layers.Embedding(vocab_size, 1024, input_length=max_length))  # By increasing the number of outputs, the accuracy can be improved quickly.\n",
    "model.add(layers.GlobalAveragePooling1D())\n",
    "model.add(layers.Dense(128, activation='relu'))\n",
    "model.add(layers.Dense(64, activation='relu'))\n",
    "model.add(layers.Dense(46, activation='softmax'))\n",
    "model.summary()"
   ]
  },
  {
   "cell_type": "code",
   "execution_count": 56,
   "metadata": {},
   "outputs": [],
   "source": [
    "model.compile(optimizer='rmsprop', loss='categorical_crossentropy', metrics=['accuracy'])"
   ]
  },
  {
   "cell_type": "code",
   "execution_count": 57,
   "metadata": {},
   "outputs": [
    {
     "name": "stdout",
     "output_type": "stream",
     "text": [
      "Train on 7185 samples, validate on 1797 samples\n",
      "Epoch 1/20\n",
      "7185/7185 [==============================] - 7s 1ms/sample - loss: 3.1658 - accuracy: 0.2283 - val_loss: 2.4081 - val_accuracy: 0.3695\n",
      "Epoch 2/20\n",
      "7185/7185 [==============================] - 7s 970us/sample - loss: 2.2699 - accuracy: 0.3922 - val_loss: 2.1435 - val_accuracy: 0.4519\n",
      "Epoch 3/20\n",
      "7185/7185 [==============================] - 7s 983us/sample - loss: 2.0486 - accuracy: 0.4479 - val_loss: 2.0748 - val_accuracy: 0.5058\n",
      "Epoch 4/20\n",
      "7185/7185 [==============================] - 7s 1ms/sample - loss: 1.8980 - accuracy: 0.5066 - val_loss: 1.9278 - val_accuracy: 0.4290\n",
      "Epoch 5/20\n",
      "7185/7185 [==============================] - 7s 985us/sample - loss: 1.7512 - accuracy: 0.5390 - val_loss: 1.7275 - val_accuracy: 0.5615\n",
      "Epoch 6/20\n",
      "7185/7185 [==============================] - 7s 995us/sample - loss: 1.6221 - accuracy: 0.5825 - val_loss: 1.6206 - val_accuracy: 0.5771\n",
      "Epoch 7/20\n",
      "7185/7185 [==============================] - 7s 992us/sample - loss: 1.5012 - accuracy: 0.6277 - val_loss: 1.5144 - val_accuracy: 0.6227\n",
      "Epoch 8/20\n",
      "7185/7185 [==============================] - 7s 1ms/sample - loss: 1.3902 - accuracy: 0.6600 - val_loss: 1.4523 - val_accuracy: 0.6550\n",
      "Epoch 9/20\n",
      "7185/7185 [==============================] - 7s 996us/sample - loss: 1.2954 - accuracy: 0.6856 - val_loss: 1.3566 - val_accuracy: 0.6722\n",
      "Epoch 10/20\n",
      "7185/7185 [==============================] - 7s 1ms/sample - loss: 1.2001 - accuracy: 0.7047 - val_loss: 1.3132 - val_accuracy: 0.6817\n",
      "Epoch 11/20\n",
      "7185/7185 [==============================] - 7s 1ms/sample - loss: 1.1239 - accuracy: 0.7162 - val_loss: 1.2769 - val_accuracy: 0.6861\n",
      "Epoch 12/20\n",
      "7185/7185 [==============================] - 7s 994us/sample - loss: 1.0563 - accuracy: 0.7310 - val_loss: 1.3224 - val_accuracy: 0.6722\n",
      "Epoch 13/20\n",
      "7185/7185 [==============================] - 7s 1ms/sample - loss: 0.9910 - accuracy: 0.7449 - val_loss: 1.3229 - val_accuracy: 0.6706\n",
      "Epoch 14/20\n",
      "7185/7185 [==============================] - 8s 1ms/sample - loss: 0.9351 - accuracy: 0.7633 - val_loss: 1.1837 - val_accuracy: 0.7190\n",
      "Epoch 15/20\n",
      "7185/7185 [==============================] - 7s 968us/sample - loss: 0.8831 - accuracy: 0.7773 - val_loss: 1.1581 - val_accuracy: 0.7229\n",
      "Epoch 16/20\n",
      "7185/7185 [==============================] - 7s 998us/sample - loss: 0.8231 - accuracy: 0.7901 - val_loss: 1.1510 - val_accuracy: 0.7240\n",
      "Epoch 17/20\n",
      "7185/7185 [==============================] - 8s 1ms/sample - loss: 0.7718 - accuracy: 0.8068 - val_loss: 1.1938 - val_accuracy: 0.7474\n",
      "Epoch 18/20\n",
      "7185/7185 [==============================] - 7s 1ms/sample - loss: 0.7233 - accuracy: 0.8193 - val_loss: 1.1681 - val_accuracy: 0.7318\n",
      "Epoch 19/20\n",
      "7185/7185 [==============================] - 7s 996us/sample - loss: 0.6773 - accuracy: 0.8295 - val_loss: 1.1428 - val_accuracy: 0.7451\n",
      "Epoch 20/20\n",
      "7185/7185 [==============================] - 7s 1ms/sample - loss: 0.6329 - accuracy: 0.8376 - val_loss: 1.2117 - val_accuracy: 0.7179\n"
     ]
    },
    {
     "data": {
      "text/plain": [
       "dict_keys(['loss', 'accuracy', 'val_loss', 'val_accuracy'])"
      ]
     },
     "execution_count": 57,
     "metadata": {},
     "output_type": "execute_result"
    }
   ],
   "source": [
    "history = model.fit(x=train_x, y=train_y, validation_split=0.2, shuffle=True, batch_size=512, epochs=20)\n",
    "history.history.keys()"
   ]
  },
  {
   "cell_type": "code",
   "execution_count": 48,
   "metadata": {},
   "outputs": [
    {
     "data": {
      "image/png": "[encoded data removed]",
      "text/plain": [
       "<Figure size 1440x720 with 2 Axes>"
      ]
     },
     "metadata": {
      "needs_background": "light"
     },
     "output_type": "display_data"
    }
   ],
   "source": [
    "fig = plt.figure(figsize=(20, 10))\n",
    "\n",
    "plt.subplot(1, 2, 1)\n",
    "plt.plot(history.history['accuracy'])\n",
    "plt.plot(history.history['val_accuracy'])\n",
    "plt.title('Model accuracy')\n",
    "plt.ylabel('accuracy')\n",
    "plt.xlabel('epoch')\n",
    "plt.legend(['train', 'validation'], loc='upper left')\n",
    "\n",
    "plt.subplot(1, 2, 2)\n",
    "plt.plot(history.history['loss'])\n",
    "plt.plot(history.history['val_loss'])\n",
    "plt.title('Model loss')\n",
    "plt.ylabel('loss')\n",
    "plt.xlabel('epoch')\n",
    "plt.legend(['train', 'validation'], loc='upper left')\n",
    "\n",
    "plt.show()"
   ]
  },
  {
   "cell_type": "markdown",
   "metadata": {},
   "source": [
    "## Evaluate"
   ]
  },
  {
   "cell_type": "code",
   "execution_count": 49,
   "metadata": {},
   "outputs": [
    {
     "name": "stdout",
     "output_type": "stream",
     "text": [
      "2246/2246 [==============================] - 0s 67us/sample - loss: 1.2948 - accuracy: 0.6968\n"
     ]
    },
    {
     "data": {
      "text/plain": [
       "(1.2947593859445805, 0.6967943)"
      ]
     },
     "execution_count": 49,
     "metadata": {},
     "output_type": "execute_result"
    }
   ],
   "source": [
    "loss, accuracy = model.evaluate(x=test_x, y=test_y)\n",
    "loss, accuracy"
   ]
  },
  {
   "cell_type": "markdown",
   "metadata": {},
   "source": [
    "## Predict on one sentence"
   ]
  },
  {
   "cell_type": "code",
   "execution_count": 59,
   "metadata": {},
   "outputs": [],
   "source": [
    "model.trainable = False\n",
    "\n",
    "# Compile model so changes to trainable would take effect\n",
    "model.compile(optimizer='rmsprop', loss='binary_crossentropy', metrics=['accuracy'])"
   ]
  },
  {
   "cell_type": "code",
   "execution_count": 50,
   "metadata": {},
   "outputs": [
    {
     "data": {
      "text/plain": [
       "\"such reporter do to although have you later funny actress br their i real continuity will under the under at be act don't indian and whatever club was to well college at be space was doesn't the usa some to was ago like maybe criminals for every get coming is you're is wind indian and the continuity under at no with carmen for get you're as it\""
      ]
     },
     "execution_count": 50,
     "metadata": {},
     "output_type": "execute_result"
    }
   ],
   "source": [
    "sentence"
   ]
  },
  {
   "cell_type": "code",
   "execution_count": 51,
   "metadata": {},
   "outputs": [
    {
     "data": {
      "text/plain": [
       "(\"? ? ? ? ? ? ? ? ? ? ? ? ? ? ? ? ? ? ? ? ? ? ? ? ? ? ? ? ? ? ? ? ? ? ? ? ? ? ? ? ? ? ? ? ? ? ? ? ? ? ? ? ? ? ? ? the chris connection is knew catchy many to you character he melodramatic in now am low at be be expectations second a ? before is spent hollywood i ? were is ? were little the there's bad action br is fake to the set and ? of animation if is ? of i've likable incredibly whilst among make here father of the guys them place think actor you from poor film dramatic almost drags usual she movie a love my in that time told are br see of the needs them just because second entertainment it movie a with within an that br is fake deal your die but the canadian am low what was plays mother was soon the too he and the low sense if br is fake on usual has movie shot his up ? ? and fact enjoyed as it\",\n",
       " array([0., 0., 0., 1., 0., 0., 0., 0., 0., 0., 0., 0., 0., 0., 0., 0., 0.,\n",
       "        0., 0., 0., 0., 0., 0., 0., 0., 0., 0., 0., 0., 0., 0., 0., 0., 0.,\n",
       "        0., 0., 0., 0., 0., 0., 0., 0., 0., 0., 0., 0.], dtype=float32))"
      ]
     },
     "execution_count": 51,
     "metadata": {},
     "output_type": "execute_result"
    }
   ],
   "source": [
    "index = 0\n",
    "\n",
    "sentence = test_x[index]\n",
    "translate_sentence(sentence), test_y[index]"
   ]
  },
  {
   "cell_type": "code",
   "execution_count": 52,
   "metadata": {},
   "outputs": [
    {
     "data": {
      "text/plain": [
       "(1, 200)"
      ]
     },
     "execution_count": 52,
     "metadata": {},
     "output_type": "execute_result"
    }
   ],
   "source": [
    "sentence = sentence.reshape(1, *sentence.shape)\n",
    "sentence.shape"
   ]
  },
  {
   "cell_type": "code",
   "execution_count": 54,
   "metadata": {},
   "outputs": [
    {
     "data": {
      "text/plain": [
       "3"
      ]
     },
     "execution_count": 54,
     "metadata": {},
     "output_type": "execute_result"
    }
   ],
   "source": [
    "output = model(sentence)\n",
    "np.argmax(output)"
   ]
  },
  {
   "cell_type": "code",
   "execution_count": null,
   "metadata": {},
   "outputs": [],
   "source": []
  }
 ],
 "metadata": {
  "kernelspec": {
   "display_name": "py3",
   "language": "python",
   "name": "py3"
  },
  "language_info": {
   "codemirror_mode": {
    "name": "ipython",
    "version": 3
   },
   "file_extension": ".py",
   "mimetype": "text/x-python",
   "name": "python",
   "nbconvert_exporter": "python",
   "pygments_lexer": "ipython3",
   "version": "3.6.9"
  }
 },
 "nbformat": 4,
 "nbformat_minor": 2
}
