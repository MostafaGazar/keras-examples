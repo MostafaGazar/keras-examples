{
 "cells": [
  {
   "cell_type": "markdown",
   "metadata": {},
   "source": [
    "Check running TensorFlow version"
   ]
  },
  {
   "cell_type": "code",
   "execution_count": 1,
   "metadata": {},
   "outputs": [
    {
     "data": {
      "text/plain": [
       "'2.0.0-beta1'"
      ]
     },
     "execution_count": 1,
     "metadata": {},
     "output_type": "execute_result"
    }
   ],
   "source": [
    "import tensorflow as tf\n",
    "tf.__version__"
   ]
  },
  {
   "cell_type": "markdown",
   "metadata": {},
   "source": [
    "# Sentiment movie reviews classification\n",
    "\n",
    "This is a binary classification problem (2 classes, negative and positive). \n",
    "\n",
    "The dataset I will use is [IMDB reviews](https://ai.stanford.edu/~amaas/data/sentiment/), it contains a set of 25,000 highly polar movie reviews for training, and 25,000 for testing.\n",
    "\n",
    "I will use a basic dense model to start with and find out how well it performs on this dataset. 1D conv, LSTM, GRU, Bidirectional are stuff I can try later."
   ]
  },
  {
   "cell_type": "code",
   "execution_count": 2,
   "metadata": {},
   "outputs": [],
   "source": [
    "from tensorflow.keras import datasets\n",
    "from tensorflow.keras import layers\n",
    "from tensorflow.keras.models import Sequential\n",
    "from tensorflow.keras.preprocessing.sequence import pad_sequences\n",
    "\n",
    "from pathlib import Path\n",
    "Path.ls = lambda x: list(x.iterdir())\n",
    "\n",
    "import matplotlib.pyplot as plt\n",
    "%matplotlib inline\n",
    "\n",
    "import random as rand\n",
    "\n",
    "import numpy as np\n",
    "\n",
    "import shutil"
   ]
  },
  {
   "cell_type": "code",
   "execution_count": 3,
   "metadata": {},
   "outputs": [],
   "source": [
    "batch_size = 256"
   ]
  },
  {
   "cell_type": "markdown",
   "metadata": {},
   "source": [
    "## Load IMDB review and get familiar with it"
   ]
  },
  {
   "cell_type": "code",
   "execution_count": 4,
   "metadata": {},
   "outputs": [],
   "source": [
    "vocab_size = 10000\n",
    "(train_x, train_y), (test_x, test_y) = datasets.imdb.load_data(num_words=vocab_size)"
   ]
  },
  {
   "cell_type": "code",
   "execution_count": 5,
   "metadata": {},
   "outputs": [
    {
     "data": {
      "text/plain": [
       "((25000,), (25000,))"
      ]
     },
     "execution_count": 5,
     "metadata": {},
     "output_type": "execute_result"
    }
   ],
   "source": [
    "train_x.shape, train_y.shape"
   ]
  },
  {
   "cell_type": "code",
   "execution_count": 6,
   "metadata": {},
   "outputs": [
    {
     "data": {
      "text/plain": [
       "((25000,), (25000,))"
      ]
     },
     "execution_count": 6,
     "metadata": {},
     "output_type": "execute_result"
    }
   ],
   "source": [
    "test_x.shape, test_y.shape"
   ]
  },
  {
   "cell_type": "markdown",
   "metadata": {},
   "source": [
    "Load the word index dictionary and reverse a few triaing strings\n",
    "\n",
    "Note: the indices are offset by 3 because 0, 1, and 2 are reserved indices for \"padding\", \"start of sequence\", and \"unknown\"."
   ]
  },
  {
   "cell_type": "code",
   "execution_count": 7,
   "metadata": {},
   "outputs": [],
   "source": [
    "word_index = datasets.imdb.get_word_index()\n",
    "word_index = {key: (value + 3) for key, value in word_index.items()}\n",
    "word_index[\"<PAD>\"] = 0\n",
    "word_index[\"<START>\"] = 1\n",
    "word_index[\"<UNK>\"] = 2  # unknown\n",
    "word_index[\"<UNUSED>\"] = 3\n",
    "\n",
    "word_index_reversed = {value: key for key, value in word_index.items()}"
   ]
  },
  {
   "cell_type": "code",
   "execution_count": 8,
   "metadata": {},
   "outputs": [],
   "source": [
    "translate_sentence = lambda sentence : \" \".join([word_index_reversed.get(word, '?') for word in sentence])"
   ]
  },
  {
   "cell_type": "code",
   "execution_count": 9,
   "metadata": {},
   "outputs": [
    {
     "name": "stdout",
     "output_type": "stream",
     "text": [
      "daniel day lewis is the most versatile actor alive english <UNK> <UNK> in a room with a view passionate irish thief in in the name of the father an <UNK> violent butcher in gangs of new york in a performance ten times stronger than adrian <UNK> in the <UNK> and as the outrageous <UNK> brown with cerebral <UNK> in my left foot just to name a few his roles all influence <UNK> but each is <UNK> and utterly unique he changes completely with each character he takes on and i'm beginning to believe that he can act as anything anything br br as <UNK> brown he is stunning he does not <UNK> the character and he does not pity the character a difficult achievement and <UNK> brown comes to life a smart man an outrageous man human br br this movie despite small scene transition faults and the like is an inspiration yes it's predictable but is it <UNK> sentimental no i laughed i cried not a single moment of cheese proof that this isn't a hollywood movie br br my favourite scene is the scene in the restaurant when <UNK> is discussing <UNK> with <UNK> peter and her friends here's where daniel day lewis reaches an acting climax i'll kick you in the only part of your <UNK> that's animated wheel out the <UNK> and his performance never slows down never <UNK> and is beautiful simply he has a lot of screen time here i watch it again again and i never get tired of <UNK> <UNK> eyes <UNK> and <UNK> speeches br br a must see <UNK> sho <UNK>\n",
      "\n"
     ]
    }
   ],
   "source": [
    "random_indecies = rand.choices(list(range(train_x.shape[0])), k=1)\n",
    "\n",
    "for index in random_indecies:\n",
    "    sentence = translate_sentence(train_x[index][1:])\n",
    "    print(sentence, end=\"\\n\\n\")"
   ]
  },
  {
   "cell_type": "markdown",
   "metadata": {},
   "source": [
    "## Pad the training and test data\n",
    "\n",
    "Because of input data is of different sizes, I will set a max length limit on them or pad them if their length was shorter than max length"
   ]
  },
  {
   "cell_type": "code",
   "execution_count": 10,
   "metadata": {},
   "outputs": [],
   "source": [
    "max_length = 200\n",
    "\n",
    "# Default :: , padding='pre', truncating='pre'\n",
    "train_x = pad_sequences(train_x, maxlen=max_length)\n",
    "test_x = pad_sequences(test_x, maxlen=max_length)"
   ]
  },
  {
   "cell_type": "code",
   "execution_count": 11,
   "metadata": {},
   "outputs": [
    {
     "data": {
      "text/plain": [
       "((25000, 200), (25000, 200))"
      ]
     },
     "execution_count": 11,
     "metadata": {},
     "output_type": "execute_result"
    }
   ],
   "source": [
    "train_x.shape, test_x.shape"
   ]
  },
  {
   "cell_type": "markdown",
   "metadata": {},
   "source": [
    "## Train"
   ]
  },
  {
   "cell_type": "code",
   "execution_count": 34,
   "metadata": {},
   "outputs": [
    {
     "name": "stdout",
     "output_type": "stream",
     "text": [
      "Model: \"sequential_4\"\n",
      "_________________________________________________________________\n",
      "Layer (type)                 Output Shape              Param #   \n",
      "=================================================================\n",
      "embedding_4 (Embedding)      (None, 200, 32)           320000    \n",
      "_________________________________________________________________\n",
      "lstm_4 (LSTM)                (None, 16)                3136      \n",
      "_________________________________________________________________\n",
      "dense_3 (Dense)              (None, 1)                 17        \n",
      "=================================================================\n",
      "Total params: 323,153\n",
      "Trainable params: 323,153\n",
      "Non-trainable params: 0\n",
      "_________________________________________________________________\n"
     ]
    }
   ],
   "source": [
    "embedding_size = 32\n",
    "\n",
    "model = Sequential()\n",
    "model.add(layers.Embedding(vocab_size, embedding_size, input_length=max_length))\n",
    "\n",
    "model.add(layers.LSTM(16))\n",
    "\n",
    "# Option 2: Helped with overfitting but final was less performant\n",
    "# model.add(layers.LSTM(16, recurrent_dropout=.5))\n",
    "\n",
    "# Option 3: Worked a little better but not worth it\n",
    "# model.add(layers.Bidirectional layers.LSTM(16))\n",
    "\n",
    "model.add(layers.Dense(1, activation='sigmoid'))\n",
    "\n",
    "model.summary()"
   ]
  },
  {
   "cell_type": "code",
   "execution_count": 35,
   "metadata": {},
   "outputs": [],
   "source": [
    "model.compile(optimizer='rmsprop', loss='binary_crossentropy', metrics=['accuracy'])"
   ]
  },
  {
   "cell_type": "code",
   "execution_count": 36,
   "metadata": {},
   "outputs": [
    {
     "name": "stdout",
     "output_type": "stream",
     "text": [
      "Train on 20000 samples, validate on 5000 samples\n",
      "Epoch 1/10\n",
      "20000/20000 [==============================] - 11s 557us/sample - loss: 0.5818 - accuracy: 0.7227 - val_loss: 0.4395 - val_accuracy: 0.8344\n",
      "Epoch 2/10\n",
      "20000/20000 [==============================] - 10s 479us/sample - loss: 0.3680 - accuracy: 0.8592 - val_loss: 0.3640 - val_accuracy: 0.8476\n",
      "Epoch 3/10\n",
      "20000/20000 [==============================] - 10s 477us/sample - loss: 0.2723 - accuracy: 0.8964 - val_loss: 0.3125 - val_accuracy: 0.8690\n",
      "Epoch 4/10\n",
      "20000/20000 [==============================] - 10s 476us/sample - loss: 0.2263 - accuracy: 0.9167 - val_loss: 0.3083 - val_accuracy: 0.8700\n",
      "Epoch 5/10\n",
      "20000/20000 [==============================] - 10s 477us/sample - loss: 0.1893 - accuracy: 0.9317 - val_loss: 0.4454 - val_accuracy: 0.8430\n",
      "Epoch 6/10\n",
      "20000/20000 [==============================] - 9s 470us/sample - loss: 0.1685 - accuracy: 0.9398 - val_loss: 0.3114 - val_accuracy: 0.8806\n",
      "Epoch 7/10\n",
      "20000/20000 [==============================] - 10s 492us/sample - loss: 0.1493 - accuracy: 0.9491 - val_loss: 0.3728 - val_accuracy: 0.8468\n",
      "Epoch 8/10\n",
      "20000/20000 [==============================] - 10s 487us/sample - loss: 0.1320 - accuracy: 0.9560 - val_loss: 0.5159 - val_accuracy: 0.8092\n",
      "Epoch 9/10\n",
      "20000/20000 [==============================] - 10s 482us/sample - loss: 0.1227 - accuracy: 0.9579 - val_loss: 0.4007 - val_accuracy: 0.8686\n",
      "Epoch 10/10\n",
      "20000/20000 [==============================] - 10s 485us/sample - loss: 0.1063 - accuracy: 0.9643 - val_loss: 0.3695 - val_accuracy: 0.8630\n"
     ]
    },
    {
     "data": {
      "text/plain": [
       "dict_keys(['loss', 'accuracy', 'val_loss', 'val_accuracy'])"
      ]
     },
     "execution_count": 36,
     "metadata": {},
     "output_type": "execute_result"
    }
   ],
   "source": [
    "history = model.fit(x=train_x, y=train_y, validation_split=0.2, shuffle=True, batch_size=batch_size, epochs=10)\n",
    "history.history.keys()"
   ]
  },
  {
   "cell_type": "code",
   "execution_count": 37,
   "metadata": {},
   "outputs": [
    {
     "data": {
      "image/png": "[encoded data removed]",
      "text/plain": [
       "<Figure size 1440x720 with 2 Axes>"
      ]
     },
     "metadata": {
      "needs_background": "light"
     },
     "output_type": "display_data"
    }
   ],
   "source": [
    "fig = plt.figure(figsize=(20, 10))\n",
    "\n",
    "plt.subplot(1, 2, 1)\n",
    "plt.plot(history.history['accuracy'])\n",
    "plt.plot(history.history['val_accuracy'])\n",
    "plt.title('Model accuracy')\n",
    "plt.ylabel('accuracy')\n",
    "plt.xlabel('epoch')\n",
    "plt.legend(['train', 'validation'], loc='upper left')\n",
    "\n",
    "plt.subplot(1, 2, 2)\n",
    "plt.plot(history.history['loss'])\n",
    "plt.plot(history.history['val_loss'])\n",
    "plt.title('Model loss')\n",
    "plt.ylabel('loss')\n",
    "plt.xlabel('epoch')\n",
    "plt.legend(['train', 'validation'], loc='upper left')\n",
    "\n",
    "plt.show()"
   ]
  },
  {
   "cell_type": "markdown",
   "metadata": {},
   "source": [
    "## Evaluate"
   ]
  },
  {
   "cell_type": "code",
   "execution_count": 39,
   "metadata": {},
   "outputs": [
    {
     "name": "stdout",
     "output_type": "stream",
     "text": [
      "25000/25000 [==============================] - 23s 917us/sample - loss: 0.4133 - accuracy: 0.8448\n"
     ]
    },
    {
     "data": {
      "text/plain": [
       "(0.4133335279750824, 0.84476)"
      ]
     },
     "execution_count": 39,
     "metadata": {},
     "output_type": "execute_result"
    }
   ],
   "source": [
    "loss, accuracy = model.evaluate(x=test_x, y=test_y)\n",
    "loss, accuracy"
   ]
  },
  {
   "cell_type": "markdown",
   "metadata": {},
   "source": [
    "## Predict on one sentence"
   ]
  },
  {
   "cell_type": "code",
   "execution_count": 40,
   "metadata": {},
   "outputs": [],
   "source": [
    "model.trainable = False\n",
    "\n",
    "# Compile model so changes to trainable would take effect\n",
    "model.compile(optimizer='rmsprop', loss='binary_crossentropy', metrics=['accuracy'])"
   ]
  },
  {
   "cell_type": "code",
   "execution_count": 41,
   "metadata": {},
   "outputs": [
    {
     "data": {
      "text/plain": [
       "\"daniel day lewis is the most versatile actor alive english <UNK> <UNK> in a room with a view passionate irish thief in in the name of the father an <UNK> violent butcher in gangs of new york in a performance ten times stronger than adrian <UNK> in the <UNK> and as the outrageous <UNK> brown with cerebral <UNK> in my left foot just to name a few his roles all influence <UNK> but each is <UNK> and utterly unique he changes completely with each character he takes on and i'm beginning to believe that he can act as anything anything br br as <UNK> brown he is stunning he does not <UNK> the character and he does not pity the character a difficult achievement and <UNK> brown comes to life a smart man an outrageous man human br br this movie despite small scene transition faults and the like is an inspiration yes it's predictable but is it <UNK> sentimental no i laughed i cried not a single moment of cheese proof that this isn't a hollywood movie br br my favourite scene is the scene in the restaurant when <UNK> is discussing <UNK> with <UNK> peter and her friends here's where daniel day lewis reaches an acting climax i'll kick you in the only part of your <UNK> that's animated wheel out the <UNK> and his performance never slows down never <UNK> and is beautiful simply he has a lot of screen time here i watch it again again and i never get tired of <UNK> <UNK> eyes <UNK> and <UNK> speeches br br a must see <UNK> sho <UNK>\""
      ]
     },
     "execution_count": 41,
     "metadata": {},
     "output_type": "execute_result"
    }
   ],
   "source": [
    "sentence"
   ]
  },
  {
   "cell_type": "code",
   "execution_count": 42,
   "metadata": {},
   "outputs": [
    {
     "data": {
      "text/plain": [
       "(\"<PAD> <PAD> <PAD> <PAD> <PAD> <PAD> <PAD> <PAD> <PAD> <PAD> <PAD> <PAD> <PAD> <PAD> <PAD> <PAD> <PAD> <PAD> <PAD> <PAD> <PAD> <PAD> <PAD> <PAD> <PAD> <PAD> <PAD> <PAD> <PAD> <PAD> <PAD> <PAD> <PAD> <PAD> <PAD> <PAD> <PAD> <PAD> <PAD> <PAD> <PAD> <PAD> <PAD> <PAD> <PAD> <PAD> <PAD> <PAD> <PAD> <PAD> <PAD> <PAD> <PAD> <PAD> <PAD> <PAD> <PAD> <PAD> <PAD> <PAD> <PAD> <PAD> <PAD> <PAD> <PAD> <PAD> <PAD> <PAD> <PAD> <PAD> <PAD> <PAD> <PAD> <PAD> <PAD> <PAD> <PAD> <PAD> <PAD> <PAD> <PAD> <PAD> <PAD> <PAD> <PAD> <PAD> <PAD> <PAD> <PAD> <PAD> <PAD> <PAD> <PAD> <PAD> <PAD> <PAD> <PAD> <PAD> <PAD> <PAD> <PAD> <PAD> <PAD> <PAD> <PAD> <PAD> <PAD> <PAD> <PAD> <PAD> <PAD> <PAD> <PAD> <PAD> <PAD> <PAD> <PAD> <PAD> <PAD> <PAD> <PAD> <PAD> <PAD> <PAD> <PAD> <PAD> <PAD> <PAD> <PAD> <PAD> <PAD> <PAD> <START> please give this one a miss br br <UNK> <UNK> and the rest of the cast rendered terrible performances the show is flat flat flat br br i don't know how michael madison could have allowed this one on his plate he almost seemed to know this wasn't going to work out and his performance was quite <UNK> so all you madison fans give this a miss\",\n",
       " 0)"
      ]
     },
     "execution_count": 42,
     "metadata": {},
     "output_type": "execute_result"
    }
   ],
   "source": [
    "index = 0\n",
    "\n",
    "sentence = test_x[index]\n",
    "translate_sentence(sentence), test_y[index]"
   ]
  },
  {
   "cell_type": "code",
   "execution_count": 43,
   "metadata": {},
   "outputs": [
    {
     "data": {
      "text/plain": [
       "(1, 200)"
      ]
     },
     "execution_count": 43,
     "metadata": {},
     "output_type": "execute_result"
    }
   ],
   "source": [
    "sentence = sentence.reshape(1, *sentence.shape)\n",
    "sentence.shape"
   ]
  },
  {
   "cell_type": "code",
   "execution_count": 44,
   "metadata": {},
   "outputs": [
    {
     "data": {
      "text/plain": [
       "0.04726536571979523"
      ]
     },
     "execution_count": 44,
     "metadata": {},
     "output_type": "execute_result"
    }
   ],
   "source": [
    "output = model(sentence)\n",
    "float(output)"
   ]
  },
  {
   "cell_type": "code",
   "execution_count": null,
   "metadata": {},
   "outputs": [],
   "source": []
  }
 ],
 "metadata": {
  "kernelspec": {
   "display_name": "keras",
   "language": "python",
   "name": "keras"
  },
  "language_info": {
   "codemirror_mode": {
    "name": "ipython",
    "version": 3
   },
   "file_extension": ".py",
   "mimetype": "text/x-python",
   "name": "python",
   "nbconvert_exporter": "python",
   "pygments_lexer": "ipython3",
   "version": "3.6.9"
  }
 },
 "nbformat": 4,
 "nbformat_minor": 2
}
