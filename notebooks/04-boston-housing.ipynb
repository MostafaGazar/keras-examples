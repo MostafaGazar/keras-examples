{
 "cells": [
  {
   "cell_type": "markdown",
   "metadata": {},
   "source": [
    "Check running TensorFlow version"
   ]
  },
  {
   "cell_type": "code",
   "execution_count": 1,
   "metadata": {},
   "outputs": [
    {
     "data": {
      "text/plain": [
       "'2.0.0-alpha0'"
      ]
     },
     "execution_count": 1,
     "metadata": {},
     "output_type": "execute_result"
    }
   ],
   "source": [
    "import tensorflow as tf\n",
    "tf.__version__"
   ]
  },
  {
   "cell_type": "markdown",
   "metadata": {},
   "source": [
    "# Predicting houses prices\n",
    "\n",
    "This is a regression problem where the expected output is a single number (the price). \n",
    "\n",
    "The dataset I will use is the [Boston Housing Dataset](https://www.cs.toronto.edu/~delve/data/boston/bostonDetail.html). It is a relatively small dataset with only 506 cases. Given the small data size K-Fold cross validation could be used to train a few models independently and then pick the best one.\n",
    "\n",
    "Again, I will use a basic dense model with a few layers."
   ]
  },
  {
   "cell_type": "code",
   "execution_count": 2,
   "metadata": {},
   "outputs": [],
   "source": [
    "from tensorflow.keras import datasets\n",
    "from tensorflow.keras import layers\n",
    "from tensorflow.keras.models import Sequential\n",
    "from tensorflow.keras.utils import to_categorical\n",
    "from tensorflow.keras.preprocessing.sequence import pad_sequences\n",
    "\n",
    "import matplotlib.pyplot as plt\n",
    "%matplotlib inline\n",
    "\n",
    "import seaborn as sns\n",
    "sns.set_style(\"whitegrid\")\n",
    "\n",
    "import random as rand\n",
    "\n",
    "import numpy as np\n",
    "import pandas as pd"
   ]
  },
  {
   "cell_type": "markdown",
   "metadata": {},
   "source": [
    "## Load Boston Housing and get familiar with it\n",
    "\n",
    "There are 14 attributes in each case of the dataset. They are:\n",
    "1. **CRIM** - per capita crime rate by town\n",
    "2. **ZN** - proportion of residential land zoned for lots over 25,000 sq.ft.\n",
    "3. **INDUS** - proportion of non-retail business acres per town.\n",
    "4. **CHAS** - Charles River dummy variable (1 if tract bounds river; 0 otherwise)\n",
    "5. **NOX** - nitric oxides concentration (parts per 10 million)\n",
    "6. **RM** - average number of rooms per dwelling\n",
    "7. **AGE** - proportion of owner-occupied units built prior to 1940\n",
    "8. **DIS** - weighted distances to five Boston employment centres\n",
    "9. **RAD** - index of accessibility to radial highways\n",
    "10. **TAX** - full-value property-tax rate per $10,000\n",
    "11. **PTRATIO** - pupil-teacher ratio by town\n",
    "12. **B** - 1000(Bk - 0.63)^2 where Bk is the proportion of blacks by town\n",
    "13. **LSTAT** - % lower status of the population\n",
    "\n",
    "And the output is:\n",
    "- **MEDV** - Median value of owner-occupied homes in $1000's"
   ]
  },
  {
   "cell_type": "code",
   "execution_count": 3,
   "metadata": {},
   "outputs": [],
   "source": [
    "(train_x, train_y), (test_x, test_y) = datasets.boston_housing.load_data()"
   ]
  },
  {
   "cell_type": "code",
   "execution_count": 4,
   "metadata": {},
   "outputs": [
    {
     "data": {
      "text/plain": [
       "((404, 13), (404,))"
      ]
     },
     "execution_count": 4,
     "metadata": {},
     "output_type": "execute_result"
    }
   ],
   "source": [
    "train_x.shape, train_y.shape"
   ]
  },
  {
   "cell_type": "code",
   "execution_count": 5,
   "metadata": {},
   "outputs": [
    {
     "data": {
      "text/plain": [
       "((102, 13), (102,))"
      ]
     },
     "execution_count": 5,
     "metadata": {},
     "output_type": "execute_result"
    }
   ],
   "source": [
    "test_x.shape, test_y.shape"
   ]
  },
  {
   "cell_type": "code",
   "execution_count": 6,
   "metadata": {},
   "outputs": [
    {
     "data": {
      "text/plain": [
       "(array([  1.23247,   0.     ,   8.14   ,   0.     ,   0.538  ,   6.142  ,\n",
       "         91.7    ,   3.9769 ,   4.     , 307.     ,  21.     , 396.9    ,\n",
       "         18.72   ]), 15.2)"
      ]
     },
     "execution_count": 6,
     "metadata": {},
     "output_type": "execute_result"
    }
   ],
   "source": [
    "train_x[0], train_y[0]"
   ]
  },
  {
   "cell_type": "markdown",
   "metadata": {},
   "source": [
    "### Check the data ranges and scales"
   ]
  },
  {
   "cell_type": "code",
   "execution_count": 7,
   "metadata": {},
   "outputs": [
    {
     "data": {
      "text/plain": [
       "(array([6.3200e-03, 0.0000e+00, 4.6000e-01, 0.0000e+00, 3.8500e-01,\n",
       "        3.5610e+00, 2.9000e+00, 1.1296e+00, 1.0000e+00, 1.8800e+02,\n",
       "        1.2600e+01, 3.2000e-01, 1.7300e+00]),\n",
       " array([ 88.9762, 100.    ,  27.74  ,   1.    ,   0.871 ,   8.725 ,\n",
       "        100.    ,  10.7103,  24.    , 711.    ,  22.    , 396.9   ,\n",
       "         37.97  ]))"
      ]
     },
     "execution_count": 7,
     "metadata": {},
     "output_type": "execute_result"
    }
   ],
   "source": [
    "train_x.min(axis=0), train_x.max(axis=0)"
   ]
  },
  {
   "cell_type": "code",
   "execution_count": 8,
   "metadata": {},
   "outputs": [
    {
     "data": {
      "text/plain": [
       "(array([3.74511057e+00, 1.14801980e+01, 1.11044307e+01, 6.18811881e-02,\n",
       "        5.57355941e-01, 6.26708168e+00, 6.90106436e+01, 3.74027079e+00,\n",
       "        9.44059406e+00, 4.05898515e+02, 1.84759901e+01, 3.54783168e+02,\n",
       "        1.27408168e+01]),\n",
       " array([2.6888e-01, 0.0000e+00, 9.6900e+00, 0.0000e+00, 5.3800e-01,\n",
       "        6.1985e+00, 7.8500e+01, 3.1423e+00, 5.0000e+00, 3.3000e+02,\n",
       "        1.9100e+01, 3.9125e+02, 1.1395e+01]))"
      ]
     },
     "execution_count": 8,
     "metadata": {},
     "output_type": "execute_result"
    }
   ],
   "source": [
    "train_x.mean(axis=0), np.median(train_x, axis=0)"
   ]
  },
  {
   "cell_type": "code",
   "execution_count": 9,
   "metadata": {},
   "outputs": [
    {
     "data": {
      "text/plain": [
       "<matplotlib.axes._subplots.AxesSubplot at 0x1a27eef748>"
      ]
     },
     "execution_count": 9,
     "metadata": {},
     "output_type": "execute_result"
    },
    {
     "data": {
      "image/png": "[encoded data removed]",
      "text/plain": [
       "<Figure size 432x288 with 2 Axes>"
      ]
     },
     "metadata": {
      "needs_background": "light"
     },
     "output_type": "display_data"
    }
   ],
   "source": [
    "df = pd.DataFrame(train_x)\n",
    "\n",
    "sns.heatmap(df.corr(method=\"pearson\"))"
   ]
  },
  {
   "cell_type": "code",
   "execution_count": 10,
   "metadata": {},
   "outputs": [
    {
     "data": {
      "text/plain": [
       "<matplotlib.axes._subplots.AxesSubplot at 0x1a282f5f98>"
      ]
     },
     "execution_count": 10,
     "metadata": {},
     "output_type": "execute_result"
    },
    {
     "data": {
      "image/png": "[encoded data removed]",
      "text/plain": [
       "<Figure size 432x288 with 1 Axes>"
      ]
     },
     "metadata": {
      "needs_background": "light"
     },
     "output_type": "display_data"
    }
   ],
   "source": [
    "sns.boxplot(data=df, orient=\"v\")"
   ]
  },
  {
   "cell_type": "markdown",
   "metadata": {},
   "source": [
    "## Normalize the data"
   ]
  },
  {
   "cell_type": "code",
   "execution_count": 11,
   "metadata": {},
   "outputs": [],
   "source": [
    "mean = train_x.mean(axis=0)\n",
    "std = train_x.std(axis=0)\n",
    "\n",
    "train_x = (train_x - mean) / std\n",
    "test_x = (test_x - mean) / std"
   ]
  },
  {
   "cell_type": "code",
   "execution_count": 12,
   "metadata": {},
   "outputs": [
    {
     "data": {
      "text/plain": [
       "<matplotlib.axes._subplots.AxesSubplot at 0x1a2849ef28>"
      ]
     },
     "execution_count": 12,
     "metadata": {},
     "output_type": "execute_result"
    },
    {
     "data": {
      "image/png": "[encoded data removed]",
      "text/plain": [
       "<Figure size 432x288 with 1 Axes>"
      ]
     },
     "metadata": {
      "needs_background": "light"
     },
     "output_type": "display_data"
    }
   ],
   "source": [
    "df = pd.DataFrame(train_x)\n",
    "\n",
    "sns.boxplot(data=df, orient=\"v\")"
   ]
  },
  {
   "cell_type": "markdown",
   "metadata": {},
   "source": [
    "## Train"
   ]
  },
  {
   "cell_type": "code",
   "execution_count": 13,
   "metadata": {},
   "outputs": [
    {
     "name": "stdout",
     "output_type": "stream",
     "text": [
      "Model: \"sequential\"\n",
      "_________________________________________________________________\n",
      "Layer (type)                 Output Shape              Param #   \n",
      "=================================================================\n",
      "dense (Dense)                (None, 64)                896       \n",
      "_________________________________________________________________\n",
      "dense_1 (Dense)              (None, 64)                4160      \n",
      "_________________________________________________________________\n",
      "dense_2 (Dense)              (None, 1)                 65        \n",
      "=================================================================\n",
      "Total params: 5,121\n",
      "Trainable params: 5,121\n",
      "Non-trainable params: 0\n",
      "_________________________________________________________________\n"
     ]
    }
   ],
   "source": [
    "model = Sequential()\n",
    "model.add(layers.Dense(64, activation='relu', input_shape=train_x.shape[1:]))\n",
    "model.add(layers.Dense(64, activation='relu'))\n",
    "model.add(layers.Dense(1))\n",
    "model.summary()"
   ]
  },
  {
   "cell_type": "code",
   "execution_count": 14,
   "metadata": {},
   "outputs": [],
   "source": [
    "model.compile(optimizer='rmsprop', loss='mse', metrics=['mae'])"
   ]
  },
  {
   "cell_type": "code",
   "execution_count": 15,
   "metadata": {},
   "outputs": [
    {
     "name": "stdout",
     "output_type": "stream",
     "text": [
      "Train on 323 samples, validate on 81 samples\n",
      "Epoch 1/80\n",
      "323/323 [==============================] - 0s 758us/sample - loss: 523.2275 - mae: 21.0170 - val_loss: 523.9474 - val_mae: 21.0968\n",
      "Epoch 2/80\n",
      "323/323 [==============================] - 0s 89us/sample - loss: 391.6455 - mae: 17.9495 - val_loss: 379.7153 - val_mae: 17.5837\n",
      "Epoch 3/80\n",
      "323/323 [==============================] - 0s 98us/sample - loss: 252.3180 - mae: 13.9274 - val_loss: 227.5072 - val_mae: 12.6440\n",
      "Epoch 4/80\n",
      "323/323 [==============================] - 0s 106us/sample - loss: 135.2768 - mae: 9.3955 - val_loss: 132.6496 - val_mae: 8.7979\n",
      "Epoch 5/80\n",
      "323/323 [==============================] - 0s 105us/sample - loss: 77.6059 - mae: 6.5805 - val_loss: 79.4612 - val_mae: 6.5316\n",
      "Epoch 6/80\n",
      "323/323 [==============================] - 0s 99us/sample - loss: 50.4873 - mae: 5.1201 - val_loss: 54.2439 - val_mae: 5.2216\n",
      "Epoch 7/80\n",
      "323/323 [==============================] - 0s 96us/sample - loss: 36.8772 - mae: 4.2093 - val_loss: 39.5034 - val_mae: 4.3502\n",
      "Epoch 8/80\n",
      "323/323 [==============================] - 0s 97us/sample - loss: 29.8969 - mae: 3.6975 - val_loss: 31.9242 - val_mae: 3.9596\n",
      "Epoch 9/80\n",
      "323/323 [==============================] - 0s 83us/sample - loss: 26.4507 - mae: 3.4414 - val_loss: 28.2274 - val_mae: 3.7015\n",
      "Epoch 10/80\n",
      "323/323 [==============================] - 0s 91us/sample - loss: 23.9577 - mae: 3.2779 - val_loss: 26.1023 - val_mae: 3.5477\n",
      "Epoch 11/80\n",
      "323/323 [==============================] - 0s 83us/sample - loss: 22.0889 - mae: 3.1170 - val_loss: 23.4420 - val_mae: 3.4127\n",
      "Epoch 12/80\n",
      "323/323 [==============================] - 0s 83us/sample - loss: 20.5945 - mae: 2.9699 - val_loss: 21.4169 - val_mae: 3.2395\n",
      "Epoch 13/80\n",
      "323/323 [==============================] - 0s 90us/sample - loss: 18.7356 - mae: 2.8263 - val_loss: 19.1026 - val_mae: 3.2550\n",
      "Epoch 14/80\n",
      "323/323 [==============================] - 0s 81us/sample - loss: 17.9433 - mae: 2.7686 - val_loss: 17.7136 - val_mae: 3.1425\n",
      "Epoch 15/80\n",
      "323/323 [==============================] - 0s 77us/sample - loss: 16.7304 - mae: 2.6905 - val_loss: 17.8030 - val_mae: 3.0034\n",
      "Epoch 16/80\n",
      "323/323 [==============================] - 0s 88us/sample - loss: 15.8638 - mae: 2.6462 - val_loss: 15.8364 - val_mae: 2.9785\n",
      "Epoch 17/80\n",
      "323/323 [==============================] - 0s 85us/sample - loss: 15.2039 - mae: 2.6409 - val_loss: 15.0374 - val_mae: 2.8391\n",
      "Epoch 18/80\n",
      "323/323 [==============================] - 0s 86us/sample - loss: 14.0912 - mae: 2.5024 - val_loss: 14.8543 - val_mae: 2.9394\n",
      "Epoch 19/80\n",
      "323/323 [==============================] - 0s 87us/sample - loss: 13.8007 - mae: 2.4342 - val_loss: 13.7410 - val_mae: 2.8337\n",
      "Epoch 20/80\n",
      "323/323 [==============================] - 0s 88us/sample - loss: 13.1168 - mae: 2.4402 - val_loss: 13.3577 - val_mae: 2.7660\n",
      "Epoch 21/80\n",
      "323/323 [==============================] - 0s 94us/sample - loss: 12.5541 - mae: 2.4015 - val_loss: 13.7556 - val_mae: 2.7364\n",
      "Epoch 22/80\n",
      "323/323 [==============================] - 0s 79us/sample - loss: 12.2634 - mae: 2.3380 - val_loss: 12.7350 - val_mae: 2.6741\n",
      "Epoch 23/80\n",
      "323/323 [==============================] - 0s 81us/sample - loss: 11.6006 - mae: 2.3356 - val_loss: 14.1894 - val_mae: 2.8284\n",
      "Epoch 24/80\n",
      "323/323 [==============================] - 0s 77us/sample - loss: 11.6590 - mae: 2.3114 - val_loss: 12.6731 - val_mae: 2.6233\n",
      "Epoch 25/80\n",
      "323/323 [==============================] - 0s 78us/sample - loss: 10.9818 - mae: 2.2774 - val_loss: 12.4312 - val_mae: 2.6746\n",
      "Epoch 26/80\n",
      "323/323 [==============================] - 0s 77us/sample - loss: 10.7622 - mae: 2.2312 - val_loss: 12.4141 - val_mae: 2.6165\n",
      "Epoch 27/80\n",
      "323/323 [==============================] - 0s 72us/sample - loss: 10.4267 - mae: 2.2132 - val_loss: 13.3142 - val_mae: 2.8335\n",
      "Epoch 28/80\n",
      "323/323 [==============================] - 0s 79us/sample - loss: 10.1005 - mae: 2.1699 - val_loss: 12.1514 - val_mae: 2.5788\n",
      "Epoch 29/80\n",
      "323/323 [==============================] - 0s 77us/sample - loss: 10.0061 - mae: 2.1608 - val_loss: 13.2891 - val_mae: 2.7506\n",
      "Epoch 30/80\n",
      "323/323 [==============================] - 0s 76us/sample - loss: 9.9906 - mae: 2.1963 - val_loss: 13.1557 - val_mae: 2.6723\n",
      "Epoch 31/80\n",
      "323/323 [==============================] - 0s 77us/sample - loss: 9.7750 - mae: 2.1541 - val_loss: 12.9952 - val_mae: 2.6553\n",
      "Epoch 32/80\n",
      "323/323 [==============================] - 0s 75us/sample - loss: 9.1979 - mae: 2.1132 - val_loss: 13.3257 - val_mae: 2.7079\n",
      "Epoch 33/80\n",
      "323/323 [==============================] - 0s 76us/sample - loss: 9.3540 - mae: 2.1075 - val_loss: 12.7720 - val_mae: 2.7062\n",
      "Epoch 34/80\n",
      "323/323 [==============================] - 0s 73us/sample - loss: 9.2866 - mae: 2.0913 - val_loss: 13.2854 - val_mae: 2.7522\n",
      "Epoch 35/80\n",
      "323/323 [==============================] - 0s 74us/sample - loss: 9.0295 - mae: 2.0347 - val_loss: 13.4715 - val_mae: 2.6335\n",
      "Epoch 36/80\n",
      "323/323 [==============================] - 0s 73us/sample - loss: 9.0155 - mae: 2.0657 - val_loss: 14.7858 - val_mae: 2.6266\n",
      "Epoch 37/80\n",
      "323/323 [==============================] - 0s 76us/sample - loss: 8.8915 - mae: 2.1033 - val_loss: 14.1055 - val_mae: 2.6736\n",
      "Epoch 38/80\n",
      "323/323 [==============================] - 0s 72us/sample - loss: 8.7043 - mae: 2.0637 - val_loss: 14.0576 - val_mae: 2.7417\n",
      "Epoch 39/80\n",
      "323/323 [==============================] - 0s 77us/sample - loss: 8.6727 - mae: 2.0271 - val_loss: 13.7351 - val_mae: 2.6594\n",
      "Epoch 40/80\n",
      "323/323 [==============================] - 0s 77us/sample - loss: 8.3252 - mae: 2.0195 - val_loss: 14.4924 - val_mae: 2.6174\n",
      "Epoch 41/80\n",
      "323/323 [==============================] - 0s 81us/sample - loss: 8.6017 - mae: 2.0601 - val_loss: 14.5161 - val_mae: 2.6234\n",
      "Epoch 42/80\n",
      "323/323 [==============================] - 0s 72us/sample - loss: 8.2370 - mae: 2.0120 - val_loss: 14.2120 - val_mae: 2.6737\n",
      "Epoch 43/80\n",
      "323/323 [==============================] - 0s 74us/sample - loss: 8.2815 - mae: 1.9783 - val_loss: 16.2092 - val_mae: 2.9500\n",
      "Epoch 44/80\n",
      "323/323 [==============================] - 0s 75us/sample - loss: 8.2587 - mae: 1.9975 - val_loss: 15.1552 - val_mae: 2.7295\n",
      "Epoch 45/80\n",
      "323/323 [==============================] - 0s 83us/sample - loss: 8.2108 - mae: 1.9784 - val_loss: 14.5400 - val_mae: 2.6725\n",
      "Epoch 46/80\n",
      "323/323 [==============================] - 0s 82us/sample - loss: 8.0498 - mae: 1.9925 - val_loss: 14.8034 - val_mae: 2.7522\n",
      "Epoch 47/80\n",
      "323/323 [==============================] - 0s 73us/sample - loss: 7.8135 - mae: 1.9395 - val_loss: 15.7790 - val_mae: 2.7342\n",
      "Epoch 48/80\n",
      "323/323 [==============================] - 0s 78us/sample - loss: 7.9839 - mae: 1.9655 - val_loss: 14.8340 - val_mae: 2.6281\n",
      "Epoch 49/80\n",
      "323/323 [==============================] - 0s 81us/sample - loss: 7.7898 - mae: 1.9373 - val_loss: 14.8226 - val_mae: 2.6214\n",
      "Epoch 50/80\n",
      "323/323 [==============================] - 0s 80us/sample - loss: 8.0583 - mae: 1.9709 - val_loss: 14.9175 - val_mae: 2.6418\n",
      "Epoch 51/80\n",
      "323/323 [==============================] - 0s 73us/sample - loss: 7.4982 - mae: 1.8579 - val_loss: 14.1308 - val_mae: 2.6053\n",
      "Epoch 52/80\n",
      "323/323 [==============================] - 0s 71us/sample - loss: 7.4368 - mae: 1.8854 - val_loss: 14.7609 - val_mae: 2.6381\n",
      "Epoch 53/80\n",
      "323/323 [==============================] - 0s 79us/sample - loss: 7.5813 - mae: 1.9469 - val_loss: 15.1878 - val_mae: 2.6101\n",
      "Epoch 54/80\n",
      "323/323 [==============================] - 0s 75us/sample - loss: 7.4975 - mae: 1.9160 - val_loss: 15.0016 - val_mae: 2.5807\n",
      "Epoch 55/80\n",
      "323/323 [==============================] - 0s 70us/sample - loss: 7.2927 - mae: 1.8551 - val_loss: 15.9483 - val_mae: 2.6246\n",
      "Epoch 56/80\n",
      "323/323 [==============================] - 0s 70us/sample - loss: 7.3647 - mae: 1.8900 - val_loss: 15.2402 - val_mae: 2.6803\n",
      "Epoch 57/80\n",
      "323/323 [==============================] - 0s 72us/sample - loss: 7.3899 - mae: 1.8739 - val_loss: 18.5794 - val_mae: 3.1062\n",
      "Epoch 58/80\n",
      "323/323 [==============================] - 0s 87us/sample - loss: 7.4312 - mae: 1.9122 - val_loss: 15.1597 - val_mae: 2.6462\n",
      "Epoch 59/80\n",
      "323/323 [==============================] - 0s 82us/sample - loss: 7.0994 - mae: 1.8316 - val_loss: 16.8523 - val_mae: 2.7665\n",
      "Epoch 60/80\n",
      "323/323 [==============================] - 0s 74us/sample - loss: 7.2055 - mae: 1.8687 - val_loss: 16.0846 - val_mae: 2.7069\n",
      "Epoch 61/80\n",
      "323/323 [==============================] - 0s 80us/sample - loss: 7.1040 - mae: 1.8768 - val_loss: 14.8996 - val_mae: 2.6855\n",
      "Epoch 62/80\n",
      "323/323 [==============================] - 0s 79us/sample - loss: 7.1118 - mae: 1.8319 - val_loss: 15.3404 - val_mae: 2.5651\n",
      "Epoch 63/80\n",
      "323/323 [==============================] - 0s 76us/sample - loss: 6.9811 - mae: 1.8004 - val_loss: 16.2764 - val_mae: 2.6272\n",
      "Epoch 64/80\n",
      "323/323 [==============================] - 0s 74us/sample - loss: 6.8914 - mae: 1.7974 - val_loss: 15.9364 - val_mae: 2.6471\n",
      "Epoch 65/80\n",
      "323/323 [==============================] - 0s 74us/sample - loss: 6.7940 - mae: 1.7815 - val_loss: 16.3478 - val_mae: 2.6126\n",
      "Epoch 66/80\n",
      "323/323 [==============================] - 0s 71us/sample - loss: 6.8755 - mae: 1.7940 - val_loss: 15.4618 - val_mae: 2.7089\n",
      "Epoch 67/80\n",
      "323/323 [==============================] - 0s 74us/sample - loss: 6.5955 - mae: 1.7968 - val_loss: 15.5259 - val_mae: 2.7088\n",
      "Epoch 68/80\n",
      "323/323 [==============================] - 0s 71us/sample - loss: 6.7442 - mae: 1.8004 - val_loss: 15.0756 - val_mae: 2.6191\n",
      "Epoch 69/80\n",
      "323/323 [==============================] - 0s 74us/sample - loss: 6.8227 - mae: 1.7833 - val_loss: 16.4539 - val_mae: 2.7087\n",
      "Epoch 70/80\n",
      "323/323 [==============================] - 0s 77us/sample - loss: 6.6621 - mae: 1.7810 - val_loss: 15.5988 - val_mae: 2.6643\n",
      "Epoch 71/80\n",
      "323/323 [==============================] - 0s 73us/sample - loss: 6.4789 - mae: 1.7445 - val_loss: 15.7901 - val_mae: 2.7397\n",
      "Epoch 72/80\n",
      "323/323 [==============================] - 0s 71us/sample - loss: 6.5770 - mae: 1.7636 - val_loss: 16.1277 - val_mae: 2.5841\n",
      "Epoch 73/80\n",
      "323/323 [==============================] - 0s 72us/sample - loss: 6.5569 - mae: 1.7408 - val_loss: 15.2263 - val_mae: 2.6521\n",
      "Epoch 74/80\n",
      "323/323 [==============================] - 0s 68us/sample - loss: 6.4393 - mae: 1.7284 - val_loss: 15.1419 - val_mae: 2.7150\n",
      "Epoch 75/80\n",
      "323/323 [==============================] - 0s 73us/sample - loss: 6.3824 - mae: 1.7167 - val_loss: 15.1894 - val_mae: 2.6812\n",
      "Epoch 76/80\n",
      "323/323 [==============================] - 0s 69us/sample - loss: 6.4662 - mae: 1.7262 - val_loss: 16.9882 - val_mae: 2.7297\n",
      "Epoch 77/80\n",
      "323/323 [==============================] - 0s 73us/sample - loss: 6.1624 - mae: 1.6892 - val_loss: 15.1096 - val_mae: 2.6421\n",
      "Epoch 78/80\n",
      "323/323 [==============================] - 0s 66us/sample - loss: 6.2018 - mae: 1.6992 - val_loss: 16.6358 - val_mae: 2.6495\n",
      "Epoch 79/80\n",
      "323/323 [==============================] - 0s 73us/sample - loss: 6.1288 - mae: 1.6986 - val_loss: 15.8724 - val_mae: 2.6140\n",
      "Epoch 80/80\n",
      "323/323 [==============================] - 0s 81us/sample - loss: 6.1182 - mae: 1.6824 - val_loss: 16.3168 - val_mae: 2.6349\n"
     ]
    },
    {
     "data": {
      "text/plain": [
       "dict_keys(['loss', 'mae', 'val_loss', 'val_mae'])"
      ]
     },
     "execution_count": 15,
     "metadata": {},
     "output_type": "execute_result"
    }
   ],
   "source": [
    "history = model.fit(x=train_x, y=train_y, validation_split=0.2, shuffle=True, batch_size=16, epochs=80)\n",
    "history.history.keys()"
   ]
  },
  {
   "cell_type": "code",
   "execution_count": 16,
   "metadata": {},
   "outputs": [
    {
     "data": {
      "image/png": "[encoded data removed]",
      "text/plain": [
       "<Figure size 1440x720 with 2 Axes>"
      ]
     },
     "metadata": {
      "needs_background": "light"
     },
     "output_type": "display_data"
    }
   ],
   "source": [
    "fig = plt.figure(figsize=(20, 10))\n",
    "\n",
    "plt.subplot(1, 2, 1)\n",
    "plt.plot(history.history['mae'])\n",
    "plt.plot(history.history['val_mae'])\n",
    "plt.title('Model MAE')\n",
    "plt.ylabel('mae')\n",
    "plt.xlabel('epoch')\n",
    "plt.legend(['train', 'mae'], loc='upper left')\n",
    "\n",
    "plt.subplot(1, 2, 2)\n",
    "plt.plot(history.history['loss'])\n",
    "plt.plot(history.history['val_loss'])\n",
    "plt.title('Model loss')\n",
    "plt.ylabel('loss')\n",
    "plt.xlabel('epoch')\n",
    "plt.legend(['train', 'validation'], loc='upper left')\n",
    "\n",
    "plt.show()"
   ]
  },
  {
   "cell_type": "markdown",
   "metadata": {},
   "source": [
    "## Evaluate"
   ]
  },
  {
   "cell_type": "code",
   "execution_count": 17,
   "metadata": {},
   "outputs": [
    {
     "name": "stdout",
     "output_type": "stream",
     "text": [
      "102/102 [==============================] - 0s 43us/sample - loss: 26.2034 - mae: 2.9170\n"
     ]
    },
    {
     "data": {
      "text/plain": [
       "(26.203434962852327, 2.9169543)"
      ]
     },
     "execution_count": 17,
     "metadata": {},
     "output_type": "execute_result"
    }
   ],
   "source": [
    "loss, mae = model.evaluate(x=test_x, y=test_y)\n",
    "loss, mae"
   ]
  },
  {
   "cell_type": "markdown",
   "metadata": {},
   "source": [
    "## Predict on one sentence"
   ]
  },
  {
   "cell_type": "code",
   "execution_count": 18,
   "metadata": {},
   "outputs": [],
   "source": [
    "model.trainable = False\n",
    "\n",
    "# Compile model so changes to trainable would take effect\n",
    "model.compile(optimizer='rmsprop', loss='binary_crossentropy', metrics=['accuracy'])"
   ]
  },
  {
   "cell_type": "code",
   "execution_count": 19,
   "metadata": {},
   "outputs": [
    {
     "data": {
      "text/plain": [
       "(1, 13)"
      ]
     },
     "execution_count": 19,
     "metadata": {},
     "output_type": "execute_result"
    }
   ],
   "source": [
    "index = 0\n",
    "\n",
    "test = test_x[index].reshape(1, *test_x[index].shape)\n",
    "test.shape"
   ]
  },
  {
   "cell_type": "code",
   "execution_count": 20,
   "metadata": {},
   "outputs": [
    {
     "data": {
      "text/plain": [
       "(8.413277626037598, 7.2)"
      ]
     },
     "execution_count": 20,
     "metadata": {},
     "output_type": "execute_result"
    }
   ],
   "source": [
    "output = model(test)\n",
    "float(output), test_y[index]"
   ]
  },
  {
   "cell_type": "code",
   "execution_count": null,
   "metadata": {},
   "outputs": [],
   "source": []
  }
 ],
 "metadata": {
  "kernelspec": {
   "display_name": "py3",
   "language": "python",
   "name": "py3"
  },
  "language_info": {
   "codemirror_mode": {
    "name": "ipython",
    "version": 3
   },
   "file_extension": ".py",
   "mimetype": "text/x-python",
   "name": "python",
   "nbconvert_exporter": "python",
   "pygments_lexer": "ipython3",
   "version": "3.6.9"
  }
 },
 "nbformat": 4,
 "nbformat_minor": 2
}
