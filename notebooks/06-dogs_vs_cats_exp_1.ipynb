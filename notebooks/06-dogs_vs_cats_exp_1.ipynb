{
 "cells": [
  {
   "cell_type": "markdown",
   "metadata": {},
   "source": [
    "Check running TensorFlow version"
   ]
  },
  {
   "cell_type": "code",
   "execution_count": 1,
   "metadata": {},
   "outputs": [
    {
     "data": {
      "text/plain": [
       "'2.0.0-beta1'"
      ]
     },
     "execution_count": 1,
     "metadata": {},
     "output_type": "execute_result"
    }
   ],
   "source": [
    "import tensorflow as tf\n",
    "tf.__version__"
   ]
  },
  {
   "cell_type": "markdown",
   "metadata": {},
   "source": [
    "# Dogs vs. Cats\n",
    "\n",
    "The goal is to build a system to distinguish dogs vs. dogs.\n",
    "\n",
    "This was a [Kaggle competition](https://www.kaggle.com/c/dogs-vs-cats) back in 2013. I will only use a subset of the available dataset here:\n",
    "- 2,000 for training, split 50% dogs - 50% cats\n",
    "- 1,000 for validation, split 50% dogs - 50% cats\n",
    "- 1,000 for test, split 50% dogs - 50% cats\n",
    "\n",
    "Here I will measure the accuracy of a vanilla ConvNet model. I will also keep an eye for overfitting given the small size of the dataset. Later I will try to solve this problem differently and compare the results."
   ]
  },
  {
   "cell_type": "code",
   "execution_count": 2,
   "metadata": {},
   "outputs": [],
   "source": [
    "from tensorflow import keras\n",
    "from tensorflow.keras.models import Sequential\n",
    "from tensorflow.keras import layers\n",
    "from tensorflow.keras.preprocessing.image import load_img\n",
    "from tensorflow.keras.preprocessing.image import img_to_array, array_to_img\n",
    "from tensorflow.keras.preprocessing.image import ImageDataGenerator\n",
    "\n",
    "from pathlib import Path\n",
    "Path.ls = lambda x: list(x.iterdir())\n",
    "\n",
    "import matplotlib.pyplot as plt\n",
    "%matplotlib inline\n",
    "\n",
    "import random as rand\n",
    "\n",
    "import numpy as np\n",
    "\n",
    "import shutil"
   ]
  },
  {
   "cell_type": "code",
   "execution_count": 3,
   "metadata": {},
   "outputs": [],
   "source": [
    "batch_size = 16"
   ]
  },
  {
   "cell_type": "markdown",
   "metadata": {},
   "source": [
    "## Prepare the dataset\n",
    "\n",
    "I manually downloaded the dataset from this [Kaggle competition](https://www.kaggle.com/c/dogs-vs-cats), unzipped it and here I will prepare for model training"
   ]
  },
  {
   "cell_type": "code",
   "execution_count": 4,
   "metadata": {},
   "outputs": [
    {
     "data": {
      "text/plain": [
       "[PosixPath('../data/preprocessed')]"
      ]
     },
     "execution_count": 4,
     "metadata": {},
     "output_type": "execute_result"
    }
   ],
   "source": [
    "data_path = Path(\"../data\")\n",
    "data_path.ls()"
   ]
  },
  {
   "cell_type": "code",
   "execution_count": 5,
   "metadata": {},
   "outputs": [],
   "source": [
    "dogs_vs_cats_dir_name = \"dogs-vs-cats\"\n",
    "raw_dir_name = \"raw\"\n",
    "preprocessed_dir_name = \"preprocessed\"\n",
    "\n",
    "train_dir_name = \"train\"\n",
    "valid_dir_name = \"valid\"\n",
    "test_dir_name = \"test\"\n",
    "\n",
    "dogs_dir_name = \"dogs\"\n",
    "cats_dir_name = \"cats\"\n",
    "\n",
    "raw_data_path = data_path/raw_dir_name/dogs_vs_cats_dir_name\n",
    "preprocessed_data_path = data_path/preprocessed_dir_name/dogs_vs_cats_dir_name\n",
    "\n",
    "dogs_train_data_path = preprocessed_data_path/train_dir_name/dogs_dir_name\n",
    "cats_train_data_path = preprocessed_data_path/train_dir_name/cats_dir_name\n",
    "\n",
    "dogs_valid_data_path = preprocessed_data_path/valid_dir_name/dogs_dir_name\n",
    "cats_valid_data_path = preprocessed_data_path/valid_dir_name/cats_dir_name\n",
    "\n",
    "dogs_test_data_path = preprocessed_data_path/test_dir_name/dogs_dir_name\n",
    "cats_test_data_path = preprocessed_data_path/test_dir_name/cats_dir_name"
   ]
  },
  {
   "cell_type": "code",
   "execution_count": null,
   "metadata": {},
   "outputs": [],
   "source": [
    "raw_data_path.ls()"
   ]
  },
  {
   "cell_type": "code",
   "execution_count": null,
   "metadata": {},
   "outputs": [],
   "source": [
    "(raw_data_path/\"train\").ls()[:5]"
   ]
  },
  {
   "cell_type": "markdown",
   "metadata": {},
   "source": [
    "Create new directories"
   ]
  },
  {
   "cell_type": "code",
   "execution_count": null,
   "metadata": {},
   "outputs": [],
   "source": [
    "dogs_train_data_path.mkdir(parents=True, exist_ok=True)\n",
    "cats_train_data_path.mkdir(parents=True, exist_ok=True)\n",
    "\n",
    "dogs_valid_data_path.mkdir(parents=True, exist_ok=True)\n",
    "cats_valid_data_path.mkdir(parents=True, exist_ok=True)\n",
    "\n",
    "dogs_test_data_path.mkdir(parents=True, exist_ok=True)\n",
    "cats_test_data_path.mkdir(parents=True, exist_ok=True)"
   ]
  },
  {
   "cell_type": "markdown",
   "metadata": {},
   "source": [
    "Copy data over to preprocessed directory"
   ]
  },
  {
   "cell_type": "code",
   "execution_count": null,
   "metadata": {},
   "outputs": [],
   "source": [
    "raw_train_data_path = raw_data_path/\"train\"\n",
    "\n",
    "def filter_files(key: str, path: Path): \n",
    "    return list(filter(lambda file_name: str(file_name).find(key) > 0, path.ls()))\n",
    "\n",
    "dogs_files = filter_files(\"dog.\", raw_train_data_path)\n",
    "cats_files = filter_files(\"cat.\", raw_train_data_path)\n",
    "print(f\"There are {len(dogs_files)} available dogs images, and {len(cats_files)} available cats images\")"
   ]
  },
  {
   "cell_type": "code",
   "execution_count": null,
   "metadata": {},
   "outputs": [],
   "source": [
    "def copy(files: list, start_index: int, end_index: int, dest: Path):\n",
    "    for i in range(start_index, end_index):\n",
    "        shutil.copy(files[i], dest)\n",
    "\n",
    "# Train\n",
    "copy(dogs_files, 0, 1000, dogs_train_data_path)\n",
    "copy(cats_files, 0, 1000, cats_train_data_path)\n",
    "\n",
    "# Valid\n",
    "copy(dogs_files, 1000, 1500, dogs_valid_data_path)\n",
    "copy(cats_files, 1000, 1500, cats_valid_data_path)\n",
    "\n",
    "# Test\n",
    "copy(dogs_files, 1500, 2000, dogs_test_data_path)\n",
    "copy(cats_files, 1500, 2000, cats_test_data_path)"
   ]
  },
  {
   "cell_type": "markdown",
   "metadata": {},
   "source": [
    "## Explore the data"
   ]
  },
  {
   "cell_type": "code",
   "execution_count": null,
   "metadata": {},
   "outputs": [],
   "source": [
    "rows = 3\n",
    "cols = 3\n",
    "\n",
    "plt.subplots_adjust(wspace=0, hspace=.3)\n",
    "for i, index in enumerate(rand.choices(range(len(dogs_files)), k=rows*cols), 1):\n",
    "    plt.subplot(rows, cols, i)\n",
    "    plt.imshow(load_img(dogs_files[index], target_size=(150, 150)))"
   ]
  },
  {
   "cell_type": "code",
   "execution_count": null,
   "metadata": {},
   "outputs": [],
   "source": [
    "plt.subplots_adjust(wspace=0, hspace=.3)\n",
    "for i, index in enumerate(rand.choices(range(len(dogs_files)), k=rows*cols), 1):\n",
    "    plt.subplot(rows, cols, i)\n",
    "    plt.imshow(load_img(cats_files[index], target_size=(150, 150)))"
   ]
  },
  {
   "cell_type": "markdown",
   "metadata": {},
   "source": [
    "## Build data generators"
   ]
  },
  {
   "cell_type": "code",
   "execution_count": 6,
   "metadata": {},
   "outputs": [
    {
     "name": "stdout",
     "output_type": "stream",
     "text": [
      "Found 2000 images belonging to 2 classes.\n",
      "Found 1000 images belonging to 2 classes.\n",
      "Found 1000 images belonging to 2 classes.\n"
     ]
    }
   ],
   "source": [
    "train_datagen = ImageDataGenerator(\n",
    "    rescale=1/255,\n",
    "    rotation_range=40,\n",
    "    width_shift_range=0.2,\n",
    "    height_shift_range=0.2,\n",
    "    shear_range=0.2,\n",
    "    zoom_range=0.2,\n",
    "    horizontal_flip=True\n",
    ")\n",
    "\n",
    "test_datagen = ImageDataGenerator(rescale=1/255)\n",
    "\n",
    "train_generator = train_datagen.flow_from_directory(\n",
    "    str(preprocessed_data_path/train_dir_name),\n",
    "    target_size=(150, 150),\n",
    "    batch_size=batch_size,\n",
    "    class_mode='binary'\n",
    ")\n",
    "\n",
    "valid_generator = train_datagen.flow_from_directory(\n",
    "    str(preprocessed_data_path/valid_dir_name),\n",
    "    target_size=(150, 150),\n",
    "    batch_size=batch_size,\n",
    "    class_mode='binary'\n",
    ")\n",
    "\n",
    "test_generator = train_datagen.flow_from_directory(\n",
    "    str(preprocessed_data_path/test_dir_name),\n",
    "    target_size=(150, 150),\n",
    "    batch_size=batch_size,\n",
    "    class_mode='binary'\n",
    ")"
   ]
  },
  {
   "cell_type": "markdown",
   "metadata": {},
   "source": [
    "Check datagen outputs"
   ]
  },
  {
   "cell_type": "code",
   "execution_count": null,
   "metadata": {},
   "outputs": [],
   "source": [
    "image = load_img(dogs_files[0], target_size=(150, 150))\n",
    "image_numpy = img_to_array(image)\n",
    "x = image_numpy.reshape((1,) + image_numpy.shape)\n",
    "x.shape"
   ]
  },
  {
   "cell_type": "code",
   "execution_count": null,
   "metadata": {},
   "outputs": [],
   "source": [
    "plt.imshow(image)"
   ]
  },
  {
   "cell_type": "code",
   "execution_count": null,
   "metadata": {},
   "outputs": [],
   "source": [
    "for i, batch in enumerate(train_datagen.flow(x, batch_size=1), 1):\n",
    "    plt.subplot(2, 2, i)\n",
    "    plt.imshow(array_to_img(batch[0]))\n",
    "    \n",
    "    if i == 4:\n",
    "        break"
   ]
  },
  {
   "cell_type": "markdown",
   "metadata": {},
   "source": [
    "## Train a basic ConvNet model"
   ]
  },
  {
   "cell_type": "code",
   "execution_count": null,
   "metadata": {},
   "outputs": [],
   "source": [
    "train_generator[0][0].shape[1:]"
   ]
  },
  {
   "cell_type": "code",
   "execution_count": 7,
   "metadata": {},
   "outputs": [
    {
     "name": "stdout",
     "output_type": "stream",
     "text": [
      "Model: \"sequential\"\n",
      "_________________________________________________________________\n",
      "Layer (type)                 Output Shape              Param #   \n",
      "=================================================================\n",
      "conv2d (Conv2D)              (None, 148, 148, 32)      896       \n",
      "_________________________________________________________________\n",
      "max_pooling2d (MaxPooling2D) (None, 74, 74, 32)        0         \n",
      "_________________________________________________________________\n",
      "conv2d_1 (Conv2D)            (None, 72, 72, 64)        18496     \n",
      "_________________________________________________________________\n",
      "max_pooling2d_1 (MaxPooling2 (None, 36, 36, 64)        0         \n",
      "_________________________________________________________________\n",
      "conv2d_2 (Conv2D)            (None, 34, 34, 128)       73856     \n",
      "_________________________________________________________________\n",
      "max_pooling2d_2 (MaxPooling2 (None, 17, 17, 128)       0         \n",
      "_________________________________________________________________\n",
      "conv2d_3 (Conv2D)            (None, 15, 15, 128)       147584    \n",
      "_________________________________________________________________\n",
      "max_pooling2d_3 (MaxPooling2 (None, 7, 7, 128)         0         \n",
      "_________________________________________________________________\n",
      "flatten (Flatten)            (None, 6272)              0         \n",
      "_________________________________________________________________\n",
      "dense (Dense)                (None, 512)               3211776   \n",
      "_________________________________________________________________\n",
      "dense_1 (Dense)              (None, 1)                 513       \n",
      "=================================================================\n",
      "Total params: 3,453,121\n",
      "Trainable params: 3,453,121\n",
      "Non-trainable params: 0\n",
      "_________________________________________________________________\n"
     ]
    }
   ],
   "source": [
    "model = Sequential()\n",
    "model.add(layers.Conv2D(32, (3, 3), activation=\"relu\", input_shape=(150, 150, 3)))\n",
    "model.add(layers.MaxPool2D((2, 2)))\n",
    "model.add(layers.Conv2D(64, (3, 3), activation=\"relu\"))\n",
    "model.add(layers.MaxPool2D((2, 2)))\n",
    "model.add(layers.Conv2D(128, (3, 3), activation=\"relu\"))\n",
    "model.add(layers.MaxPool2D((2, 2)))\n",
    "model.add(layers.Conv2D(128, (3, 3), activation=\"relu\"))\n",
    "model.add(layers.MaxPool2D((2, 2)))\n",
    "model.add(layers.Flatten())\n",
    "model.add(layers.Dense(512))\n",
    "model.add(layers.Dense(1, activation=\"sigmoid\"))\n",
    "\n",
    "model.summary()"
   ]
  },
  {
   "cell_type": "markdown",
   "metadata": {},
   "source": [
    "Check progress in TensorBoard by running `tensorboard --logdir=logs/dogs_vs_cats_v1` in terminal"
   ]
  },
  {
   "cell_type": "code",
   "execution_count": 8,
   "metadata": {},
   "outputs": [],
   "source": [
    "# Try removing the old logs first\n",
    "!rm -r ../logs/dogs_vs_cats_v1\n",
    "\n",
    "callbacks = [\n",
    "    keras.callbacks.TensorBoard(log_dir='../logs/dogs_vs_cats_v1')\n",
    "]"
   ]
  },
  {
   "cell_type": "code",
   "execution_count": 9,
   "metadata": {},
   "outputs": [],
   "source": [
    "model.compile(optimizer='rmsprop', loss='binary_crossentropy', metrics=['accuracy'])"
   ]
  },
  {
   "cell_type": "code",
   "execution_count": 10,
   "metadata": {},
   "outputs": [
    {
     "data": {
      "text/plain": [
       "(125, 63)"
      ]
     },
     "execution_count": 10,
     "metadata": {},
     "output_type": "execute_result"
    }
   ],
   "source": [
    "steps_per_epoch = len(train_generator)\n",
    "validation_steps = len(valid_generator)\n",
    "\n",
    "steps_per_epoch, validation_steps"
   ]
  },
  {
   "cell_type": "code",
   "execution_count": 11,
   "metadata": {},
   "outputs": [
    {
     "name": "stdout",
     "output_type": "stream",
     "text": [
      "Epoch 1/100\n"
     ]
    },
    {
     "name": "stderr",
     "output_type": "stream",
     "text": [
      "WARNING: Logging before flag parsing goes to stderr.\n",
      "W0821 02:54:22.965837 140162078500608 deprecation.py:323] From /usr/local/lib/python3.5/dist-packages/tensorflow/python/ops/math_grad.py:1250: add_dispatch_support.<locals>.wrapper (from tensorflow.python.ops.array_ops) is deprecated and will be removed in a future version.\n",
      "Instructions for updating:\n",
      "Use tf.where in 2.0, which has the same broadcast rule as np.where\n"
     ]
    },
    {
     "name": "stdout",
     "output_type": "stream",
     "text": [
      "  1/125 [..............................] - ETA: 7:19 - loss: 0.7141 - accuracy: 0.3125"
     ]
    },
    {
     "name": "stderr",
     "output_type": "stream",
     "text": [
      "W0821 02:54:26.335098 140162078500608 callbacks.py:241] Method (on_train_batch_end) is slow compared to the batch update (0.211692). Check your callbacks.\n"
     ]
    },
    {
     "name": "stdout",
     "output_type": "stream",
     "text": [
      "125/125 [==============================] - 21s 172ms/step - loss: 7.6796 - accuracy: 0.4970 - val_loss: 7.6972 - val_accuracy: 0.5000\n",
      "Epoch 2/100\n",
      "125/125 [==============================] - 18s 142ms/step - loss: 7.7125 - accuracy: 0.5000 - val_loss: 7.7278 - val_accuracy: 0.5000\n",
      "Epoch 3/100\n",
      "125/125 [==============================] - 18s 141ms/step - loss: 7.7125 - accuracy: 0.5000 - val_loss: 7.7278 - val_accuracy: 0.5000\n",
      "Epoch 4/100\n",
      "125/125 [==============================] - 18s 141ms/step - loss: 7.7125 - accuracy: 0.5000 - val_loss: 7.7277 - val_accuracy: 0.5000\n",
      "Epoch 5/100\n",
      "125/125 [==============================] - 18s 142ms/step - loss: 7.7125 - accuracy: 0.5000 - val_loss: 7.7278 - val_accuracy: 0.5000\n",
      "Epoch 6/100\n",
      "125/125 [==============================] - 18s 141ms/step - loss: 7.7125 - accuracy: 0.5000 - val_loss: 7.7278 - val_accuracy: 0.5000\n",
      "Epoch 7/100\n",
      "125/125 [==============================] - 18s 142ms/step - loss: 6.2624 - accuracy: 0.5080 - val_loss: 0.6921 - val_accuracy: 0.5020\n",
      "Epoch 8/100\n",
      "125/125 [==============================] - 18s 142ms/step - loss: 0.7266 - accuracy: 0.5265 - val_loss: 0.6945 - val_accuracy: 0.5020\n",
      "Epoch 9/100\n",
      "125/125 [==============================] - 18s 142ms/step - loss: 0.6964 - accuracy: 0.5385 - val_loss: 0.6834 - val_accuracy: 0.5110\n",
      "Epoch 10/100\n",
      "125/125 [==============================] - 18s 140ms/step - loss: 0.6936 - accuracy: 0.5720 - val_loss: 0.6775 - val_accuracy: 0.5630\n",
      "Epoch 11/100\n",
      "125/125 [==============================] - 18s 143ms/step - loss: 0.6771 - accuracy: 0.5880 - val_loss: 0.6533 - val_accuracy: 0.6180\n",
      "Epoch 12/100\n",
      "125/125 [==============================] - 18s 142ms/step - loss: 0.6639 - accuracy: 0.6305 - val_loss: 0.6510 - val_accuracy: 0.6160\n",
      "Epoch 13/100\n",
      "125/125 [==============================] - 18s 141ms/step - loss: 0.6545 - accuracy: 0.6365 - val_loss: 0.6519 - val_accuracy: 0.6180\n",
      "Epoch 14/100\n",
      "125/125 [==============================] - 17s 140ms/step - loss: 0.6604 - accuracy: 0.6340 - val_loss: 0.6288 - val_accuracy: 0.6410\n",
      "Epoch 15/100\n",
      "125/125 [==============================] - 18s 143ms/step - loss: 0.6615 - accuracy: 0.6245 - val_loss: 0.6237 - val_accuracy: 0.6240\n",
      "Epoch 16/100\n",
      "125/125 [==============================] - 18s 141ms/step - loss: 0.6494 - accuracy: 0.6430 - val_loss: 0.6321 - val_accuracy: 0.6430\n",
      "Epoch 17/100\n",
      "125/125 [==============================] - 18s 141ms/step - loss: 0.6498 - accuracy: 0.6430 - val_loss: 0.6304 - val_accuracy: 0.6820\n",
      "Epoch 18/100\n",
      "125/125 [==============================] - 18s 140ms/step - loss: 0.6296 - accuracy: 0.6595 - val_loss: 0.6109 - val_accuracy: 0.6680\n",
      "Epoch 19/100\n",
      "125/125 [==============================] - 17s 139ms/step - loss: 0.6267 - accuracy: 0.6575 - val_loss: 0.5824 - val_accuracy: 0.6780\n",
      "Epoch 20/100\n",
      "125/125 [==============================] - 18s 142ms/step - loss: 0.6155 - accuracy: 0.6675 - val_loss: 0.6353 - val_accuracy: 0.6610\n",
      "Epoch 21/100\n",
      "125/125 [==============================] - 18s 142ms/step - loss: 0.6220 - accuracy: 0.6675 - val_loss: 0.5764 - val_accuracy: 0.7070\n",
      "Epoch 22/100\n",
      "125/125 [==============================] - 18s 141ms/step - loss: 0.6067 - accuracy: 0.6830 - val_loss: 0.6118 - val_accuracy: 0.6670\n",
      "Epoch 23/100\n",
      "125/125 [==============================] - 18s 141ms/step - loss: 0.6132 - accuracy: 0.6810 - val_loss: 0.5634 - val_accuracy: 0.7090\n",
      "Epoch 24/100\n",
      "125/125 [==============================] - 18s 142ms/step - loss: 0.5937 - accuracy: 0.7080 - val_loss: 0.5932 - val_accuracy: 0.7080\n",
      "Epoch 25/100\n",
      "125/125 [==============================] - 18s 141ms/step - loss: 0.6041 - accuracy: 0.6855 - val_loss: 1.2663 - val_accuracy: 0.5410\n",
      "Epoch 26/100\n",
      "125/125 [==============================] - 18s 142ms/step - loss: 0.5998 - accuracy: 0.6990 - val_loss: 0.5683 - val_accuracy: 0.7190\n",
      "Epoch 27/100\n",
      "125/125 [==============================] - 18s 140ms/step - loss: 0.5912 - accuracy: 0.6935 - val_loss: 0.5909 - val_accuracy: 0.6980\n",
      "Epoch 28/100\n",
      "125/125 [==============================] - 18s 141ms/step - loss: 0.5906 - accuracy: 0.6995 - val_loss: 0.5689 - val_accuracy: 0.7130\n",
      "Epoch 29/100\n",
      "125/125 [==============================] - 18s 142ms/step - loss: 0.5835 - accuracy: 0.7075 - val_loss: 0.5708 - val_accuracy: 0.6990\n",
      "Epoch 30/100\n",
      "125/125 [==============================] - 18s 141ms/step - loss: 0.5600 - accuracy: 0.7145 - val_loss: 0.8531 - val_accuracy: 0.5970\n",
      "Epoch 31/100\n",
      "125/125 [==============================] - 18s 141ms/step - loss: 0.5581 - accuracy: 0.7320 - val_loss: 0.5736 - val_accuracy: 0.7020\n",
      "Epoch 32/100\n",
      "125/125 [==============================] - 18s 141ms/step - loss: 0.5561 - accuracy: 0.7290 - val_loss: 0.5287 - val_accuracy: 0.7480\n",
      "Epoch 33/100\n",
      "125/125 [==============================] - 18s 141ms/step - loss: 0.5536 - accuracy: 0.7185 - val_loss: 0.6274 - val_accuracy: 0.6910\n",
      "Epoch 34/100\n",
      "125/125 [==============================] - 18s 141ms/step - loss: 0.5736 - accuracy: 0.7215 - val_loss: 0.5705 - val_accuracy: 0.7240\n",
      "Epoch 35/100\n",
      "125/125 [==============================] - 18s 140ms/step - loss: 0.5395 - accuracy: 0.7360 - val_loss: 0.5734 - val_accuracy: 0.7140\n",
      "Epoch 36/100\n",
      "125/125 [==============================] - 18s 141ms/step - loss: 0.5447 - accuracy: 0.7390 - val_loss: 0.5486 - val_accuracy: 0.7350\n",
      "Epoch 37/100\n",
      "125/125 [==============================] - 18s 142ms/step - loss: 0.5483 - accuracy: 0.7255 - val_loss: 0.5331 - val_accuracy: 0.7390\n",
      "Epoch 38/100\n",
      "125/125 [==============================] - 18s 141ms/step - loss: 0.5415 - accuracy: 0.7435 - val_loss: 0.5476 - val_accuracy: 0.7360\n",
      "Epoch 39/100\n",
      "125/125 [==============================] - 18s 141ms/step - loss: 0.5445 - accuracy: 0.7400 - val_loss: 0.5189 - val_accuracy: 0.7380\n",
      "Epoch 40/100\n",
      "125/125 [==============================] - 18s 141ms/step - loss: 0.5217 - accuracy: 0.7485 - val_loss: 0.5297 - val_accuracy: 0.7450\n",
      "Epoch 41/100\n",
      "125/125 [==============================] - 17s 139ms/step - loss: 0.5202 - accuracy: 0.7540 - val_loss: 0.5694 - val_accuracy: 0.6910\n",
      "Epoch 42/100\n",
      "125/125 [==============================] - 17s 139ms/step - loss: 0.5322 - accuracy: 0.7505 - val_loss: 0.5746 - val_accuracy: 0.7320\n",
      "Epoch 43/100\n",
      "125/125 [==============================] - 18s 142ms/step - loss: 0.5158 - accuracy: 0.7605 - val_loss: 0.5613 - val_accuracy: 0.7340\n",
      "Epoch 44/100\n",
      "125/125 [==============================] - 18s 141ms/step - loss: 0.5134 - accuracy: 0.7660 - val_loss: 0.5241 - val_accuracy: 0.7430\n",
      "Epoch 45/100\n",
      "125/125 [==============================] - 18s 141ms/step - loss: 0.5132 - accuracy: 0.7600 - val_loss: 0.5365 - val_accuracy: 0.7510\n",
      "Epoch 46/100\n",
      "125/125 [==============================] - 18s 142ms/step - loss: 0.5001 - accuracy: 0.7620 - val_loss: 0.5201 - val_accuracy: 0.7580\n",
      "Epoch 47/100\n",
      "125/125 [==============================] - 18s 141ms/step - loss: 0.5087 - accuracy: 0.7685 - val_loss: 0.4946 - val_accuracy: 0.7650\n",
      "Epoch 48/100\n",
      "125/125 [==============================] - 18s 143ms/step - loss: 0.4900 - accuracy: 0.7630 - val_loss: 0.5357 - val_accuracy: 0.7440\n",
      "Epoch 49/100\n",
      "125/125 [==============================] - 18s 140ms/step - loss: 0.4959 - accuracy: 0.7830 - val_loss: 0.5980 - val_accuracy: 0.7320\n",
      "Epoch 50/100\n",
      "125/125 [==============================] - 18s 141ms/step - loss: 0.4942 - accuracy: 0.7710 - val_loss: 0.4916 - val_accuracy: 0.7630\n",
      "Epoch 51/100\n",
      "125/125 [==============================] - 18s 141ms/step - loss: 0.4915 - accuracy: 0.7755 - val_loss: 0.5890 - val_accuracy: 0.7150\n",
      "Epoch 52/100\n",
      "125/125 [==============================] - 18s 143ms/step - loss: 0.4825 - accuracy: 0.7795 - val_loss: 0.5398 - val_accuracy: 0.7440\n",
      "Epoch 53/100\n",
      "125/125 [==============================] - 18s 142ms/step - loss: 0.4932 - accuracy: 0.7880 - val_loss: 0.6625 - val_accuracy: 0.7120\n",
      "Epoch 54/100\n",
      "125/125 [==============================] - 18s 142ms/step - loss: 0.4865 - accuracy: 0.7760 - val_loss: 0.5876 - val_accuracy: 0.7140\n",
      "Epoch 55/100\n",
      "125/125 [==============================] - 18s 141ms/step - loss: 0.4872 - accuracy: 0.7655 - val_loss: 0.5013 - val_accuracy: 0.7760\n",
      "Epoch 56/100\n",
      "125/125 [==============================] - 18s 141ms/step - loss: 0.4808 - accuracy: 0.7835 - val_loss: 0.5063 - val_accuracy: 0.7670\n",
      "Epoch 57/100\n",
      "125/125 [==============================] - 18s 143ms/step - loss: 0.4672 - accuracy: 0.7920 - val_loss: 0.4734 - val_accuracy: 0.7720\n",
      "Epoch 58/100\n",
      "125/125 [==============================] - 18s 141ms/step - loss: 0.4609 - accuracy: 0.7975 - val_loss: 0.5344 - val_accuracy: 0.7340\n",
      "Epoch 59/100\n",
      "125/125 [==============================] - 17s 140ms/step - loss: 0.4592 - accuracy: 0.8005 - val_loss: 0.7155 - val_accuracy: 0.7350\n",
      "Epoch 60/100\n",
      "125/125 [==============================] - 18s 141ms/step - loss: 0.4462 - accuracy: 0.8005 - val_loss: 0.5490 - val_accuracy: 0.7690\n",
      "Epoch 61/100\n",
      "125/125 [==============================] - 18s 141ms/step - loss: 0.4482 - accuracy: 0.8060 - val_loss: 0.6534 - val_accuracy: 0.7050\n",
      "Epoch 62/100\n",
      "125/125 [==============================] - 18s 142ms/step - loss: 0.4899 - accuracy: 0.7860 - val_loss: 0.5297 - val_accuracy: 0.7510\n",
      "Epoch 63/100\n",
      "125/125 [==============================] - 18s 142ms/step - loss: 0.4663 - accuracy: 0.7865 - val_loss: 0.4943 - val_accuracy: 0.7580\n",
      "Epoch 64/100\n",
      "125/125 [==============================] - 17s 139ms/step - loss: 0.4361 - accuracy: 0.8100 - val_loss: 0.5177 - val_accuracy: 0.7900\n",
      "Epoch 65/100\n",
      "125/125 [==============================] - 18s 141ms/step - loss: 0.4356 - accuracy: 0.8020 - val_loss: 0.5471 - val_accuracy: 0.7790\n",
      "Epoch 66/100\n",
      "125/125 [==============================] - 18s 142ms/step - loss: 0.4718 - accuracy: 0.7845 - val_loss: 0.5491 - val_accuracy: 0.7170\n",
      "Epoch 67/100\n",
      "125/125 [==============================] - 18s 141ms/step - loss: 0.4641 - accuracy: 0.8000 - val_loss: 0.5014 - val_accuracy: 0.7640\n",
      "Epoch 68/100\n",
      "125/125 [==============================] - 18s 141ms/step - loss: 0.4632 - accuracy: 0.8035 - val_loss: 0.4913 - val_accuracy: 0.7810\n",
      "Epoch 69/100\n",
      "125/125 [==============================] - 18s 141ms/step - loss: 0.4522 - accuracy: 0.8000 - val_loss: 0.5420 - val_accuracy: 0.7370\n",
      "Epoch 70/100\n",
      "125/125 [==============================] - 18s 141ms/step - loss: 0.4193 - accuracy: 0.8195 - val_loss: 0.4583 - val_accuracy: 0.7850\n",
      "Epoch 71/100\n",
      "125/125 [==============================] - 18s 141ms/step - loss: 0.4674 - accuracy: 0.7930 - val_loss: 0.4906 - val_accuracy: 0.7830\n",
      "Epoch 72/100\n",
      "125/125 [==============================] - 17s 140ms/step - loss: 0.4506 - accuracy: 0.7965 - val_loss: 0.4559 - val_accuracy: 0.7960\n",
      "Epoch 73/100\n",
      "125/125 [==============================] - 18s 140ms/step - loss: 0.4383 - accuracy: 0.8025 - val_loss: 0.6788 - val_accuracy: 0.6790\n",
      "Epoch 74/100\n",
      "125/125 [==============================] - 18s 142ms/step - loss: 0.4342 - accuracy: 0.8165 - val_loss: 0.4905 - val_accuracy: 0.7720\n",
      "Epoch 75/100\n",
      "125/125 [==============================] - 18s 140ms/step - loss: 0.4494 - accuracy: 0.8015 - val_loss: 0.5054 - val_accuracy: 0.7780\n",
      "Epoch 76/100\n",
      "125/125 [==============================] - 18s 141ms/step - loss: 0.4265 - accuracy: 0.8175 - val_loss: 1.2600 - val_accuracy: 0.6090\n",
      "Epoch 77/100\n",
      "125/125 [==============================] - 18s 142ms/step - loss: 0.4528 - accuracy: 0.8080 - val_loss: 0.4455 - val_accuracy: 0.7960\n",
      "Epoch 78/100\n",
      "125/125 [==============================] - 18s 142ms/step - loss: 0.4403 - accuracy: 0.8080 - val_loss: 0.4736 - val_accuracy: 0.7930\n",
      "Epoch 79/100\n",
      "125/125 [==============================] - 18s 142ms/step - loss: 0.4232 - accuracy: 0.8090 - val_loss: 0.5373 - val_accuracy: 0.7390\n",
      "Epoch 80/100\n",
      "125/125 [==============================] - 18s 142ms/step - loss: 0.4364 - accuracy: 0.8275 - val_loss: 0.5927 - val_accuracy: 0.7550\n",
      "Epoch 81/100\n",
      "125/125 [==============================] - 18s 141ms/step - loss: 0.4170 - accuracy: 0.8160 - val_loss: 0.4872 - val_accuracy: 0.7880\n",
      "Epoch 82/100\n",
      "125/125 [==============================] - 18s 140ms/step - loss: 0.4415 - accuracy: 0.8100 - val_loss: 0.5286 - val_accuracy: 0.7920\n",
      "Epoch 83/100\n",
      "125/125 [==============================] - 17s 140ms/step - loss: 0.4259 - accuracy: 0.8320 - val_loss: 0.4337 - val_accuracy: 0.8180\n",
      "Epoch 84/100\n",
      "125/125 [==============================] - 18s 141ms/step - loss: 0.4390 - accuracy: 0.8100 - val_loss: 0.4501 - val_accuracy: 0.7970\n",
      "Epoch 85/100\n",
      "125/125 [==============================] - 18s 141ms/step - loss: 0.4113 - accuracy: 0.8110 - val_loss: 0.5015 - val_accuracy: 0.8020\n",
      "Epoch 86/100\n",
      "125/125 [==============================] - 18s 140ms/step - loss: 0.4426 - accuracy: 0.8125 - val_loss: 0.4377 - val_accuracy: 0.7970\n",
      "Epoch 87/100\n",
      "125/125 [==============================] - 18s 141ms/step - loss: 0.4142 - accuracy: 0.8170 - val_loss: 0.4675 - val_accuracy: 0.8050\n",
      "Epoch 88/100\n",
      "125/125 [==============================] - 18s 143ms/step - loss: 0.4116 - accuracy: 0.8270 - val_loss: 0.4517 - val_accuracy: 0.7970\n",
      "Epoch 89/100\n",
      "125/125 [==============================] - 18s 141ms/step - loss: 0.4217 - accuracy: 0.8200 - val_loss: 0.4641 - val_accuracy: 0.7890\n",
      "Epoch 90/100\n",
      "125/125 [==============================] - 18s 140ms/step - loss: 0.4052 - accuracy: 0.8210 - val_loss: 0.4411 - val_accuracy: 0.8020\n",
      "Epoch 91/100\n",
      "125/125 [==============================] - 17s 139ms/step - loss: 0.4258 - accuracy: 0.8210 - val_loss: 0.4531 - val_accuracy: 0.7870\n",
      "Epoch 92/100\n",
      "125/125 [==============================] - 17s 140ms/step - loss: 0.3890 - accuracy: 0.8275 - val_loss: 0.7963 - val_accuracy: 0.7500\n",
      "Epoch 93/100\n",
      "125/125 [==============================] - 18s 142ms/step - loss: 0.4311 - accuracy: 0.8140 - val_loss: 0.6335 - val_accuracy: 0.7270\n",
      "Epoch 94/100\n",
      "125/125 [==============================] - 18s 140ms/step - loss: 0.4153 - accuracy: 0.8240 - val_loss: 0.4800 - val_accuracy: 0.7770\n",
      "Epoch 95/100\n",
      "125/125 [==============================] - 18s 141ms/step - loss: 0.4139 - accuracy: 0.8215 - val_loss: 0.4599 - val_accuracy: 0.7820\n",
      "Epoch 96/100\n",
      "125/125 [==============================] - 18s 140ms/step - loss: 0.3915 - accuracy: 0.8345 - val_loss: 0.4754 - val_accuracy: 0.7780\n",
      "Epoch 97/100\n",
      "125/125 [==============================] - 18s 140ms/step - loss: 0.4066 - accuracy: 0.8265 - val_loss: 0.5507 - val_accuracy: 0.7430\n",
      "Epoch 98/100\n",
      "125/125 [==============================] - 18s 141ms/step - loss: 0.4092 - accuracy: 0.8225 - val_loss: 0.4602 - val_accuracy: 0.7800\n",
      "Epoch 99/100\n",
      "125/125 [==============================] - 18s 141ms/step - loss: 0.4249 - accuracy: 0.8190 - val_loss: 0.4790 - val_accuracy: 0.7960\n",
      "Epoch 100/100\n",
      "125/125 [==============================] - 18s 140ms/step - loss: 0.4215 - accuracy: 0.8220 - val_loss: 0.4611 - val_accuracy: 0.7970\n"
     ]
    },
    {
     "data": {
      "text/plain": [
       "dict_keys(['accuracy', 'val_accuracy', 'loss', 'val_loss'])"
      ]
     },
     "execution_count": 11,
     "metadata": {},
     "output_type": "execute_result"
    }
   ],
   "source": [
    "history = model.fit_generator(\n",
    "    train_generator,\n",
    "    steps_per_epoch=steps_per_epoch,\n",
    "    epochs=100,\n",
    "    callbacks=callbacks,\n",
    "    validation_data=valid_generator,\n",
    "    validation_steps=validation_steps\n",
    ")\n",
    "history.history.keys()"
   ]
  },
  {
   "cell_type": "code",
   "execution_count": 12,
   "metadata": {},
   "outputs": [
    {
     "data": {
      "image/png": "[encoded data removed]",
      "text/plain": [
       "<Figure size 1440x720 with 2 Axes>"
      ]
     },
     "metadata": {
      "needs_background": "light"
     },
     "output_type": "display_data"
    }
   ],
   "source": [
    "fig = plt.figure(figsize=(20, 10))\n",
    "\n",
    "plt.subplot(1, 2, 1)\n",
    "plt.plot(history.history['accuracy'])\n",
    "plt.plot(history.history['val_accuracy'])\n",
    "plt.title('Model accuracy')\n",
    "plt.ylabel('accuracy')\n",
    "plt.xlabel('epoch')\n",
    "plt.legend(['train', 'validation'], loc='upper left')\n",
    "\n",
    "plt.subplot(1, 2, 2)\n",
    "plt.plot(history.history['loss'])\n",
    "plt.plot(history.history['val_loss'])\n",
    "plt.title('Model loss')\n",
    "plt.ylabel('loss')\n",
    "plt.xlabel('epoch')\n",
    "plt.legend(['train', 'validation'], loc='upper left')\n",
    "\n",
    "plt.show()"
   ]
  },
  {
   "cell_type": "markdown",
   "metadata": {},
   "source": [
    "## Save the model"
   ]
  },
  {
   "cell_type": "code",
   "execution_count": 13,
   "metadata": {},
   "outputs": [],
   "source": [
    "weights_path = Path(\"../weights\")\n",
    "weights_path.mkdir(parents=True, exist_ok=True)"
   ]
  },
  {
   "cell_type": "code",
   "execution_count": 15,
   "metadata": {},
   "outputs": [],
   "source": [
    "model.save(str(weights_path/\"dogs_vs_cats_v1.h5\"))"
   ]
  },
  {
   "cell_type": "code",
   "execution_count": null,
   "metadata": {},
   "outputs": [],
   "source": []
  },
  {
   "cell_type": "code",
   "execution_count": null,
   "metadata": {},
   "outputs": [],
   "source": []
  }
 ],
 "metadata": {
  "kernelspec": {
   "display_name": ".venv",
   "language": "python",
   "name": ".venv"
  },
  "language_info": {
   "codemirror_mode": {
    "name": "ipython",
    "version": 3
   },
   "file_extension": ".py",
   "mimetype": "text/x-python",
   "name": "python",
   "nbconvert_exporter": "python",
   "pygments_lexer": "ipython3",
   "version": "3.5.3"
  }
 },
 "nbformat": 4,
 "nbformat_minor": 2
}
