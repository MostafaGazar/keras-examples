{
 "cells": [
  {
   "cell_type": "markdown",
   "metadata": {},
   "source": [
    "Check running TensorFlow version"
   ]
  },
  {
   "cell_type": "code",
   "execution_count": 2,
   "metadata": {},
   "outputs": [
    {
     "data": {
      "text/plain": [
       "'2.0.0-beta1'"
      ]
     },
     "execution_count": 2,
     "metadata": {},
     "output_type": "execute_result"
    }
   ],
   "source": [
    "import tensorflow as tf\n",
    "tf.__version__"
   ]
  },
  {
   "cell_type": "markdown",
   "metadata": {},
   "source": [
    "Check devices that can be used by Tensorflow"
   ]
  },
  {
   "cell_type": "code",
   "execution_count": 3,
   "metadata": {},
   "outputs": [
    {
     "name": "stdout",
     "output_type": "stream",
     "text": [
      "[name: \"/device:CPU:0\"\n",
      "device_type: \"CPU\"\n",
      "memory_limit: 268435456\n",
      "locality {\n",
      "}\n",
      "incarnation: 14042370417783920817\n",
      "]\n"
     ]
    }
   ],
   "source": [
    "from tensorflow.python.client import device_lib\n",
    "print(device_lib.list_local_devices())"
   ]
  },
  {
   "cell_type": "markdown",
   "metadata": {},
   "source": [
    "# Dogs vs. Cats\n",
    "\n",
    "This is a continuation to the previous notebook. In this notebook I will try adding a regularizer (Dropout) and compare performance."
   ]
  },
  {
   "cell_type": "code",
   "execution_count": 4,
   "metadata": {},
   "outputs": [],
   "source": [
    "from tensorflow import keras\n",
    "from tensorflow.keras.models import Sequential\n",
    "from tensorflow.keras import layers\n",
    "from tensorflow.keras.preprocessing.image import ImageDataGenerator\n",
    "\n",
    "from pathlib import Path\n",
    "Path.ls = lambda x: list(x.iterdir())\n",
    "\n",
    "import matplotlib.pyplot as plt\n",
    "%matplotlib inline\n",
    "\n",
    "import random as rand\n",
    "\n",
    "import numpy as np"
   ]
  },
  {
   "cell_type": "code",
   "execution_count": 5,
   "metadata": {},
   "outputs": [],
   "source": [
    "batch_size = 16"
   ]
  },
  {
   "cell_type": "markdown",
   "metadata": {},
   "source": [
    "## Prepare the dataset\n",
    "\n",
    "I manually downloaded the dataset from this [Kaggle competition](https://www.kaggle.com/c/dogs-vs-cats), unzipped it and here I will prepare for model training"
   ]
  },
  {
   "cell_type": "code",
   "execution_count": 6,
   "metadata": {},
   "outputs": [
    {
     "data": {
      "text/plain": [
       "[PosixPath('../data/preprocessed'), PosixPath('../data/raw')]"
      ]
     },
     "execution_count": 6,
     "metadata": {},
     "output_type": "execute_result"
    }
   ],
   "source": [
    "data_path = Path(\"../data\")\n",
    "data_path.ls()"
   ]
  },
  {
   "cell_type": "code",
   "execution_count": 7,
   "metadata": {},
   "outputs": [],
   "source": [
    "dogs_vs_cats_dir_name = \"dogs-vs-cats\"\n",
    "raw_dir_name = \"raw\"\n",
    "preprocessed_dir_name = \"preprocessed\"\n",
    "\n",
    "train_dir_name = \"train\"\n",
    "valid_dir_name = \"valid\"\n",
    "test_dir_name = \"test\"\n",
    "\n",
    "dogs_dir_name = \"dogs\"\n",
    "cats_dir_name = \"cats\"\n",
    "\n",
    "raw_data_path = data_path/raw_dir_name/dogs_vs_cats_dir_name\n",
    "preprocessed_data_path = data_path/preprocessed_dir_name/dogs_vs_cats_dir_name\n",
    "\n",
    "dogs_train_data_path = preprocessed_data_path/train_dir_name/dogs_dir_name\n",
    "cats_train_data_path = preprocessed_data_path/train_dir_name/cats_dir_name\n",
    "\n",
    "dogs_valid_data_path = preprocessed_data_path/valid_dir_name/dogs_dir_name\n",
    "cats_valid_data_path = preprocessed_data_path/valid_dir_name/cats_dir_name\n",
    "\n",
    "dogs_test_data_path = preprocessed_data_path/test_dir_name/dogs_dir_name\n",
    "cats_test_data_path = preprocessed_data_path/test_dir_name/cats_dir_name"
   ]
  },
  {
   "cell_type": "markdown",
   "metadata": {},
   "source": [
    "## Build data generators"
   ]
  },
  {
   "cell_type": "code",
   "execution_count": 8,
   "metadata": {},
   "outputs": [
    {
     "name": "stdout",
     "output_type": "stream",
     "text": [
      "Found 2000 images belonging to 2 classes.\n",
      "Found 1000 images belonging to 2 classes.\n",
      "Found 1000 images belonging to 2 classes.\n"
     ]
    }
   ],
   "source": [
    "train_datagen = ImageDataGenerator(\n",
    "    rescale=1/255,\n",
    "    rotation_range=40,\n",
    "    width_shift_range=0.2,\n",
    "    height_shift_range=0.2,\n",
    "    shear_range=0.2,\n",
    "    zoom_range=0.2,\n",
    "    horizontal_flip=True\n",
    ")\n",
    "\n",
    "test_datagen = ImageDataGenerator(rescale=1/255)\n",
    "\n",
    "train_generator = train_datagen.flow_from_directory(\n",
    "    str(preprocessed_data_path/train_dir_name),\n",
    "    target_size=(150, 150),\n",
    "    batch_size=batch_size,\n",
    "    class_mode='binary'\n",
    ")\n",
    "\n",
    "valid_generator = train_datagen.flow_from_directory(\n",
    "    str(preprocessed_data_path/valid_dir_name),\n",
    "    target_size=(150, 150),\n",
    "    batch_size=batch_size,\n",
    "    class_mode='binary'\n",
    ")\n",
    "\n",
    "test_generator = test_datagen.flow_from_directory(\n",
    "    str(preprocessed_data_path/test_dir_name),\n",
    "    target_size=(150, 150),\n",
    "    batch_size=batch_size,\n",
    "    class_mode='binary'\n",
    ")"
   ]
  },
  {
   "cell_type": "markdown",
   "metadata": {},
   "source": [
    "Check datagen outputs"
   ]
  },
  {
   "cell_type": "markdown",
   "metadata": {},
   "source": [
    "## Train the model"
   ]
  },
  {
   "cell_type": "code",
   "execution_count": 8,
   "metadata": {},
   "outputs": [
    {
     "data": {
      "text/plain": [
       "(150, 150, 3)"
      ]
     },
     "execution_count": 8,
     "metadata": {},
     "output_type": "execute_result"
    }
   ],
   "source": [
    "train_generator[0][0].shape[1:]"
   ]
  },
  {
   "cell_type": "code",
   "execution_count": 9,
   "metadata": {},
   "outputs": [
    {
     "name": "stdout",
     "output_type": "stream",
     "text": [
      "Model: \"sequential\"\n",
      "_________________________________________________________________\n",
      "Layer (type)                 Output Shape              Param #   \n",
      "=================================================================\n",
      "conv2d (Conv2D)              (None, 148, 148, 32)      896       \n",
      "_________________________________________________________________\n",
      "max_pooling2d (MaxPooling2D) (None, 74, 74, 32)        0         \n",
      "_________________________________________________________________\n",
      "conv2d_1 (Conv2D)            (None, 72, 72, 64)        18496     \n",
      "_________________________________________________________________\n",
      "max_pooling2d_1 (MaxPooling2 (None, 36, 36, 64)        0         \n",
      "_________________________________________________________________\n",
      "conv2d_2 (Conv2D)            (None, 34, 34, 128)       73856     \n",
      "_________________________________________________________________\n",
      "max_pooling2d_2 (MaxPooling2 (None, 17, 17, 128)       0         \n",
      "_________________________________________________________________\n",
      "conv2d_3 (Conv2D)            (None, 15, 15, 128)       147584    \n",
      "_________________________________________________________________\n",
      "max_pooling2d_3 (MaxPooling2 (None, 7, 7, 128)         0         \n",
      "_________________________________________________________________\n",
      "flatten (Flatten)            (None, 6272)              0         \n",
      "_________________________________________________________________\n",
      "dropout (Dropout)            (None, 6272)              0         \n",
      "_________________________________________________________________\n",
      "dense (Dense)                (None, 512)               3211776   \n",
      "_________________________________________________________________\n",
      "dense_1 (Dense)              (None, 1)                 513       \n",
      "=================================================================\n",
      "Total params: 3,453,121\n",
      "Trainable params: 3,453,121\n",
      "Non-trainable params: 0\n",
      "_________________________________________________________________\n"
     ]
    }
   ],
   "source": [
    "model = Sequential()\n",
    "model.add(layers.Conv2D(32, (3, 3), activation=\"relu\", input_shape=(150, 150, 3)))\n",
    "model.add(layers.MaxPool2D((2, 2)))\n",
    "model.add(layers.Conv2D(64, (3, 3), activation=\"relu\"))\n",
    "model.add(layers.MaxPool2D((2, 2)))\n",
    "model.add(layers.Conv2D(128, (3, 3), activation=\"relu\"))\n",
    "model.add(layers.MaxPool2D((2, 2)))\n",
    "model.add(layers.Conv2D(128, (3, 3), activation=\"relu\"))\n",
    "model.add(layers.MaxPool2D((2, 2)))\n",
    "model.add(layers.Flatten())\n",
    "model.add(layers.Dropout(.5))\n",
    "model.add(layers.Dense(512))\n",
    "model.add(layers.Dense(1, activation=\"sigmoid\"))\n",
    "\n",
    "model.summary()"
   ]
  },
  {
   "cell_type": "markdown",
   "metadata": {},
   "source": [
    "Check progress in TensorBoard by running `tensorboard --logdir=logs/dogs_vs_cats_v2` in terminal"
   ]
  },
  {
   "cell_type": "code",
   "execution_count": 10,
   "metadata": {},
   "outputs": [],
   "source": [
    "# Try removing the old logs first\n",
    "!rm -r ../logs/dogs_vs_cats_v2\n",
    "\n",
    "callbacks = [\n",
    "    keras.callbacks.TensorBoard(log_dir='../logs/dogs_vs_cats_v2')\n",
    "]"
   ]
  },
  {
   "cell_type": "code",
   "execution_count": 11,
   "metadata": {},
   "outputs": [],
   "source": [
    "model.compile(optimizer='rmsprop', loss='binary_crossentropy', metrics=['accuracy'])"
   ]
  },
  {
   "cell_type": "code",
   "execution_count": 12,
   "metadata": {},
   "outputs": [
    {
     "data": {
      "text/plain": [
       "(125, 63)"
      ]
     },
     "execution_count": 12,
     "metadata": {},
     "output_type": "execute_result"
    }
   ],
   "source": [
    "steps_per_epoch = len(train_generator)\n",
    "validation_steps = len(valid_generator)\n",
    "\n",
    "steps_per_epoch, validation_steps"
   ]
  },
  {
   "cell_type": "code",
   "execution_count": 13,
   "metadata": {
    "scrolled": true
   },
   "outputs": [
    {
     "name": "stdout",
     "output_type": "stream",
     "text": [
      "Epoch 1/100\n"
     ]
    },
    {
     "name": "stderr",
     "output_type": "stream",
     "text": [
      "WARNING: Logging before flag parsing goes to stderr.\n",
      "W0821 02:16:39.016561 139973957338880 deprecation.py:323] From /usr/local/lib/python3.5/dist-packages/tensorflow/python/ops/math_grad.py:1250: add_dispatch_support.<locals>.wrapper (from tensorflow.python.ops.array_ops) is deprecated and will be removed in a future version.\n",
      "Instructions for updating:\n",
      "Use tf.where in 2.0, which has the same broadcast rule as np.where\n"
     ]
    },
    {
     "name": "stdout",
     "output_type": "stream",
     "text": [
      "  1/125 [..............................] - ETA: 11:45 - loss: 0.7084 - accuracy: 0.5000"
     ]
    },
    {
     "name": "stderr",
     "output_type": "stream",
     "text": [
      "W0821 02:16:44.245368 139973957338880 callbacks.py:241] Method (on_train_batch_end) is slow compared to the batch update (0.218315). Check your callbacks.\n"
     ]
    },
    {
     "name": "stdout",
     "output_type": "stream",
     "text": [
      "125/125 [==============================] - 31s 250ms/step - loss: 0.7628 - accuracy: 0.4975 - val_loss: 0.6914 - val_accuracy: 0.4980\n",
      "Epoch 2/100\n",
      "125/125 [==============================] - 17s 136ms/step - loss: 0.6964 - accuracy: 0.5035 - val_loss: 0.6900 - val_accuracy: 0.5250\n",
      "Epoch 3/100\n",
      "125/125 [==============================] - 17s 137ms/step - loss: 0.6872 - accuracy: 0.5350 - val_loss: 0.6869 - val_accuracy: 0.5940\n",
      "Epoch 4/100\n",
      "125/125 [==============================] - 17s 135ms/step - loss: 0.6909 - accuracy: 0.5420 - val_loss: 0.6727 - val_accuracy: 0.5960\n",
      "Epoch 5/100\n",
      "125/125 [==============================] - 17s 138ms/step - loss: 0.6970 - accuracy: 0.5670 - val_loss: 0.6756 - val_accuracy: 0.5990\n",
      "Epoch 6/100\n",
      "125/125 [==============================] - 17s 137ms/step - loss: 0.6830 - accuracy: 0.6010 - val_loss: 0.6623 - val_accuracy: 0.6050\n",
      "Epoch 7/100\n",
      "125/125 [==============================] - 17s 137ms/step - loss: 0.6817 - accuracy: 0.5985 - val_loss: 0.6434 - val_accuracy: 0.6330\n",
      "Epoch 8/100\n",
      "125/125 [==============================] - 17s 136ms/step - loss: 0.6737 - accuracy: 0.6380 - val_loss: 0.6760 - val_accuracy: 0.5710\n",
      "Epoch 9/100\n",
      "125/125 [==============================] - 17s 137ms/step - loss: 0.6677 - accuracy: 0.6200 - val_loss: 0.6471 - val_accuracy: 0.6130\n",
      "Epoch 10/100\n",
      "125/125 [==============================] - 17s 137ms/step - loss: 0.6640 - accuracy: 0.6055 - val_loss: 0.6690 - val_accuracy: 0.5980\n",
      "Epoch 11/100\n",
      "125/125 [==============================] - 17s 137ms/step - loss: 0.6537 - accuracy: 0.6210 - val_loss: 0.6415 - val_accuracy: 0.6310\n",
      "Epoch 12/100\n",
      "125/125 [==============================] - 17s 136ms/step - loss: 0.6533 - accuracy: 0.6275 - val_loss: 0.6586 - val_accuracy: 0.6110\n",
      "Epoch 13/100\n",
      "125/125 [==============================] - 17s 137ms/step - loss: 0.6671 - accuracy: 0.6505 - val_loss: 0.6308 - val_accuracy: 0.6240\n",
      "Epoch 14/100\n",
      "125/125 [==============================] - 17s 135ms/step - loss: 0.6288 - accuracy: 0.6525 - val_loss: 0.6344 - val_accuracy: 0.6470\n",
      "Epoch 15/100\n",
      "125/125 [==============================] - 17s 136ms/step - loss: 0.6281 - accuracy: 0.6640 - val_loss: 0.6331 - val_accuracy: 0.6620\n",
      "Epoch 16/100\n",
      "125/125 [==============================] - 17s 137ms/step - loss: 0.6232 - accuracy: 0.6680 - val_loss: 0.6259 - val_accuracy: 0.6490\n",
      "Epoch 17/100\n",
      "125/125 [==============================] - 17s 135ms/step - loss: 0.6221 - accuracy: 0.6695 - val_loss: 0.6381 - val_accuracy: 0.6540\n",
      "Epoch 18/100\n",
      "125/125 [==============================] - 17s 137ms/step - loss: 0.6148 - accuracy: 0.6720 - val_loss: 0.5945 - val_accuracy: 0.6690\n",
      "Epoch 19/100\n",
      "125/125 [==============================] - 17s 137ms/step - loss: 0.6136 - accuracy: 0.6835 - val_loss: 1.1446 - val_accuracy: 0.5460\n",
      "Epoch 20/100\n",
      "125/125 [==============================] - 17s 136ms/step - loss: 0.6262 - accuracy: 0.6890 - val_loss: 0.6236 - val_accuracy: 0.6840\n",
      "Epoch 21/100\n",
      "125/125 [==============================] - 17s 136ms/step - loss: 0.5998 - accuracy: 0.6955 - val_loss: 0.5992 - val_accuracy: 0.7030\n",
      "Epoch 22/100\n",
      "125/125 [==============================] - 17s 136ms/step - loss: 0.5947 - accuracy: 0.7065 - val_loss: 0.6400 - val_accuracy: 0.7040\n",
      "Epoch 23/100\n",
      "125/125 [==============================] - 17s 136ms/step - loss: 0.6053 - accuracy: 0.6865 - val_loss: 0.5594 - val_accuracy: 0.7040\n",
      "Epoch 24/100\n",
      "125/125 [==============================] - 17s 136ms/step - loss: 0.5796 - accuracy: 0.7085 - val_loss: 0.6054 - val_accuracy: 0.6670\n",
      "Epoch 25/100\n",
      "125/125 [==============================] - 17s 137ms/step - loss: 0.5981 - accuracy: 0.6970 - val_loss: 0.6049 - val_accuracy: 0.6660\n",
      "Epoch 26/100\n",
      "125/125 [==============================] - 17s 136ms/step - loss: 0.5693 - accuracy: 0.7175 - val_loss: 0.5333 - val_accuracy: 0.7280\n",
      "Epoch 27/100\n",
      "125/125 [==============================] - 17s 136ms/step - loss: 0.5889 - accuracy: 0.6965 - val_loss: 0.5728 - val_accuracy: 0.7120\n",
      "Epoch 28/100\n",
      "125/125 [==============================] - 17s 136ms/step - loss: 0.5587 - accuracy: 0.7300 - val_loss: 0.5395 - val_accuracy: 0.7480\n",
      "Epoch 29/100\n",
      "125/125 [==============================] - 17s 135ms/step - loss: 0.5677 - accuracy: 0.7185 - val_loss: 0.5540 - val_accuracy: 0.7330\n",
      "Epoch 30/100\n",
      "125/125 [==============================] - 17s 136ms/step - loss: 0.5531 - accuracy: 0.7310 - val_loss: 0.5617 - val_accuracy: 0.7160\n",
      "Epoch 31/100\n",
      "125/125 [==============================] - 17s 135ms/step - loss: 0.5602 - accuracy: 0.7250 - val_loss: 0.5646 - val_accuracy: 0.7410\n",
      "Epoch 32/100\n",
      "125/125 [==============================] - 17s 135ms/step - loss: 0.5475 - accuracy: 0.7380 - val_loss: 0.5372 - val_accuracy: 0.7420\n",
      "Epoch 33/100\n",
      "125/125 [==============================] - 17s 135ms/step - loss: 0.5499 - accuracy: 0.7475 - val_loss: 0.6144 - val_accuracy: 0.6620\n",
      "Epoch 34/100\n",
      "125/125 [==============================] - 17s 135ms/step - loss: 0.5413 - accuracy: 0.7390 - val_loss: 0.5651 - val_accuracy: 0.7140\n",
      "Epoch 35/100\n",
      "125/125 [==============================] - 17s 137ms/step - loss: 0.5529 - accuracy: 0.7365 - val_loss: 0.5344 - val_accuracy: 0.7480\n",
      "Epoch 36/100\n",
      "125/125 [==============================] - 17s 137ms/step - loss: 0.5572 - accuracy: 0.7325 - val_loss: 0.6832 - val_accuracy: 0.6670\n",
      "Epoch 37/100\n",
      "125/125 [==============================] - 17s 136ms/step - loss: 0.5394 - accuracy: 0.7425 - val_loss: 0.5323 - val_accuracy: 0.7550\n",
      "Epoch 38/100\n",
      "125/125 [==============================] - 17s 135ms/step - loss: 0.5492 - accuracy: 0.7420 - val_loss: 0.5418 - val_accuracy: 0.7600\n",
      "Epoch 39/100\n",
      "125/125 [==============================] - 17s 138ms/step - loss: 0.5408 - accuracy: 0.7365 - val_loss: 0.5218 - val_accuracy: 0.7560\n",
      "Epoch 40/100\n",
      "125/125 [==============================] - 17s 138ms/step - loss: 0.5356 - accuracy: 0.7300 - val_loss: 0.5551 - val_accuracy: 0.7300\n",
      "Epoch 41/100\n",
      "125/125 [==============================] - 17s 136ms/step - loss: 0.5317 - accuracy: 0.7500 - val_loss: 0.5266 - val_accuracy: 0.7270\n",
      "Epoch 42/100\n",
      "125/125 [==============================] - 17s 138ms/step - loss: 0.5193 - accuracy: 0.7625 - val_loss: 0.6402 - val_accuracy: 0.6680\n",
      "Epoch 43/100\n",
      "125/125 [==============================] - 17s 135ms/step - loss: 0.5167 - accuracy: 0.7745 - val_loss: 0.5099 - val_accuracy: 0.7580\n",
      "Epoch 44/100\n",
      "125/125 [==============================] - 17s 136ms/step - loss: 0.5218 - accuracy: 0.7605 - val_loss: 0.6918 - val_accuracy: 0.6230\n",
      "Epoch 45/100\n",
      "125/125 [==============================] - 17s 136ms/step - loss: 0.5190 - accuracy: 0.7625 - val_loss: 0.5247 - val_accuracy: 0.7600\n",
      "Epoch 46/100\n",
      "125/125 [==============================] - 17s 134ms/step - loss: 0.5102 - accuracy: 0.7565 - val_loss: 0.5057 - val_accuracy: 0.7650\n",
      "Epoch 47/100\n",
      "125/125 [==============================] - 17s 137ms/step - loss: 0.5158 - accuracy: 0.7565 - val_loss: 0.5374 - val_accuracy: 0.7520\n",
      "Epoch 48/100\n",
      "125/125 [==============================] - 17s 136ms/step - loss: 0.5167 - accuracy: 0.7655 - val_loss: 0.5065 - val_accuracy: 0.7590\n",
      "Epoch 49/100\n",
      "125/125 [==============================] - 17s 136ms/step - loss: 0.5043 - accuracy: 0.7625 - val_loss: 0.4757 - val_accuracy: 0.7820\n",
      "Epoch 50/100\n",
      "125/125 [==============================] - 17s 136ms/step - loss: 0.4995 - accuracy: 0.7790 - val_loss: 0.5794 - val_accuracy: 0.7360\n",
      "Epoch 51/100\n",
      "125/125 [==============================] - 17s 136ms/step - loss: 0.5013 - accuracy: 0.7690 - val_loss: 0.4967 - val_accuracy: 0.7680\n",
      "Epoch 52/100\n",
      "125/125 [==============================] - 17s 136ms/step - loss: 0.5172 - accuracy: 0.7620 - val_loss: 0.5660 - val_accuracy: 0.7160\n",
      "Epoch 53/100\n",
      "125/125 [==============================] - 17s 136ms/step - loss: 0.4955 - accuracy: 0.7740 - val_loss: 0.5544 - val_accuracy: 0.7330\n",
      "Epoch 54/100\n",
      "125/125 [==============================] - 17s 138ms/step - loss: 0.5055 - accuracy: 0.7625 - val_loss: 0.5359 - val_accuracy: 0.7440\n",
      "Epoch 55/100\n",
      "125/125 [==============================] - 17s 136ms/step - loss: 0.4962 - accuracy: 0.7835 - val_loss: 0.5161 - val_accuracy: 0.7500\n",
      "Epoch 56/100\n",
      "125/125 [==============================] - 17s 135ms/step - loss: 0.5132 - accuracy: 0.7690 - val_loss: 0.5300 - val_accuracy: 0.7350\n",
      "Epoch 57/100\n",
      "125/125 [==============================] - 17s 136ms/step - loss: 0.4884 - accuracy: 0.7665 - val_loss: 0.5418 - val_accuracy: 0.7650\n",
      "Epoch 58/100\n",
      "125/125 [==============================] - 17s 136ms/step - loss: 0.5051 - accuracy: 0.7700 - val_loss: 0.6871 - val_accuracy: 0.6930\n",
      "Epoch 59/100\n",
      "125/125 [==============================] - 17s 137ms/step - loss: 0.4918 - accuracy: 0.7645 - val_loss: 0.5112 - val_accuracy: 0.7660\n",
      "Epoch 60/100\n",
      "125/125 [==============================] - 17s 138ms/step - loss: 0.5052 - accuracy: 0.7675 - val_loss: 0.4720 - val_accuracy: 0.7770\n",
      "Epoch 61/100\n",
      "125/125 [==============================] - 17s 136ms/step - loss: 0.4785 - accuracy: 0.7870 - val_loss: 0.4826 - val_accuracy: 0.7780\n",
      "Epoch 62/100\n",
      "125/125 [==============================] - 17s 137ms/step - loss: 0.4707 - accuracy: 0.7840 - val_loss: 0.4315 - val_accuracy: 0.8110\n",
      "Epoch 63/100\n",
      "125/125 [==============================] - 17s 136ms/step - loss: 0.4890 - accuracy: 0.7875 - val_loss: 0.4927 - val_accuracy: 0.7930\n",
      "Epoch 64/100\n",
      "125/125 [==============================] - 17s 137ms/step - loss: 0.4889 - accuracy: 0.7755 - val_loss: 0.6282 - val_accuracy: 0.7000\n",
      "Epoch 65/100\n",
      "125/125 [==============================] - 17s 135ms/step - loss: 0.4759 - accuracy: 0.7870 - val_loss: 0.5020 - val_accuracy: 0.7930\n",
      "Epoch 66/100\n",
      "125/125 [==============================] - 17s 135ms/step - loss: 0.4729 - accuracy: 0.7880 - val_loss: 0.4694 - val_accuracy: 0.7850\n",
      "Epoch 67/100\n",
      "125/125 [==============================] - 17s 136ms/step - loss: 0.4932 - accuracy: 0.7790 - val_loss: 0.4905 - val_accuracy: 0.7770\n",
      "Epoch 68/100\n",
      "125/125 [==============================] - 17s 137ms/step - loss: 0.4594 - accuracy: 0.7830 - val_loss: 0.4734 - val_accuracy: 0.7820\n",
      "Epoch 69/100\n",
      "125/125 [==============================] - 17s 136ms/step - loss: 0.5100 - accuracy: 0.7625 - val_loss: 0.4926 - val_accuracy: 0.7880\n",
      "Epoch 70/100\n",
      "125/125 [==============================] - 17s 136ms/step - loss: 0.4891 - accuracy: 0.7760 - val_loss: 0.5344 - val_accuracy: 0.7710\n",
      "Epoch 71/100\n",
      "125/125 [==============================] - 17s 136ms/step - loss: 0.4987 - accuracy: 0.7825 - val_loss: 0.4566 - val_accuracy: 0.8070\n",
      "Epoch 72/100\n",
      "125/125 [==============================] - 17s 136ms/step - loss: 0.4661 - accuracy: 0.7880 - val_loss: 0.4485 - val_accuracy: 0.7980\n",
      "Epoch 73/100\n",
      "125/125 [==============================] - 17s 137ms/step - loss: 0.4902 - accuracy: 0.7765 - val_loss: 0.5177 - val_accuracy: 0.7820\n",
      "Epoch 74/100\n",
      "125/125 [==============================] - 17s 137ms/step - loss: 0.4761 - accuracy: 0.7810 - val_loss: 0.4749 - val_accuracy: 0.7930\n",
      "Epoch 75/100\n",
      "125/125 [==============================] - 17s 136ms/step - loss: 0.4963 - accuracy: 0.7735 - val_loss: 0.4658 - val_accuracy: 0.7810\n",
      "Epoch 76/100\n",
      "125/125 [==============================] - 17s 135ms/step - loss: 0.4894 - accuracy: 0.7790 - val_loss: 0.5108 - val_accuracy: 0.7890\n",
      "Epoch 77/100\n",
      "125/125 [==============================] - 17s 136ms/step - loss: 0.5006 - accuracy: 0.7755 - val_loss: 0.5005 - val_accuracy: 0.7830\n",
      "Epoch 78/100\n",
      "125/125 [==============================] - 17s 138ms/step - loss: 0.4904 - accuracy: 0.7790 - val_loss: 0.5310 - val_accuracy: 0.7660\n",
      "Epoch 79/100\n",
      "125/125 [==============================] - 17s 137ms/step - loss: 0.4901 - accuracy: 0.7800 - val_loss: 0.4673 - val_accuracy: 0.7810\n",
      "Epoch 80/100\n",
      "125/125 [==============================] - 17s 136ms/step - loss: 0.4876 - accuracy: 0.7780 - val_loss: 0.4437 - val_accuracy: 0.8070\n",
      "Epoch 81/100\n",
      "125/125 [==============================] - 17s 136ms/step - loss: 0.4720 - accuracy: 0.7870 - val_loss: 0.4792 - val_accuracy: 0.7860\n",
      "Epoch 82/100\n",
      "125/125 [==============================] - 17s 137ms/step - loss: 0.4780 - accuracy: 0.7825 - val_loss: 0.5116 - val_accuracy: 0.8000\n",
      "Epoch 83/100\n",
      "125/125 [==============================] - 17s 137ms/step - loss: 0.4939 - accuracy: 0.7905 - val_loss: 0.5211 - val_accuracy: 0.7810\n",
      "Epoch 84/100\n",
      "125/125 [==============================] - 17s 137ms/step - loss: 0.4796 - accuracy: 0.7830 - val_loss: 0.5647 - val_accuracy: 0.7810\n",
      "Epoch 85/100\n",
      "125/125 [==============================] - 17s 136ms/step - loss: 0.4677 - accuracy: 0.7965 - val_loss: 0.5355 - val_accuracy: 0.7950\n",
      "Epoch 86/100\n",
      "125/125 [==============================] - 17s 137ms/step - loss: 0.4676 - accuracy: 0.7880 - val_loss: 0.5520 - val_accuracy: 0.7900\n",
      "Epoch 87/100\n",
      "125/125 [==============================] - 17s 136ms/step - loss: 0.5409 - accuracy: 0.7480 - val_loss: 0.7071 - val_accuracy: 0.7250\n",
      "Epoch 88/100\n",
      "125/125 [==============================] - 17s 137ms/step - loss: 0.4909 - accuracy: 0.7735 - val_loss: 0.6021 - val_accuracy: 0.6860\n",
      "Epoch 89/100\n",
      "125/125 [==============================] - 17s 135ms/step - loss: 0.4893 - accuracy: 0.7790 - val_loss: 0.5556 - val_accuracy: 0.8020\n",
      "Epoch 90/100\n",
      "125/125 [==============================] - 17s 137ms/step - loss: 0.4976 - accuracy: 0.7815 - val_loss: 0.5117 - val_accuracy: 0.7990\n",
      "Epoch 91/100\n",
      "125/125 [==============================] - 17s 137ms/step - loss: 0.4915 - accuracy: 0.7850 - val_loss: 0.6351 - val_accuracy: 0.7630\n",
      "Epoch 92/100\n",
      "125/125 [==============================] - 17s 136ms/step - loss: 0.4899 - accuracy: 0.7850 - val_loss: 0.4647 - val_accuracy: 0.8060\n",
      "Epoch 93/100\n",
      "125/125 [==============================] - 17s 136ms/step - loss: 0.5151 - accuracy: 0.7605 - val_loss: 0.4738 - val_accuracy: 0.7880\n",
      "Epoch 94/100\n",
      "125/125 [==============================] - 17s 136ms/step - loss: 0.4928 - accuracy: 0.7885 - val_loss: 0.4399 - val_accuracy: 0.8050\n",
      "Epoch 95/100\n",
      "125/125 [==============================] - 17s 136ms/step - loss: 0.4700 - accuracy: 0.7865 - val_loss: 0.5330 - val_accuracy: 0.7340\n",
      "Epoch 96/100\n",
      "125/125 [==============================] - 17s 139ms/step - loss: 0.4973 - accuracy: 0.7825 - val_loss: 0.5747 - val_accuracy: 0.7750\n",
      "Epoch 97/100\n",
      "125/125 [==============================] - 17s 137ms/step - loss: 0.4949 - accuracy: 0.7785 - val_loss: 0.5702 - val_accuracy: 0.7620\n",
      "Epoch 98/100\n",
      "125/125 [==============================] - 17s 136ms/step - loss: 0.4976 - accuracy: 0.7765 - val_loss: 0.5057 - val_accuracy: 0.7780\n",
      "Epoch 99/100\n",
      "125/125 [==============================] - 17s 135ms/step - loss: 0.5114 - accuracy: 0.7870 - val_loss: 0.5286 - val_accuracy: 0.8100\n",
      "Epoch 100/100\n",
      "125/125 [==============================] - 17s 136ms/step - loss: 0.4871 - accuracy: 0.7785 - val_loss: 0.4916 - val_accuracy: 0.7960\n"
     ]
    },
    {
     "data": {
      "text/plain": [
       "dict_keys(['accuracy', 'loss', 'val_accuracy', 'val_loss'])"
      ]
     },
     "execution_count": 13,
     "metadata": {},
     "output_type": "execute_result"
    }
   ],
   "source": [
    "history = model.fit_generator(\n",
    "    train_generator,\n",
    "    steps_per_epoch=steps_per_epoch,\n",
    "    epochs=100,\n",
    "    callbacks=callbacks,\n",
    "    validation_data=valid_generator,\n",
    "    validation_steps=validation_steps,\n",
    ")\n",
    "history.history.keys()"
   ]
  },
  {
   "cell_type": "code",
   "execution_count": 14,
   "metadata": {
    "scrolled": false
   },
   "outputs": [
    {
     "data": {
      "image/png": "[encoded data removed]",
      "text/plain": [
       "<Figure size 1440x720 with 2 Axes>"
      ]
     },
     "metadata": {
      "needs_background": "light"
     },
     "output_type": "display_data"
    }
   ],
   "source": [
    "fig = plt.figure(figsize=(20, 10))\n",
    "\n",
    "plt.subplot(1, 2, 1)\n",
    "plt.plot(history.history['accuracy'])\n",
    "plt.plot(history.history['val_accuracy'])\n",
    "plt.title('Model accuracy')\n",
    "plt.ylabel('accuracy')\n",
    "plt.xlabel('epoch')\n",
    "plt.legend(['train', 'validation'], loc='upper left')\n",
    "\n",
    "plt.subplot(1, 2, 2)\n",
    "plt.plot(history.history['loss'])\n",
    "plt.plot(history.history['val_loss'])\n",
    "plt.title('Model loss')\n",
    "plt.ylabel('loss')\n",
    "plt.xlabel('epoch')\n",
    "plt.legend(['train', 'validation'], loc='upper left')\n",
    "\n",
    "plt.show()"
   ]
  },
  {
   "cell_type": "markdown",
   "metadata": {},
   "source": [
    "## Save the model"
   ]
  },
  {
   "cell_type": "code",
   "execution_count": 9,
   "metadata": {},
   "outputs": [],
   "source": [
    "weights_path = Path(\"../weights\")\n",
    "weights_path.mkdir(parents=True, exist_ok=True)"
   ]
  },
  {
   "cell_type": "code",
   "execution_count": 17,
   "metadata": {},
   "outputs": [],
   "source": [
    "model.save(str(weights_path/\"dogs_vs_cats_v2.h5\"))"
   ]
  },
  {
   "cell_type": "markdown",
   "metadata": {},
   "source": [
    "## Evaluate"
   ]
  },
  {
   "cell_type": "markdown",
   "metadata": {},
   "source": [
    "Load the saved model"
   ]
  },
  {
   "cell_type": "code",
   "execution_count": 10,
   "metadata": {},
   "outputs": [
    {
     "name": "stderr",
     "output_type": "stream",
     "text": [
      "WARNING: Logging before flag parsing goes to stderr.\n",
      "W0822 09:29:37.489082 4631422400 deprecation.py:323] From /Users/mostafagazar/anaconda3/envs/keras/lib/python3.6/site-packages/tensorflow/python/ops/math_grad.py:1250: add_dispatch_support.<locals>.wrapper (from tensorflow.python.ops.array_ops) is deprecated and will be removed in a future version.\n",
      "Instructions for updating:\n",
      "Use tf.where in 2.0, which has the same broadcast rule as np.where\n"
     ]
    }
   ],
   "source": [
    "model = keras.models.load_model(str(weights_path/\"dogs_vs_cats_v2.h5\"))"
   ]
  },
  {
   "cell_type": "code",
   "execution_count": 11,
   "metadata": {},
   "outputs": [
    {
     "name": "stdout",
     "output_type": "stream",
     "text": [
      "Model: \"sequential\"\n",
      "_________________________________________________________________\n",
      "Layer (type)                 Output Shape              Param #   \n",
      "=================================================================\n",
      "conv2d (Conv2D)              (None, 148, 148, 32)      896       \n",
      "_________________________________________________________________\n",
      "max_pooling2d (MaxPooling2D) (None, 74, 74, 32)        0         \n",
      "_________________________________________________________________\n",
      "conv2d_1 (Conv2D)            (None, 72, 72, 64)        18496     \n",
      "_________________________________________________________________\n",
      "max_pooling2d_1 (MaxPooling2 (None, 36, 36, 64)        0         \n",
      "_________________________________________________________________\n",
      "conv2d_2 (Conv2D)            (None, 34, 34, 128)       73856     \n",
      "_________________________________________________________________\n",
      "max_pooling2d_2 (MaxPooling2 (None, 17, 17, 128)       0         \n",
      "_________________________________________________________________\n",
      "conv2d_3 (Conv2D)            (None, 15, 15, 128)       147584    \n",
      "_________________________________________________________________\n",
      "max_pooling2d_3 (MaxPooling2 (None, 7, 7, 128)         0         \n",
      "_________________________________________________________________\n",
      "flatten (Flatten)            (None, 6272)              0         \n",
      "_________________________________________________________________\n",
      "dropout (Dropout)            (None, 6272)              0         \n",
      "_________________________________________________________________\n",
      "dense (Dense)                (None, 512)               3211776   \n",
      "_________________________________________________________________\n",
      "dense_1 (Dense)              (None, 1)                 513       \n",
      "=================================================================\n",
      "Total params: 3,453,121\n",
      "Trainable params: 0\n",
      "Non-trainable params: 3,453,121\n",
      "_________________________________________________________________\n"
     ]
    }
   ],
   "source": [
    "model.trainable = False\n",
    "\n",
    "# Compile model so changes to trainable would take effect\n",
    "model.compile(optimizer='rmsprop', loss='binary_crossentropy', metrics=['accuracy'])\n",
    "\n",
    "model.summary()"
   ]
  },
  {
   "cell_type": "code",
   "execution_count": 12,
   "metadata": {},
   "outputs": [
    {
     "data": {
      "text/plain": [
       "(0.525605013209676, 0.815)"
      ]
     },
     "execution_count": 12,
     "metadata": {},
     "output_type": "execute_result"
    }
   ],
   "source": [
    "steps = len(test_generator)\n",
    "\n",
    "loss, accuracy = model.evaluate_generator(\n",
    "    test_generator,\n",
    "    steps=steps\n",
    ")\n",
    "loss, accuracy"
   ]
  },
  {
   "cell_type": "code",
   "execution_count": null,
   "metadata": {},
   "outputs": [],
   "source": []
  }
 ],
 "metadata": {
  "kernelspec": {
   "display_name": "keras",
   "language": "python",
   "name": "keras"
  },
  "language_info": {
   "codemirror_mode": {
    "name": "ipython",
    "version": 3
   },
   "file_extension": ".py",
   "mimetype": "text/x-python",
   "name": "python",
   "nbconvert_exporter": "python",
   "pygments_lexer": "ipython3",
   "version": "3.6.9"
  }
 },
 "nbformat": 4,
 "nbformat_minor": 2
}
