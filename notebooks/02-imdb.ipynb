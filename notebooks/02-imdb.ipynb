{
 "cells": [
  {
   "cell_type": "markdown",
   "metadata": {},
   "source": [
    "Check running TensorFlow version"
   ]
  },
  {
   "cell_type": "code",
   "execution_count": 1,
   "metadata": {},
   "outputs": [
    {
     "data": {
      "text/plain": [
       "'2.0.0-alpha0'"
      ]
     },
     "execution_count": 1,
     "metadata": {},
     "output_type": "execute_result"
    }
   ],
   "source": [
    "import tensorflow as tf\n",
    "tf.__version__"
   ]
  },
  {
   "cell_type": "markdown",
   "metadata": {},
   "source": [
    "# Sentiment movie reviews classification\n",
    "\n",
    "This a binary classification problem (2 classes, negative and positive). \n",
    "\n",
    "The dataset I will use is [IMDB reviews](https://ai.stanford.edu/~amaas/data/sentiment/), It contains a set of 25,000 highly polar movie reviews for training, and 25,000 for testing.\n",
    "\n",
    "I will use a basic dense model to start with and find out how well it can on this dataset. 1D conv, LSTM, GRU, Bidirectional are stuff I can try later."
   ]
  },
  {
   "cell_type": "code",
   "execution_count": 63,
   "metadata": {},
   "outputs": [],
   "source": [
    "from tensorflow.keras import datasets\n",
    "from tensorflow.keras import layers\n",
    "from tensorflow.keras.models import Sequential\n",
    "from tensorflow.keras.preprocessing.sequence import pad_sequences\n",
    "\n",
    "import matplotlib.pyplot as plt\n",
    "%matplotlib inline\n",
    "\n",
    "import random as rand\n",
    "\n",
    "import numpy as np"
   ]
  },
  {
   "cell_type": "markdown",
   "metadata": {},
   "source": [
    "## Load IMDB review and get familiar with it"
   ]
  },
  {
   "cell_type": "code",
   "execution_count": 3,
   "metadata": {},
   "outputs": [],
   "source": [
    "vocab_size = 10000\n",
    "(train_x, train_y), (test_x, test_y) = datasets.imdb.load_data(num_words=vocab_size)"
   ]
  },
  {
   "cell_type": "code",
   "execution_count": 4,
   "metadata": {},
   "outputs": [
    {
     "data": {
      "text/plain": [
       "((25000,), (25000,))"
      ]
     },
     "execution_count": 4,
     "metadata": {},
     "output_type": "execute_result"
    }
   ],
   "source": [
    "train_x.shape, train_y.shape"
   ]
  },
  {
   "cell_type": "code",
   "execution_count": 5,
   "metadata": {},
   "outputs": [
    {
     "data": {
      "text/plain": [
       "((25000,), (25000,))"
      ]
     },
     "execution_count": 5,
     "metadata": {},
     "output_type": "execute_result"
    }
   ],
   "source": [
    "test_x.shape, test_y.shape"
   ]
  },
  {
   "cell_type": "markdown",
   "metadata": {},
   "source": [
    "Load the word index dictionary and reverse a few triaing strings\n",
    "\n",
    "Note: the indices are offset by 3 because 0, 1, and 2 are reserved indices for \"padding\", \"start of sequence\", and \"unknown\"."
   ]
  },
  {
   "cell_type": "code",
   "execution_count": 16,
   "metadata": {},
   "outputs": [
    {
     "data": {
      "text/plain": [
       "88584"
      ]
     },
     "execution_count": 16,
     "metadata": {},
     "output_type": "execute_result"
    }
   ],
   "source": [
    "word_index = datasets.imdb.get_word_index()\n",
    "word_index_reversed = {v: k for k, v in word_index.items()}"
   ]
  },
  {
   "cell_type": "code",
   "execution_count": 61,
   "metadata": {},
   "outputs": [
    {
     "name": "stdout",
     "output_type": "stream",
     "text": [
      "claustrophobic camera angles that do not help the movie too long face only shots where you most of the time get the feeling that the lower half of the film is missing that the screen is cut off because there seems to be important actions going on but you cannot see them there is anyway already too much confusion in the movie so these viewing angles make it worse and do not contribute to ? visuals br br i like ? made movies and unconventional camera work i can handle deep and slow movies but this one is trying too hard to be something ? and fails in my opinion painfully br br nothing to get attached to to any of the characters because they are not worked out well enough to work out characters more is needed than just minute long face shots at least with this set of script director actors br br i wonder whether some of the not so good acting is due to the script and director or due to the actors br br i will stay away from films both written and directed by le you for sure in the future br br what an annoying film even for someone who would be interested in that part of history and for someone who spent time in shanghai\n",
      "\n",
      "it is nice to see ? ? back at what he is best at a story woven around a marriage it feels nice to have a movie in which there is no single scene which you would avoid watching with your family though the story is simple and does not contain any new elements you still like the movie because of the presentation performances and actually the over all treatment hats off to ? the movie is about the fact that engagement leads to love the depiction of the changes in the way of thinking behaving once you get engaged is excellent director has definitely given it much thought and actors have done it to perfection though the movie is slow you don't mind it because you kind of get so much involved with the story that you just wanna continue watching the joy of this newly engaged couple as a typical ? stuff it has many sentimental scenes which are highly likely to make viewer burst into tears specially ladies but when you come out of the cinema hall you are very much satisfied and feel that the ticket was worth\n",
      "\n"
     ]
    }
   ],
   "source": [
    "random_indecies = rand.choices(list(range(train_x.shape[0])), k=2)\n",
    "\n",
    "for index in random_indecies:\n",
    "    sentence = \" \".join([word_index_reversed.get(word - 3, '?') for word in train_x[index][1:]])\n",
    "    print(sentence, end=\"\\n\\n\")"
   ]
  },
  {
   "cell_type": "markdown",
   "metadata": {},
   "source": [
    "## Check how balanced the data is"
   ]
  },
  {
   "cell_type": "code",
   "execution_count": 62,
   "metadata": {},
   "outputs": [
    {
     "data": {
      "text/plain": [
       "{1: 12500, 0: 12500}"
      ]
     },
     "execution_count": 62,
     "metadata": {},
     "output_type": "execute_result"
    }
   ],
   "source": [
    "from collections import Counter\n",
    "\n",
    "labels_counter = Counter(list(map(int, train_y)))\n",
    "labels_counter = {k: v for k, v in labels_counter.items()}\n",
    "labels_counter"
   ]
  },
  {
   "cell_type": "markdown",
   "metadata": {},
   "source": [
    "## Pad the training and test data\n",
    "\n",
    "Because of input data is of different sizes, I will set a max length limit on them or pad them if their length was shorter than max length"
   ]
  },
  {
   "cell_type": "code",
   "execution_count": 68,
   "metadata": {},
   "outputs": [],
   "source": [
    "max_length = 20\n",
    "\n",
    "# Default :: padding='pre', truncating='pre',\n",
    "train_x = pad_sequences(train_x, maxlen=max_length)\n",
    "test_x = pad_sequences(test_x, maxlen=max_length)"
   ]
  },
  {
   "cell_type": "code",
   "execution_count": 70,
   "metadata": {},
   "outputs": [
    {
     "data": {
      "text/plain": [
       "((25000, 20), (25000, 20))"
      ]
     },
     "execution_count": 70,
     "metadata": {},
     "output_type": "execute_result"
    }
   ],
   "source": [
    "train_x.shape, test_x.shape"
   ]
  },
  {
   "cell_type": "markdown",
   "metadata": {},
   "source": [
    "## Train"
   ]
  },
  {
   "cell_type": "code",
   "execution_count": 78,
   "metadata": {},
   "outputs": [
    {
     "name": "stdout",
     "output_type": "stream",
     "text": [
      "Model: \"sequential_2\"\n",
      "_________________________________________________________________\n",
      "Layer (type)                 Output Shape              Param #   \n",
      "=================================================================\n",
      "embedding_2 (Embedding)      (None, 20, 64)            640000    \n",
      "_________________________________________________________________\n",
      "flatten (Flatten)            (None, 1280)              0         \n",
      "_________________________________________________________________\n",
      "dense_6 (Dense)              (None, 16)                20496     \n",
      "_________________________________________________________________\n",
      "dense_7 (Dense)              (None, 16)                272       \n",
      "_________________________________________________________________\n",
      "dense_8 (Dense)              (None, 1)                 17        \n",
      "=================================================================\n",
      "Total params: 660,785\n",
      "Trainable params: 660,785\n",
      "Non-trainable params: 0\n",
      "_________________________________________________________________\n"
     ]
    }
   ],
   "source": [
    "model = Sequential()\n",
    "model.add(layers.Embedding(vocab_size, 64, input_length=max_length))\n",
    "model.add(layers.Flatten())\n",
    "model.add(layers.Dense(16, activation='relu'))\n",
    "model.add(layers.Dense(16, activation='relu'))\n",
    "model.add(layers.Dense(1, activation='sigmoid'))\n",
    "model.summary()"
   ]
  },
  {
   "cell_type": "code",
   "execution_count": 79,
   "metadata": {},
   "outputs": [],
   "source": [
    "model.compile(optimizer='rmsprop', loss='binary_crossentropy', metrics=['accuracy'])"
   ]
  },
  {
   "cell_type": "code",
   "execution_count": 80,
   "metadata": {},
   "outputs": [
    {
     "name": "stdout",
     "output_type": "stream",
     "text": [
      "Train on 20000 samples, validate on 5000 samples\n",
      "Epoch 1/10\n",
      "20000/20000 [==============================] - 1s 35us/sample - loss: 0.6587 - accuracy: 0.6309 - val_loss: 0.5727 - val_accuracy: 0.7174\n",
      "Epoch 2/10\n",
      "20000/20000 [==============================] - 0s 18us/sample - loss: 0.4512 - accuracy: 0.8015 - val_loss: 0.5008 - val_accuracy: 0.7494\n",
      "Epoch 3/10\n",
      "20000/20000 [==============================] - 0s 17us/sample - loss: 0.3116 - accuracy: 0.8736 - val_loss: 0.5340 - val_accuracy: 0.7324\n",
      "Epoch 4/10\n",
      "20000/20000 [==============================] - 0s 19us/sample - loss: 0.1952 - accuracy: 0.9323 - val_loss: 0.6015 - val_accuracy: 0.7298\n",
      "Epoch 5/10\n",
      "20000/20000 [==============================] - 0s 18us/sample - loss: 0.1032 - accuracy: 0.9701 - val_loss: 0.7304 - val_accuracy: 0.7218\n",
      "Epoch 6/10\n",
      "20000/20000 [==============================] - 0s 17us/sample - loss: 0.0442 - accuracy: 0.9898 - val_loss: 0.9119 - val_accuracy: 0.7086\n",
      "Epoch 7/10\n",
      "20000/20000 [==============================] - 0s 17us/sample - loss: 0.0153 - accuracy: 0.9974 - val_loss: 1.1247 - val_accuracy: 0.7026\n",
      "Epoch 8/10\n",
      "20000/20000 [==============================] - 0s 17us/sample - loss: 0.0045 - accuracy: 0.9994 - val_loss: 1.2960 - val_accuracy: 0.7040\n",
      "Epoch 9/10\n",
      "20000/20000 [==============================] - 0s 17us/sample - loss: 0.0014 - accuracy: 0.9999 - val_loss: 1.4625 - val_accuracy: 0.7052\n",
      "Epoch 10/10\n",
      "20000/20000 [==============================] - 0s 17us/sample - loss: 7.7046e-04 - accuracy: 0.9999 - val_loss: 1.6499 - val_accuracy: 0.7054\n"
     ]
    },
    {
     "data": {
      "text/plain": [
       "dict_keys(['loss', 'accuracy', 'val_loss', 'val_accuracy'])"
      ]
     },
     "execution_count": 80,
     "metadata": {},
     "output_type": "execute_result"
    }
   ],
   "source": [
    "history = model.fit(x=train_x, y=train_y, validation_split=0.2, shuffle=True, batch_size=256, epochs=10)\n",
    "history.history.keys()"
   ]
  },
  {
   "cell_type": "code",
   "execution_count": 81,
   "metadata": {},
   "outputs": [
    {
     "data": {
      "image/png": "[encoded data removed]",
      "text/plain": [
       "<Figure size 1440x720 with 2 Axes>"
      ]
     },
     "metadata": {
      "needs_background": "light"
     },
     "output_type": "display_data"
    }
   ],
   "source": [
    "fig = plt.figure(figsize=(20, 10))\n",
    "\n",
    "plt.subplot(1, 2, 1)\n",
    "plt.plot(history.history['accuracy'])\n",
    "plt.plot(history.history['val_accuracy'])\n",
    "plt.title('Model accuracy')\n",
    "plt.ylabel('accuracy')\n",
    "plt.xlabel('epoch')\n",
    "plt.legend(['train', 'validation'], loc='upper left')\n",
    "\n",
    "plt.subplot(1, 2, 2)\n",
    "plt.plot(history.history['loss'])\n",
    "plt.plot(history.history['val_loss'])\n",
    "plt.title('Model loss')\n",
    "plt.ylabel('loss')\n",
    "plt.xlabel('epoch')\n",
    "plt.legend(['train', 'validation'], loc='upper left')\n",
    "\n",
    "plt.show()"
   ]
  },
  {
   "cell_type": "markdown",
   "metadata": {},
   "source": [
    "## Evaluate"
   ]
  },
  {
   "cell_type": "code",
   "execution_count": 82,
   "metadata": {},
   "outputs": [
    {
     "name": "stdout",
     "output_type": "stream",
     "text": [
      "25000/25000 [==============================] - 0s 16us/sample - loss: 1.6819 - accuracy: 0.7034\n"
     ]
    },
    {
     "data": {
      "text/plain": [
       "(1.6819232656288148, 0.70336)"
      ]
     },
     "execution_count": 82,
     "metadata": {},
     "output_type": "execute_result"
    }
   ],
   "source": [
    "loss, accuracy = model.evaluate(x=test_x, y=test_y)\n",
    "loss, accuracy"
   ]
  },
  {
   "cell_type": "markdown",
   "metadata": {},
   "source": [
    "## Predict on one sentence"
   ]
  },
  {
   "cell_type": "code",
   "execution_count": null,
   "metadata": {},
   "outputs": [],
   "source": []
  },
  {
   "cell_type": "code",
   "execution_count": null,
   "metadata": {},
   "outputs": [],
   "source": []
  },
  {
   "cell_type": "code",
   "execution_count": null,
   "metadata": {},
   "outputs": [],
   "source": []
  }
 ],
 "metadata": {
  "kernelspec": {
   "display_name": "py3",
   "language": "python",
   "name": "py3"
  },
  "language_info": {
   "codemirror_mode": {
    "name": "ipython",
    "version": 3
   },
   "file_extension": ".py",
   "mimetype": "text/x-python",
   "name": "python",
   "nbconvert_exporter": "python",
   "pygments_lexer": "ipython3",
   "version": "3.6.8"
  }
 },
 "nbformat": 4,
 "nbformat_minor": 2
}
