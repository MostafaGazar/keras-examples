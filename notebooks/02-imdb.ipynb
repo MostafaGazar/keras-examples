{
 "cells": [
  {
   "cell_type": "markdown",
   "metadata": {},
   "source": [
    "Check running TensorFlow version"
   ]
  },
  {
   "cell_type": "code",
   "execution_count": 1,
   "metadata": {},
   "outputs": [
    {
     "data": {
      "text/plain": [
       "'2.0.0-alpha0'"
      ]
     },
     "execution_count": 1,
     "metadata": {},
     "output_type": "execute_result"
    }
   ],
   "source": [
    "import tensorflow as tf\n",
    "tf.__version__"
   ]
  },
  {
   "cell_type": "markdown",
   "metadata": {},
   "source": [
    "# Sentiment movie reviews classification\n",
    "\n",
    "This is a binary classification problem (2 classes, negative and positive). \n",
    "\n",
    "The dataset I will use is [IMDB reviews](https://ai.stanford.edu/~amaas/data/sentiment/), it contains a set of 25,000 highly polar movie reviews for training, and 25,000 for testing.\n",
    "\n",
    "I will use a basic dense model to start with and find out how well it performs on this dataset. 1D conv, LSTM, GRU, Bidirectional are stuff I can try later."
   ]
  },
  {
   "cell_type": "code",
   "execution_count": 2,
   "metadata": {},
   "outputs": [],
   "source": [
    "from tensorflow.keras import datasets\n",
    "from tensorflow.keras import layers\n",
    "from tensorflow.keras.models import Sequential\n",
    "from tensorflow.keras.preprocessing.sequence import pad_sequences\n",
    "\n",
    "import matplotlib.pyplot as plt\n",
    "%matplotlib inline\n",
    "\n",
    "import random as rand\n",
    "\n",
    "import numpy as np"
   ]
  },
  {
   "cell_type": "markdown",
   "metadata": {},
   "source": [
    "## Load IMDB review and get familiar with it"
   ]
  },
  {
   "cell_type": "code",
   "execution_count": 3,
   "metadata": {},
   "outputs": [],
   "source": [
    "vocab_size = 10000\n",
    "(train_x, train_y), (test_x, test_y) = datasets.imdb.load_data(num_words=vocab_size)"
   ]
  },
  {
   "cell_type": "code",
   "execution_count": 4,
   "metadata": {},
   "outputs": [
    {
     "data": {
      "text/plain": [
       "((25000,), (25000,))"
      ]
     },
     "execution_count": 4,
     "metadata": {},
     "output_type": "execute_result"
    }
   ],
   "source": [
    "train_x.shape, train_y.shape"
   ]
  },
  {
   "cell_type": "code",
   "execution_count": 5,
   "metadata": {},
   "outputs": [
    {
     "data": {
      "text/plain": [
       "((25000,), (25000,))"
      ]
     },
     "execution_count": 5,
     "metadata": {},
     "output_type": "execute_result"
    }
   ],
   "source": [
    "test_x.shape, test_y.shape"
   ]
  },
  {
   "cell_type": "markdown",
   "metadata": {},
   "source": [
    "Load the word index dictionary and reverse a few triaing strings\n",
    "\n",
    "Note: the indices are offset by 3 because 0, 1, and 2 are reserved indices for \"padding\", \"start of sequence\", and \"unknown\"."
   ]
  },
  {
   "cell_type": "code",
   "execution_count": 6,
   "metadata": {},
   "outputs": [],
   "source": [
    "word_index = datasets.imdb.get_word_index()\n",
    "word_index_reversed = {v: k for k, v in word_index.items()}"
   ]
  },
  {
   "cell_type": "code",
   "execution_count": 7,
   "metadata": {},
   "outputs": [],
   "source": [
    "translate_sentence = lambda sentence : \" \".join([word_index_reversed.get(word - 3, '?') for word in sentence])"
   ]
  },
  {
   "cell_type": "code",
   "execution_count": 8,
   "metadata": {},
   "outputs": [
    {
     "name": "stdout",
     "output_type": "stream",
     "text": [
      "this series adds new information and background to the book and includes personal appearances by the author and by ? and other ? it brings the book to life and makes even more sense of the author's subsequent ? collapse br br diamond himself comes off as ? and caring not just a ? or ? academic this series makes it clear that his book was not just a response to a need to ? or ? as the saying goes about ? but a deeply considered answer to a question from someone he respects why you white people got so much ? and we have so little because he respected the intelligence of the ? and his community diamond looked for an answer that didn't insult that intelligence or that community i like to think of his answer in a very simple way in the same spirit as south ? blame canada blame ?\n",
      "\n",
      "for paris is a ? feast ernest ? br br it is impossible to count how many great talents have ? paris in paintings novels songs ? short but unforgettable quotes and yes movies the celebrated film director max ? said about paris br br it offered the shining wet ? under the street lights breakfast in ? with ? in your glass coffee and ? ? ? and prostitutes at night everyone in the world has two ? his own and paris br br paris is always associated with love and romance and paris je t'aime which is subtitled ? romances is a collection of short films often sketches from 18 talented directors from all over the world in each we become familiar with one of the city of light 20 ? and with the ? of all ages ? colors and backgrounds who all deal in love in its many variations and stages in some of the ? romances we are the witnesses of the unexpected encounters of the strangers that lead to instant interest ? and perhaps relationship like for ? and ? ? in the street of ? in the opening film or for ? ? and ? ? as a white boy and a muslim girl whose cross cultural romance directed by ? ? begins on ? de ? i would include into this category the humorous short film by gus van ? in le ? one boy ? his heart out to another boy ? of sudden unexpected ? asking ? to call never realizing that the object of his interest does not understand french br br some of the vignettes are poignant and even dark in walter ? and ? ? ? du ? ? ? ? amazing oscar nominated debut for maria full of grace is single working class mother who has to work as a ? in a wealthy neighborhood to pay for ? where she drops her baby every morning before she goes to work one of most memorable and truly heartbreaking films is place des ? by oliver ? ? ? and ? ? co star as two young people for who love could have happened there were the promises of it but it was cut short due to hatred and ? that are present everywhere and the city of love and light is no exception another one that really got to me was ? written and directed by ? ? starring sergio ? miranda richardson and ? ? ? has fallen out of love with his wife richardson but when he is ready to leave with the beautiful mistress the devastating news from his wife's doctor arrives br br i can go on ? on all 18 small gems i like some of them very much the others felt weak and perhaps will be forgotten soon but overall i am very glad that i bought the dvd and i know that i will return to my favorite films again and again they are place des ? that i've mentioned already ? ? directed by wes craven that involves the ghost of one of the ? and ? men ever oscar ? alexander payne the director of ? who would save one troubled relationship payne also directed ? ? in which a lonely middle aged post worker from denver co explores the city on her own providing the voice over in french with the heavy accent ? entry is one of the most moving and along with hilarious ? by joel and ethan ? with who else steve ? is my absolute favorite in both shorts american tourists sit on the ? ? in the park and steve in paris ? after visiting ? ? the life around them with the different results while ? may say my ? sad and light my sorrow is bright ? character will find out that sometimes even the most ? and useful tourist guide would not help a tourist avoiding doing the wrong things in a foreign country\n",
      "\n"
     ]
    }
   ],
   "source": [
    "random_indecies = rand.choices(list(range(train_x.shape[0])), k=2)\n",
    "\n",
    "for index in random_indecies:\n",
    "    sentence = translate_sentence(train_x[index][1:])\n",
    "    print(sentence, end=\"\\n\\n\")"
   ]
  },
  {
   "cell_type": "markdown",
   "metadata": {},
   "source": [
    "## Check how balanced the data is"
   ]
  },
  {
   "cell_type": "code",
   "execution_count": 9,
   "metadata": {},
   "outputs": [
    {
     "data": {
      "text/plain": [
       "{1: 12500, 0: 12500}"
      ]
     },
     "execution_count": 9,
     "metadata": {},
     "output_type": "execute_result"
    }
   ],
   "source": [
    "from collections import Counter\n",
    "\n",
    "labels_counter = Counter(list(map(int, train_y)))\n",
    "labels_counter = {k: v for k, v in labels_counter.items()}\n",
    "labels_counter"
   ]
  },
  {
   "cell_type": "markdown",
   "metadata": {},
   "source": [
    "## Pad the training and test data\n",
    "\n",
    "Because of input data is of different sizes, I will set a max length limit on them or pad them if their length was shorter than max length"
   ]
  },
  {
   "cell_type": "code",
   "execution_count": 10,
   "metadata": {},
   "outputs": [],
   "source": [
    "max_length = 200\n",
    "\n",
    "# Default :: , padding='pre', truncating='pre'\n",
    "train_x = pad_sequences(train_x, maxlen=max_length)\n",
    "test_x = pad_sequences(test_x, maxlen=max_length)"
   ]
  },
  {
   "cell_type": "code",
   "execution_count": 11,
   "metadata": {},
   "outputs": [
    {
     "data": {
      "text/plain": [
       "((25000, 200), (25000, 200))"
      ]
     },
     "execution_count": 11,
     "metadata": {},
     "output_type": "execute_result"
    }
   ],
   "source": [
    "train_x.shape, test_x.shape"
   ]
  },
  {
   "cell_type": "markdown",
   "metadata": {},
   "source": [
    "## Train"
   ]
  },
  {
   "cell_type": "code",
   "execution_count": 12,
   "metadata": {},
   "outputs": [
    {
     "name": "stdout",
     "output_type": "stream",
     "text": [
      "Model: \"sequential\"\n",
      "_________________________________________________________________\n",
      "Layer (type)                 Output Shape              Param #   \n",
      "=================================================================\n",
      "embedding (Embedding)        (None, 200, 32)           320000    \n",
      "_________________________________________________________________\n",
      "global_average_pooling1d (Gl (None, 32)                0         \n",
      "_________________________________________________________________\n",
      "dense (Dense)                (None, 16)                528       \n",
      "_________________________________________________________________\n",
      "dense_1 (Dense)              (None, 1)                 17        \n",
      "=================================================================\n",
      "Total params: 320,545\n",
      "Trainable params: 320,545\n",
      "Non-trainable params: 0\n",
      "_________________________________________________________________\n"
     ]
    }
   ],
   "source": [
    "model = Sequential()\n",
    "model.add(layers.Embedding(vocab_size, 32, input_length=max_length))\n",
    "model.add(layers.GlobalAveragePooling1D())  # 3% better than using Flatten layer\n",
    "model.add(layers.Dense(16, activation='relu'))  # More Dense layers with GlobalAveragePooling1D did not improve or worsen the model\n",
    "model.add(layers.Dense(1, activation='sigmoid'))\n",
    "model.summary()"
   ]
  },
  {
   "cell_type": "code",
   "execution_count": 13,
   "metadata": {},
   "outputs": [],
   "source": [
    "model.compile(optimizer='rmsprop', loss='binary_crossentropy', metrics=['accuracy'])"
   ]
  },
  {
   "cell_type": "code",
   "execution_count": 14,
   "metadata": {},
   "outputs": [
    {
     "name": "stdout",
     "output_type": "stream",
     "text": [
      "Train on 20000 samples, validate on 5000 samples\n",
      "Epoch 1/10\n",
      "20000/20000 [==============================] - 1s 49us/sample - loss: 0.6783 - accuracy: 0.6916 - val_loss: 0.6538 - val_accuracy: 0.7504\n",
      "Epoch 2/10\n",
      "20000/20000 [==============================] - 1s 34us/sample - loss: 0.6195 - accuracy: 0.7910 - val_loss: 0.5793 - val_accuracy: 0.8042\n",
      "Epoch 3/10\n",
      "20000/20000 [==============================] - 1s 33us/sample - loss: 0.5322 - accuracy: 0.8322 - val_loss: 0.4922 - val_accuracy: 0.8376\n",
      "Epoch 4/10\n",
      "20000/20000 [==============================] - 1s 34us/sample - loss: 0.4395 - accuracy: 0.8612 - val_loss: 0.4152 - val_accuracy: 0.8518\n",
      "Epoch 5/10\n",
      "20000/20000 [==============================] - 1s 36us/sample - loss: 0.3637 - accuracy: 0.8769 - val_loss: 0.3624 - val_accuracy: 0.8624\n",
      "Epoch 6/10\n",
      "20000/20000 [==============================] - 1s 34us/sample - loss: 0.3090 - accuracy: 0.8898 - val_loss: 0.3277 - val_accuracy: 0.8700\n",
      "Epoch 7/10\n",
      "20000/20000 [==============================] - 1s 33us/sample - loss: 0.2712 - accuracy: 0.8996 - val_loss: 0.3173 - val_accuracy: 0.8692\n",
      "Epoch 8/10\n",
      "20000/20000 [==============================] - 1s 33us/sample - loss: 0.2442 - accuracy: 0.9092 - val_loss: 0.2991 - val_accuracy: 0.8792\n",
      "Epoch 9/10\n",
      "20000/20000 [==============================] - 1s 33us/sample - loss: 0.2236 - accuracy: 0.9170 - val_loss: 0.2956 - val_accuracy: 0.8796\n",
      "Epoch 10/10\n",
      "20000/20000 [==============================] - 1s 32us/sample - loss: 0.2068 - accuracy: 0.9234 - val_loss: 0.2903 - val_accuracy: 0.8838\n"
     ]
    },
    {
     "data": {
      "text/plain": [
       "dict_keys(['loss', 'accuracy', 'val_loss', 'val_accuracy'])"
      ]
     },
     "execution_count": 14,
     "metadata": {},
     "output_type": "execute_result"
    }
   ],
   "source": [
    "history = model.fit(x=train_x, y=train_y, validation_split=0.2, shuffle=True, batch_size=256, epochs=10)\n",
    "history.history.keys()"
   ]
  },
  {
   "cell_type": "code",
   "execution_count": 15,
   "metadata": {},
   "outputs": [
    {
     "data": {
      "image/png": "[encoded data removed]",
      "text/plain": [
       "<Figure size 1440x720 with 2 Axes>"
      ]
     },
     "metadata": {
      "needs_background": "light"
     },
     "output_type": "display_data"
    }
   ],
   "source": [
    "fig = plt.figure(figsize=(20, 10))\n",
    "\n",
    "plt.subplot(1, 2, 1)\n",
    "plt.plot(history.history['accuracy'])\n",
    "plt.plot(history.history['val_accuracy'])\n",
    "plt.title('Model accuracy')\n",
    "plt.ylabel('accuracy')\n",
    "plt.xlabel('epoch')\n",
    "plt.legend(['train', 'validation'], loc='upper left')\n",
    "\n",
    "plt.subplot(1, 2, 2)\n",
    "plt.plot(history.history['loss'])\n",
    "plt.plot(history.history['val_loss'])\n",
    "plt.title('Model loss')\n",
    "plt.ylabel('loss')\n",
    "plt.xlabel('epoch')\n",
    "plt.legend(['train', 'validation'], loc='upper left')\n",
    "\n",
    "plt.show()"
   ]
  },
  {
   "cell_type": "markdown",
   "metadata": {},
   "source": [
    "## Evaluate"
   ]
  },
  {
   "cell_type": "code",
   "execution_count": 16,
   "metadata": {},
   "outputs": [
    {
     "name": "stdout",
     "output_type": "stream",
     "text": [
      "25000/25000 [==============================] - 0s 17us/sample - loss: 0.2957 - accuracy: 0.8773\n"
     ]
    },
    {
     "data": {
      "text/plain": [
       "(0.29572163078308106, 0.87728)"
      ]
     },
     "execution_count": 16,
     "metadata": {},
     "output_type": "execute_result"
    }
   ],
   "source": [
    "loss, accuracy = model.evaluate(x=test_x, y=test_y)\n",
    "loss, accuracy"
   ]
  },
  {
   "cell_type": "markdown",
   "metadata": {},
   "source": [
    "## Predict on one sentence"
   ]
  },
  {
   "cell_type": "code",
   "execution_count": null,
   "metadata": {},
   "outputs": [],
   "source": [
    "model.trainable = False"
   ]
  },
  {
   "cell_type": "code",
   "execution_count": 17,
   "metadata": {},
   "outputs": [
    {
     "data": {
      "text/plain": [
       "\"for paris is a ? feast ernest ? br br it is impossible to count how many great talents have ? paris in paintings novels songs ? short but unforgettable quotes and yes movies the celebrated film director max ? said about paris br br it offered the shining wet ? under the street lights breakfast in ? with ? in your glass coffee and ? ? ? and prostitutes at night everyone in the world has two ? his own and paris br br paris is always associated with love and romance and paris je t'aime which is subtitled ? romances is a collection of short films often sketches from 18 talented directors from all over the world in each we become familiar with one of the city of light 20 ? and with the ? of all ages ? colors and backgrounds who all deal in love in its many variations and stages in some of the ? romances we are the witnesses of the unexpected encounters of the strangers that lead to instant interest ? and perhaps relationship like for ? and ? ? in the street of ? in the opening film or for ? ? and ? ? as a white boy and a muslim girl whose cross cultural romance directed by ? ? begins on ? de ? i would include into this category the humorous short film by gus van ? in le ? one boy ? his heart out to another boy ? of sudden unexpected ? asking ? to call never realizing that the object of his interest does not understand french br br some of the vignettes are poignant and even dark in walter ? and ? ? ? du ? ? ? ? amazing oscar nominated debut for maria full of grace is single working class mother who has to work as a ? in a wealthy neighborhood to pay for ? where she drops her baby every morning before she goes to work one of most memorable and truly heartbreaking films is place des ? by oliver ? ? ? and ? ? co star as two young people for who love could have happened there were the promises of it but it was cut short due to hatred and ? that are present everywhere and the city of love and light is no exception another one that really got to me was ? written and directed by ? ? starring sergio ? miranda richardson and ? ? ? has fallen out of love with his wife richardson but when he is ready to leave with the beautiful mistress the devastating news from his wife's doctor arrives br br i can go on ? on all 18 small gems i like some of them very much the others felt weak and perhaps will be forgotten soon but overall i am very glad that i bought the dvd and i know that i will return to my favorite films again and again they are place des ? that i've mentioned already ? ? directed by wes craven that involves the ghost of one of the ? and ? men ever oscar ? alexander payne the director of ? who would save one troubled relationship payne also directed ? ? in which a lonely middle aged post worker from denver co explores the city on her own providing the voice over in french with the heavy accent ? entry is one of the most moving and along with hilarious ? by joel and ethan ? with who else steve ? is my absolute favorite in both shorts american tourists sit on the ? ? in the park and steve in paris ? after visiting ? ? the life around them with the different results while ? may say my ? sad and light my sorrow is bright ? character will find out that sometimes even the most ? and useful tourist guide would not help a tourist avoiding doing the wrong things in a foreign country\""
      ]
     },
     "execution_count": 17,
     "metadata": {},
     "output_type": "execute_result"
    }
   ],
   "source": [
    "sentence"
   ]
  },
  {
   "cell_type": "code",
   "execution_count": 18,
   "metadata": {},
   "outputs": [
    {
     "data": {
      "text/plain": [
       "(\"? ? ? ? ? ? ? ? ? ? ? ? ? ? ? ? ? ? ? ? ? ? ? ? ? ? ? ? ? ? ? ? ? ? ? ? ? ? ? ? ? ? ? ? ? ? ? ? ? ? ? ? ? ? ? ? ? ? ? ? ? ? ? ? ? ? ? ? ? ? ? ? ? ? ? ? ? ? ? ? ? ? ? ? ? ? ? ? ? ? ? ? ? ? ? ? ? ? ? ? ? ? ? ? ? ? ? ? ? ? ? ? ? ? ? ? ? ? ? ? ? ? ? ? ? ? ? ? ? ? ? ? ? please give this one a miss br br ? ? and the rest of the cast rendered terrible performances the show is flat flat flat br br i don't know how michael madison could have allowed this one on his plate he almost seemed to know this wasn't going to work out and his performance was quite ? so all you madison fans give this a miss\",\n",
       " 0)"
      ]
     },
     "execution_count": 18,
     "metadata": {},
     "output_type": "execute_result"
    }
   ],
   "source": [
    "index = 0\n",
    "\n",
    "sentence = test_x[index]\n",
    "translate_sentence(sentence), test_y[index]"
   ]
  },
  {
   "cell_type": "code",
   "execution_count": 19,
   "metadata": {},
   "outputs": [
    {
     "data": {
      "text/plain": [
       "(1, 200)"
      ]
     },
     "execution_count": 19,
     "metadata": {},
     "output_type": "execute_result"
    }
   ],
   "source": [
    "sentence = sentence.reshape(1, *sentence.shape)\n",
    "sentence.shape"
   ]
  },
  {
   "cell_type": "code",
   "execution_count": 20,
   "metadata": {},
   "outputs": [
    {
     "data": {
      "text/plain": [
       "0.15766115486621857"
      ]
     },
     "execution_count": 20,
     "metadata": {},
     "output_type": "execute_result"
    }
   ],
   "source": [
    "output = model(sentence)\n",
    "float(output)"
   ]
  }
 ],
 "metadata": {
  "kernelspec": {
   "display_name": "py3",
   "language": "python",
   "name": "py3"
  },
  "language_info": {
   "codemirror_mode": {
    "name": "ipython",
    "version": 3
   },
   "file_extension": ".py",
   "mimetype": "text/x-python",
   "name": "python",
   "nbconvert_exporter": "python",
   "pygments_lexer": "ipython3",
   "version": "3.6.8"
  }
 },
 "nbformat": 4,
 "nbformat_minor": 2
}
