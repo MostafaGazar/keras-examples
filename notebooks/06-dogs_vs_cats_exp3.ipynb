{
 "cells": [
  {
   "cell_type": "markdown",
   "metadata": {},
   "source": [
    "Check running TensorFlow version"
   ]
  },
  {
   "cell_type": "code",
   "execution_count": 1,
   "metadata": {},
   "outputs": [
    {
     "data": {
      "text/plain": [
       "'2.0.0-beta1'"
      ]
     },
     "execution_count": 1,
     "metadata": {},
     "output_type": "execute_result"
    }
   ],
   "source": [
    "import tensorflow as tf\n",
    "tf.__version__"
   ]
  },
  {
   "cell_type": "markdown",
   "metadata": {},
   "source": [
    "# Dogs vs. Cats\n",
    "\n",
    "This is a continuation to the previous notebook. Here will try feature-extraction with a pretrained VGG16 model."
   ]
  },
  {
   "cell_type": "code",
   "execution_count": 2,
   "metadata": {},
   "outputs": [],
   "source": [
    "from tensorflow import keras\n",
    "from tensorflow.keras.applications import VGG16\n",
    "from tensorflow.keras.models import Sequential\n",
    "from tensorflow.keras.optimizers import RMSprop\n",
    "from tensorflow.keras import layers\n",
    "from tensorflow.keras.preprocessing.image import ImageDataGenerator\n",
    "\n",
    "from pathlib import Path\n",
    "Path.ls = lambda x: list(x.iterdir())\n",
    "\n",
    "import matplotlib.pyplot as plt\n",
    "%matplotlib inline\n",
    "\n",
    "import random as rand\n",
    "\n",
    "import numpy as np"
   ]
  },
  {
   "cell_type": "code",
   "execution_count": 3,
   "metadata": {},
   "outputs": [],
   "source": [
    "batch_size = 16"
   ]
  },
  {
   "cell_type": "markdown",
   "metadata": {},
   "source": [
    "## Prepare the dataset\n",
    "\n",
    "I manually downloaded the dataset from this [Kaggle competition](https://www.kaggle.com/c/dogs-vs-cats), unzipped it and here I will prepare for model training"
   ]
  },
  {
   "cell_type": "code",
   "execution_count": 4,
   "metadata": {},
   "outputs": [
    {
     "data": {
      "text/plain": [
       "[PosixPath('../data/preprocessed'), PosixPath('../data/raw')]"
      ]
     },
     "execution_count": 4,
     "metadata": {},
     "output_type": "execute_result"
    }
   ],
   "source": [
    "data_path = Path(\"../data\")\n",
    "data_path.ls()"
   ]
  },
  {
   "cell_type": "code",
   "execution_count": 5,
   "metadata": {},
   "outputs": [],
   "source": [
    "dogs_vs_cats_dir_name = \"dogs-vs-cats\"\n",
    "raw_dir_name = \"raw\"\n",
    "preprocessed_dir_name = \"preprocessed\"\n",
    "\n",
    "train_dir_name = \"train\"\n",
    "valid_dir_name = \"valid\"\n",
    "test_dir_name = \"test\"\n",
    "\n",
    "dogs_dir_name = \"dogs\"\n",
    "cats_dir_name = \"cats\"\n",
    "\n",
    "raw_data_path = data_path/raw_dir_name/dogs_vs_cats_dir_name\n",
    "preprocessed_data_path = data_path/preprocessed_dir_name/dogs_vs_cats_dir_name\n",
    "\n",
    "dogs_train_data_path = preprocessed_data_path/train_dir_name/dogs_dir_name\n",
    "cats_train_data_path = preprocessed_data_path/train_dir_name/cats_dir_name\n",
    "\n",
    "dogs_valid_data_path = preprocessed_data_path/valid_dir_name/dogs_dir_name\n",
    "cats_valid_data_path = preprocessed_data_path/valid_dir_name/cats_dir_name\n",
    "\n",
    "dogs_test_data_path = preprocessed_data_path/test_dir_name/dogs_dir_name\n",
    "cats_test_data_path = preprocessed_data_path/test_dir_name/cats_dir_name"
   ]
  },
  {
   "cell_type": "markdown",
   "metadata": {},
   "source": [
    "## Build data generators"
   ]
  },
  {
   "cell_type": "code",
   "execution_count": 7,
   "metadata": {},
   "outputs": [
    {
     "name": "stdout",
     "output_type": "stream",
     "text": [
      "Found 2000 images belonging to 2 classes.\n",
      "Found 1000 images belonging to 2 classes.\n",
      "Found 1000 images belonging to 2 classes.\n"
     ]
    }
   ],
   "source": [
    "train_datagen = ImageDataGenerator(\n",
    "    rescale=1/255,\n",
    "    rotation_range=40,\n",
    "    width_shift_range=0.2,\n",
    "    height_shift_range=0.2,\n",
    "    shear_range=0.2,\n",
    "    zoom_range=0.2,\n",
    "    horizontal_flip=True\n",
    ")\n",
    "\n",
    "test_datagen = ImageDataGenerator(rescale=1/255)\n",
    "\n",
    "train_generator = train_datagen.flow_from_directory(\n",
    "    str(preprocessed_data_path/train_dir_name),\n",
    "    target_size=(150, 150),\n",
    "    batch_size=batch_size,\n",
    "    class_mode='binary'\n",
    ")\n",
    "\n",
    "valid_generator = train_datagen.flow_from_directory(\n",
    "    str(preprocessed_data_path/valid_dir_name),\n",
    "    target_size=(150, 150),\n",
    "    batch_size=batch_size,\n",
    "    class_mode='binary'\n",
    ")\n",
    "\n",
    "test_generator = test_datagen.flow_from_directory(\n",
    "    str(preprocessed_data_path/test_dir_name),\n",
    "    target_size=(150, 150),\n",
    "    batch_size=batch_size,\n",
    "    class_mode='binary'\n",
    ")"
   ]
  },
  {
   "cell_type": "markdown",
   "metadata": {},
   "source": [
    "Check datagen outputs"
   ]
  },
  {
   "cell_type": "markdown",
   "metadata": {},
   "source": [
    "## Train a basic ConvNet model"
   ]
  },
  {
   "cell_type": "code",
   "execution_count": 7,
   "metadata": {},
   "outputs": [
    {
     "data": {
      "text/plain": [
       "(150, 150, 3)"
      ]
     },
     "execution_count": 7,
     "metadata": {},
     "output_type": "execute_result"
    }
   ],
   "source": [
    "input_shape = train_generator[0][0].shape[1:]\n",
    "input_shape"
   ]
  },
  {
   "cell_type": "code",
   "execution_count": 8,
   "metadata": {},
   "outputs": [
    {
     "name": "stdout",
     "output_type": "stream",
     "text": [
      "Model: \"sequential\"\n",
      "_________________________________________________________________\n",
      "Layer (type)                 Output Shape              Param #   \n",
      "=================================================================\n",
      "vgg16 (Model)                (None, 4, 4, 512)         14714688  \n",
      "_________________________________________________________________\n",
      "flatten (Flatten)            (None, 8192)              0         \n",
      "_________________________________________________________________\n",
      "dense (Dense)                (None, 256)               2097408   \n",
      "_________________________________________________________________\n",
      "dropout (Dropout)            (None, 256)               0         \n",
      "_________________________________________________________________\n",
      "dense_1 (Dense)              (None, 1)                 257       \n",
      "=================================================================\n",
      "Total params: 16,812,353\n",
      "Trainable params: 2,097,665\n",
      "Non-trainable params: 14,714,688\n",
      "_________________________________________________________________\n"
     ]
    }
   ],
   "source": [
    "model = Sequential()\n",
    "\n",
    "conv_base = VGG16(input_shape=input_shape,\n",
    "                  include_top=False,\n",
    "                  weights='imagenet')\n",
    "conv_base.trainable = False\n",
    "model.add(conv_base)\n",
    "\n",
    "model.add(layers.Flatten())\n",
    "model.add(layers.Dense(256, activation=\"relu\"))\n",
    "model.add(layers.Dropout(.5))\n",
    "model.add(layers.Dense(1, activation=\"sigmoid\"))\n",
    "\n",
    "model.summary()"
   ]
  },
  {
   "cell_type": "markdown",
   "metadata": {},
   "source": [
    "Check progress in TensorBoard by running `tensorboard --logdir=logs/dogs_vs_cats_v3` in terminal"
   ]
  },
  {
   "cell_type": "code",
   "execution_count": 9,
   "metadata": {},
   "outputs": [],
   "source": [
    "# Try removing the old logs first\n",
    "!rm -r ../logs/dogs_vs_cats_v3\n",
    "\n",
    "callbacks = [\n",
    "    keras.callbacks.TensorBoard(log_dir='../logs/dogs_vs_cats_v3')\n",
    "]"
   ]
  },
  {
   "cell_type": "code",
   "execution_count": 10,
   "metadata": {},
   "outputs": [],
   "source": [
    "model.compile(optimizer=RMSprop(lr=2e-5),\n",
    "              loss='binary_crossentropy',\n",
    "              metrics=['accuracy'])"
   ]
  },
  {
   "cell_type": "code",
   "execution_count": 11,
   "metadata": {},
   "outputs": [
    {
     "data": {
      "text/plain": [
       "(125, 63)"
      ]
     },
     "execution_count": 11,
     "metadata": {},
     "output_type": "execute_result"
    }
   ],
   "source": [
    "steps_per_epoch = len(train_generator)\n",
    "validation_steps = len(valid_generator)\n",
    "\n",
    "steps_per_epoch, validation_steps"
   ]
  },
  {
   "cell_type": "code",
   "execution_count": 12,
   "metadata": {},
   "outputs": [
    {
     "name": "stderr",
     "output_type": "stream",
     "text": [
      "WARNING: Logging before flag parsing goes to stderr.\n",
      "W0821 03:29:32.845804 140435048908544 deprecation.py:323] From /usr/local/lib/python3.5/dist-packages/tensorflow/python/ops/math_grad.py:1250: add_dispatch_support.<locals>.wrapper (from tensorflow.python.ops.array_ops) is deprecated and will be removed in a future version.\n",
      "Instructions for updating:\n",
      "Use tf.where in 2.0, which has the same broadcast rule as np.where\n"
     ]
    },
    {
     "name": "stdout",
     "output_type": "stream",
     "text": [
      "Epoch 1/30\n",
      "  1/125 [..............................] - ETA: 8:55 - loss: 0.8169 - accuracy: 0.4375"
     ]
    },
    {
     "name": "stderr",
     "output_type": "stream",
     "text": [
      "W0821 03:29:37.085351 140435048908544 callbacks.py:241] Method (on_train_batch_end) is slow compared to the batch update (0.285689). Check your callbacks.\n"
     ]
    },
    {
     "name": "stdout",
     "output_type": "stream",
     "text": [
      "125/125 [==============================] - 24s 189ms/step - loss: 0.6969 - accuracy: 0.5775 - val_loss: 0.5622 - val_accuracy: 0.7300\n",
      "Epoch 2/30\n",
      "125/125 [==============================] - 18s 145ms/step - loss: 0.5580 - accuracy: 0.7095 - val_loss: 0.4955 - val_accuracy: 0.7820\n",
      "Epoch 3/30\n",
      "125/125 [==============================] - 19s 148ms/step - loss: 0.5072 - accuracy: 0.7530 - val_loss: 0.4619 - val_accuracy: 0.7970\n",
      "Epoch 4/30\n",
      "125/125 [==============================] - 18s 147ms/step - loss: 0.4640 - accuracy: 0.7815 - val_loss: 0.4505 - val_accuracy: 0.7880\n",
      "Epoch 5/30\n",
      "125/125 [==============================] - 19s 149ms/step - loss: 0.4601 - accuracy: 0.7880 - val_loss: 0.4149 - val_accuracy: 0.8160\n",
      "Epoch 6/30\n",
      "125/125 [==============================] - 18s 148ms/step - loss: 0.4438 - accuracy: 0.7880 - val_loss: 0.4194 - val_accuracy: 0.8050\n",
      "Epoch 7/30\n",
      "125/125 [==============================] - 18s 147ms/step - loss: 0.4446 - accuracy: 0.7870 - val_loss: 0.4221 - val_accuracy: 0.8090\n",
      "Epoch 8/30\n",
      "125/125 [==============================] - 19s 149ms/step - loss: 0.4234 - accuracy: 0.8110 - val_loss: 0.3895 - val_accuracy: 0.8300\n",
      "Epoch 9/30\n",
      "125/125 [==============================] - 19s 149ms/step - loss: 0.4152 - accuracy: 0.8035 - val_loss: 0.3983 - val_accuracy: 0.8210\n",
      "Epoch 10/30\n",
      "125/125 [==============================] - 18s 146ms/step - loss: 0.3913 - accuracy: 0.8160 - val_loss: 0.3931 - val_accuracy: 0.8150\n",
      "Epoch 11/30\n",
      "125/125 [==============================] - 18s 147ms/step - loss: 0.3997 - accuracy: 0.8180 - val_loss: 0.3864 - val_accuracy: 0.8240\n",
      "Epoch 12/30\n",
      "125/125 [==============================] - 19s 149ms/step - loss: 0.4041 - accuracy: 0.8165 - val_loss: 0.3744 - val_accuracy: 0.8230\n",
      "Epoch 13/30\n",
      "125/125 [==============================] - 18s 146ms/step - loss: 0.3839 - accuracy: 0.8305 - val_loss: 0.3670 - val_accuracy: 0.8230\n",
      "Epoch 14/30\n",
      "125/125 [==============================] - 19s 148ms/step - loss: 0.3683 - accuracy: 0.8400 - val_loss: 0.3627 - val_accuracy: 0.8270\n",
      "Epoch 15/30\n",
      "125/125 [==============================] - 18s 147ms/step - loss: 0.3825 - accuracy: 0.8345 - val_loss: 0.3597 - val_accuracy: 0.8360\n",
      "Epoch 16/30\n",
      "125/125 [==============================] - 19s 148ms/step - loss: 0.3825 - accuracy: 0.8295 - val_loss: 0.3705 - val_accuracy: 0.8230\n",
      "Epoch 17/30\n",
      "125/125 [==============================] - 18s 147ms/step - loss: 0.3626 - accuracy: 0.8350 - val_loss: 0.3673 - val_accuracy: 0.8290\n",
      "Epoch 18/30\n",
      "125/125 [==============================] - 18s 148ms/step - loss: 0.3582 - accuracy: 0.8380 - val_loss: 0.3667 - val_accuracy: 0.8290\n",
      "Epoch 19/30\n",
      "125/125 [==============================] - 18s 148ms/step - loss: 0.3608 - accuracy: 0.8365 - val_loss: 0.3529 - val_accuracy: 0.8350\n",
      "Epoch 20/30\n",
      "125/125 [==============================] - 18s 148ms/step - loss: 0.3510 - accuracy: 0.8350 - val_loss: 0.3745 - val_accuracy: 0.8310\n",
      "Epoch 21/30\n",
      "125/125 [==============================] - 18s 148ms/step - loss: 0.3661 - accuracy: 0.8280 - val_loss: 0.3641 - val_accuracy: 0.8370\n",
      "Epoch 22/30\n",
      "125/125 [==============================] - 18s 147ms/step - loss: 0.3562 - accuracy: 0.8440 - val_loss: 0.3636 - val_accuracy: 0.8270\n",
      "Epoch 23/30\n",
      "125/125 [==============================] - 18s 148ms/step - loss: 0.3498 - accuracy: 0.8420 - val_loss: 0.3567 - val_accuracy: 0.8330\n",
      "Epoch 24/30\n",
      "125/125 [==============================] - 18s 144ms/step - loss: 0.3485 - accuracy: 0.8430 - val_loss: 0.3419 - val_accuracy: 0.8400\n",
      "Epoch 25/30\n",
      "125/125 [==============================] - 19s 150ms/step - loss: 0.3452 - accuracy: 0.8485 - val_loss: 0.3331 - val_accuracy: 0.8470\n",
      "Epoch 26/30\n",
      "125/125 [==============================] - 18s 146ms/step - loss: 0.3330 - accuracy: 0.8570 - val_loss: 0.3484 - val_accuracy: 0.8400\n",
      "Epoch 27/30\n",
      "125/125 [==============================] - 18s 145ms/step - loss: 0.3397 - accuracy: 0.8510 - val_loss: 0.3342 - val_accuracy: 0.8480\n",
      "Epoch 28/30\n",
      "125/125 [==============================] - 18s 146ms/step - loss: 0.3475 - accuracy: 0.8430 - val_loss: 0.3831 - val_accuracy: 0.8190\n",
      "Epoch 29/30\n",
      "125/125 [==============================] - 18s 146ms/step - loss: 0.3255 - accuracy: 0.8600 - val_loss: 0.3428 - val_accuracy: 0.8390\n",
      "Epoch 30/30\n",
      "125/125 [==============================] - 18s 147ms/step - loss: 0.3465 - accuracy: 0.8450 - val_loss: 0.3497 - val_accuracy: 0.8330\n"
     ]
    },
    {
     "data": {
      "text/plain": [
       "dict_keys(['accuracy', 'val_accuracy', 'val_loss', 'loss'])"
      ]
     },
     "execution_count": 12,
     "metadata": {},
     "output_type": "execute_result"
    }
   ],
   "source": [
    "history = model.fit_generator(\n",
    "    train_generator,\n",
    "    steps_per_epoch=steps_per_epoch,\n",
    "    epochs=30,\n",
    "    callbacks=callbacks,\n",
    "    validation_data=valid_generator,\n",
    "    validation_steps=validation_steps\n",
    ")\n",
    "history.history.keys()"
   ]
  },
  {
   "cell_type": "code",
   "execution_count": 13,
   "metadata": {},
   "outputs": [
    {
     "data": {
      "image/png": "[encoded data removed]",
      "text/plain": [
       "<Figure size 1440x720 with 2 Axes>"
      ]
     },
     "metadata": {
      "needs_background": "light"
     },
     "output_type": "display_data"
    }
   ],
   "source": [
    "fig = plt.figure(figsize=(20, 10))\n",
    "\n",
    "plt.subplot(1, 2, 1)\n",
    "plt.plot(history.history['accuracy'])\n",
    "plt.plot(history.history['val_accuracy'])\n",
    "plt.title('Model accuracy')\n",
    "plt.ylabel('accuracy')\n",
    "plt.xlabel('epoch')\n",
    "plt.legend(['train', 'validation'], loc='upper left')\n",
    "\n",
    "plt.subplot(1, 2, 2)\n",
    "plt.plot(history.history['loss'])\n",
    "plt.plot(history.history['val_loss'])\n",
    "plt.title('Model loss')\n",
    "plt.ylabel('loss')\n",
    "plt.xlabel('epoch')\n",
    "plt.legend(['train', 'validation'], loc='upper left')\n",
    "\n",
    "plt.show()"
   ]
  },
  {
   "cell_type": "markdown",
   "metadata": {},
   "source": [
    "## Save the model"
   ]
  },
  {
   "cell_type": "code",
   "execution_count": 8,
   "metadata": {},
   "outputs": [],
   "source": [
    "weights_path = Path(\"../weights\")\n",
    "weights_path.mkdir(parents=True, exist_ok=True)"
   ]
  },
  {
   "cell_type": "code",
   "execution_count": 15,
   "metadata": {},
   "outputs": [],
   "source": [
    "model.save(str(weights_path/\"dogs_vs_cats_v3.h5\"))"
   ]
  },
  {
   "cell_type": "markdown",
   "metadata": {},
   "source": [
    "## Evaluate"
   ]
  },
  {
   "cell_type": "markdown",
   "metadata": {},
   "source": [
    "Load the saved model"
   ]
  },
  {
   "cell_type": "code",
   "execution_count": 9,
   "metadata": {},
   "outputs": [
    {
     "name": "stderr",
     "output_type": "stream",
     "text": [
      "WARNING: Logging before flag parsing goes to stderr.\n",
      "W0822 09:30:41.087193 4569847232 deprecation.py:323] From /Users/mostafagazar/anaconda3/envs/keras/lib/python3.6/site-packages/tensorflow/python/ops/math_grad.py:1250: add_dispatch_support.<locals>.wrapper (from tensorflow.python.ops.array_ops) is deprecated and will be removed in a future version.\n",
      "Instructions for updating:\n",
      "Use tf.where in 2.0, which has the same broadcast rule as np.where\n"
     ]
    }
   ],
   "source": [
    "model = keras.models.load_model(str(weights_path/\"dogs_vs_cats_v3.h5\"))"
   ]
  },
  {
   "cell_type": "code",
   "execution_count": 10,
   "metadata": {},
   "outputs": [
    {
     "name": "stdout",
     "output_type": "stream",
     "text": [
      "Model: \"sequential\"\n",
      "_________________________________________________________________\n",
      "Layer (type)                 Output Shape              Param #   \n",
      "=================================================================\n",
      "vgg16 (Model)                (None, 4, 4, 512)         14714688  \n",
      "_________________________________________________________________\n",
      "flatten (Flatten)            (None, 8192)              0         \n",
      "_________________________________________________________________\n",
      "dense (Dense)                (None, 256)               2097408   \n",
      "_________________________________________________________________\n",
      "dropout (Dropout)            (None, 256)               0         \n",
      "_________________________________________________________________\n",
      "dense_1 (Dense)              (None, 1)                 257       \n",
      "=================================================================\n",
      "Total params: 16,812,353\n",
      "Trainable params: 0\n",
      "Non-trainable params: 16,812,353\n",
      "_________________________________________________________________\n"
     ]
    }
   ],
   "source": [
    "model.trainable = False\n",
    "\n",
    "# Compile model so changes to trainable would take effect\n",
    "model.compile(optimizer='rmsprop', loss='binary_crossentropy', metrics=['accuracy'])\n",
    "\n",
    "model.summary()"
   ]
  },
  {
   "cell_type": "code",
   "execution_count": 11,
   "metadata": {},
   "outputs": [
    {
     "data": {
      "text/plain": [
       "(0.26432626883661936, 0.898)"
      ]
     },
     "execution_count": 11,
     "metadata": {},
     "output_type": "execute_result"
    }
   ],
   "source": [
    "steps = len(test_generator)\n",
    "\n",
    "loss, accuracy = model.evaluate_generator(\n",
    "    test_generator,\n",
    "    steps=steps\n",
    ")\n",
    "loss, accuracy"
   ]
  },
  {
   "cell_type": "code",
   "execution_count": null,
   "metadata": {},
   "outputs": [],
   "source": []
  }
 ],
 "metadata": {
  "kernelspec": {
   "display_name": "keras",
   "language": "python",
   "name": "keras"
  },
  "language_info": {
   "codemirror_mode": {
    "name": "ipython",
    "version": 3
   },
   "file_extension": ".py",
   "mimetype": "text/x-python",
   "name": "python",
   "nbconvert_exporter": "python",
   "pygments_lexer": "ipython3",
   "version": "3.6.9"
  }
 },
 "nbformat": 4,
 "nbformat_minor": 2
}
